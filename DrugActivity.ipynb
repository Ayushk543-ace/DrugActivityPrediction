{
  "cells": [
    {
      "cell_type": "code",
      "execution_count": 1,
      "metadata": {
        "id": "3PN1Va44Z6Dq"
      },
      "outputs": [],
      "source": [
        "import pandas as pd\n",
        "import sklearn\n",
        "import numpy as np\n",
        "from sklearn.preprocessing import OneHotEncoder"
      ]
    },
    {
      "cell_type": "markdown",
      "metadata": {
        "id": "dmQ8y4bDu3Fa"
      },
      "source": [
        "### Data Read and using functions"
      ]
    },
    {
      "cell_type": "code",
      "execution_count": 2,
      "metadata": {
        "colab": {
          "base_uri": "https://localhost:8080/",
          "height": 349
        },
        "id": "f4ozXFTkaQoh",
        "outputId": "ebd3303c-90a6-42c5-fe1e-6b8b8b5ec20b"
      },
      "outputs": [
        {
          "data": {
            "text/html": [
              "<div>\n",
              "<style scoped>\n",
              "    .dataframe tbody tr th:only-of-type {\n",
              "        vertical-align: middle;\n",
              "    }\n",
              "\n",
              "    .dataframe tbody tr th {\n",
              "        vertical-align: top;\n",
              "    }\n",
              "\n",
              "    .dataframe thead th {\n",
              "        text-align: right;\n",
              "    }\n",
              "</style>\n",
              "<table border=\"1\" class=\"dataframe\">\n",
              "  <thead>\n",
              "    <tr style=\"text-align: right;\">\n",
              "      <th></th>\n",
              "      <th>ID</th>\n",
              "      <th>Age</th>\n",
              "      <th>Gender</th>\n",
              "      <th>Education</th>\n",
              "      <th>Country</th>\n",
              "      <th>Ethnicity</th>\n",
              "      <th>Nscore</th>\n",
              "      <th>Escore</th>\n",
              "      <th>Oscore</th>\n",
              "      <th>AScore</th>\n",
              "      <th>...</th>\n",
              "      <th>Ecstasy</th>\n",
              "      <th>Heroin</th>\n",
              "      <th>Ketamine</th>\n",
              "      <th>Legalh</th>\n",
              "      <th>LSD</th>\n",
              "      <th>Meth</th>\n",
              "      <th>Mushrooms</th>\n",
              "      <th>Nicotine</th>\n",
              "      <th>Semer</th>\n",
              "      <th>VSA</th>\n",
              "    </tr>\n",
              "  </thead>\n",
              "  <tbody>\n",
              "    <tr>\n",
              "      <th>0</th>\n",
              "      <td>2</td>\n",
              "      <td>25-34</td>\n",
              "      <td>M</td>\n",
              "      <td>Doctorate degree</td>\n",
              "      <td>UK</td>\n",
              "      <td>White</td>\n",
              "      <td>-0.67825</td>\n",
              "      <td>1.93886</td>\n",
              "      <td>1.43533</td>\n",
              "      <td>0.76096</td>\n",
              "      <td>...</td>\n",
              "      <td>CL4</td>\n",
              "      <td>CL0</td>\n",
              "      <td>CL2</td>\n",
              "      <td>CL0</td>\n",
              "      <td>CL2</td>\n",
              "      <td>CL3</td>\n",
              "      <td>CL0</td>\n",
              "      <td>CL4</td>\n",
              "      <td>CL0</td>\n",
              "      <td>CL0</td>\n",
              "    </tr>\n",
              "    <tr>\n",
              "      <th>1</th>\n",
              "      <td>3</td>\n",
              "      <td>35-44</td>\n",
              "      <td>M</td>\n",
              "      <td>Professional certificate/ diploma</td>\n",
              "      <td>UK</td>\n",
              "      <td>White</td>\n",
              "      <td>-0.46725</td>\n",
              "      <td>0.80523</td>\n",
              "      <td>-0.84732</td>\n",
              "      <td>-1.62090</td>\n",
              "      <td>...</td>\n",
              "      <td>CL0</td>\n",
              "      <td>CL0</td>\n",
              "      <td>CL0</td>\n",
              "      <td>CL0</td>\n",
              "      <td>CL0</td>\n",
              "      <td>CL0</td>\n",
              "      <td>CL1</td>\n",
              "      <td>CL0</td>\n",
              "      <td>CL0</td>\n",
              "      <td>CL0</td>\n",
              "    </tr>\n",
              "    <tr>\n",
              "      <th>2</th>\n",
              "      <td>4</td>\n",
              "      <td>18-24</td>\n",
              "      <td>F</td>\n",
              "      <td>Masters degree</td>\n",
              "      <td>UK</td>\n",
              "      <td>White</td>\n",
              "      <td>-0.14882</td>\n",
              "      <td>-0.80615</td>\n",
              "      <td>-0.01928</td>\n",
              "      <td>0.59042</td>\n",
              "      <td>...</td>\n",
              "      <td>CL0</td>\n",
              "      <td>CL0</td>\n",
              "      <td>CL2</td>\n",
              "      <td>CL0</td>\n",
              "      <td>CL0</td>\n",
              "      <td>CL0</td>\n",
              "      <td>CL0</td>\n",
              "      <td>CL2</td>\n",
              "      <td>CL0</td>\n",
              "      <td>CL0</td>\n",
              "    </tr>\n",
              "    <tr>\n",
              "      <th>3</th>\n",
              "      <td>5</td>\n",
              "      <td>35-44</td>\n",
              "      <td>F</td>\n",
              "      <td>Doctorate degree</td>\n",
              "      <td>UK</td>\n",
              "      <td>White</td>\n",
              "      <td>0.73545</td>\n",
              "      <td>-1.63340</td>\n",
              "      <td>-0.45174</td>\n",
              "      <td>-0.30172</td>\n",
              "      <td>...</td>\n",
              "      <td>CL1</td>\n",
              "      <td>CL0</td>\n",
              "      <td>CL0</td>\n",
              "      <td>CL1</td>\n",
              "      <td>CL0</td>\n",
              "      <td>CL0</td>\n",
              "      <td>CL2</td>\n",
              "      <td>CL2</td>\n",
              "      <td>CL0</td>\n",
              "      <td>CL0</td>\n",
              "    </tr>\n",
              "    <tr>\n",
              "      <th>4</th>\n",
              "      <td>6</td>\n",
              "      <td>65+</td>\n",
              "      <td>F</td>\n",
              "      <td>Left school at 18 years</td>\n",
              "      <td>Canada</td>\n",
              "      <td>White</td>\n",
              "      <td>-0.67825</td>\n",
              "      <td>-0.30033</td>\n",
              "      <td>-1.55521</td>\n",
              "      <td>2.03972</td>\n",
              "      <td>...</td>\n",
              "      <td>CL0</td>\n",
              "      <td>CL0</td>\n",
              "      <td>CL0</td>\n",
              "      <td>CL0</td>\n",
              "      <td>CL0</td>\n",
              "      <td>CL0</td>\n",
              "      <td>CL0</td>\n",
              "      <td>CL6</td>\n",
              "      <td>CL0</td>\n",
              "      <td>CL0</td>\n",
              "    </tr>\n",
              "  </tbody>\n",
              "</table>\n",
              "<p>5 rows × 32 columns</p>\n",
              "</div>"
            ],
            "text/plain": [
              "   ID    Age Gender                          Education Country Ethnicity  \\\n",
              "0   2  25-34      M                   Doctorate degree      UK     White   \n",
              "1   3  35-44      M  Professional certificate/ diploma      UK     White   \n",
              "2   4  18-24      F                     Masters degree      UK     White   \n",
              "3   5  35-44      F                   Doctorate degree      UK     White   \n",
              "4   6    65+      F            Left school at 18 years  Canada     White   \n",
              "\n",
              "    Nscore   Escore   Oscore   AScore  ...  Ecstasy  Heroin  Ketamine Legalh  \\\n",
              "0 -0.67825  1.93886  1.43533  0.76096  ...      CL4     CL0       CL2    CL0   \n",
              "1 -0.46725  0.80523 -0.84732 -1.62090  ...      CL0     CL0       CL0    CL0   \n",
              "2 -0.14882 -0.80615 -0.01928  0.59042  ...      CL0     CL0       CL2    CL0   \n",
              "3  0.73545 -1.63340 -0.45174 -0.30172  ...      CL1     CL0       CL0    CL1   \n",
              "4 -0.67825 -0.30033 -1.55521  2.03972  ...      CL0     CL0       CL0    CL0   \n",
              "\n",
              "   LSD Meth Mushrooms Nicotine Semer  VSA  \n",
              "0  CL2  CL3       CL0      CL4   CL0  CL0  \n",
              "1  CL0  CL0       CL1      CL0   CL0  CL0  \n",
              "2  CL0  CL0       CL0      CL2   CL0  CL0  \n",
              "3  CL0  CL0       CL2      CL2   CL0  CL0  \n",
              "4  CL0  CL0       CL0      CL6   CL0  CL0  \n",
              "\n",
              "[5 rows x 32 columns]"
            ]
          },
          "execution_count": 2,
          "metadata": {},
          "output_type": "execute_result"
        }
      ],
      "source": [
        "df = pd.read_csv('https://github.com/Ayushk543-ace/Dataset/raw/main/Drug_Consumption.csv')\n",
        "df.head()"
      ]
    },
    {
      "cell_type": "code",
      "execution_count": 3,
      "metadata": {
        "colab": {
          "base_uri": "https://localhost:8080/"
        },
        "id": "umiLnqTAaguI",
        "outputId": "71a72a24-74a4-4a1d-b21c-e67661b83003"
      },
      "outputs": [
        {
          "name": "stdout",
          "output_type": "stream",
          "text": [
            "<class 'pandas.core.frame.DataFrame'>\n",
            "RangeIndex: 1884 entries, 0 to 1883\n",
            "Data columns (total 32 columns):\n",
            " #   Column     Non-Null Count  Dtype  \n",
            "---  ------     --------------  -----  \n",
            " 0   ID         1884 non-null   int64  \n",
            " 1   Age        1884 non-null   object \n",
            " 2   Gender     1884 non-null   object \n",
            " 3   Education  1884 non-null   object \n",
            " 4   Country    1884 non-null   object \n",
            " 5   Ethnicity  1884 non-null   object \n",
            " 6   Nscore     1884 non-null   float64\n",
            " 7   Escore     1884 non-null   float64\n",
            " 8   Oscore     1884 non-null   float64\n",
            " 9   AScore     1884 non-null   float64\n",
            " 10  Cscore     1884 non-null   float64\n",
            " 11  Impulsive  1884 non-null   float64\n",
            " 12  SS         1884 non-null   float64\n",
            " 13  Alcohol    1884 non-null   object \n",
            " 14  Amphet     1884 non-null   object \n",
            " 15  Amyl       1884 non-null   object \n",
            " 16  Benzos     1884 non-null   object \n",
            " 17  Caff       1884 non-null   object \n",
            " 18  Cannabis   1884 non-null   object \n",
            " 19  Choc       1884 non-null   object \n",
            " 20  Coke       1884 non-null   object \n",
            " 21  Crack      1884 non-null   object \n",
            " 22  Ecstasy    1884 non-null   object \n",
            " 23  Heroin     1884 non-null   object \n",
            " 24  Ketamine   1884 non-null   object \n",
            " 25  Legalh     1884 non-null   object \n",
            " 26  LSD        1884 non-null   object \n",
            " 27  Meth       1884 non-null   object \n",
            " 28  Mushrooms  1884 non-null   object \n",
            " 29  Nicotine   1884 non-null   object \n",
            " 30  Semer      1884 non-null   object \n",
            " 31  VSA        1884 non-null   object \n",
            "dtypes: float64(7), int64(1), object(24)\n",
            "memory usage: 471.1+ KB\n"
          ]
        }
      ],
      "source": [
        "df.info()"
      ]
    },
    {
      "cell_type": "code",
      "execution_count": 4,
      "metadata": {
        "colab": {
          "base_uri": "https://localhost:8080/"
        },
        "id": "LhXaqRjqaQrb",
        "outputId": "68cf02a1-8e1a-4a4b-c7e0-0c99513d8203"
      },
      "outputs": [
        {
          "data": {
            "text/plain": [
              "array(['25-34', '35-44', '18-24', '65+', '45-54', '55-64'], dtype=object)"
            ]
          },
          "execution_count": 4,
          "metadata": {},
          "output_type": "execute_result"
        }
      ],
      "source": [
        "df.Age.unique()"
      ]
    },
    {
      "cell_type": "code",
      "execution_count": 5,
      "metadata": {
        "id": "f4KO9qyiaQuC"
      },
      "outputs": [],
      "source": [
        "df['Age']=df['Age'].astype('category')"
      ]
    },
    {
      "cell_type": "code",
      "execution_count": 6,
      "metadata": {
        "id": "vqktZfS7aQwp"
      },
      "outputs": [],
      "source": [
        "df['New_Age']=df['Age'].cat.codes"
      ]
    },
    {
      "cell_type": "code",
      "execution_count": 7,
      "metadata": {
        "colab": {
          "base_uri": "https://localhost:8080/"
        },
        "id": "9y-rsBAyaQzg",
        "outputId": "5f4dab2c-1007-4ec4-84e8-18bddb5e9bc4"
      },
      "outputs": [
        {
          "data": {
            "text/plain": [
              "0       1\n",
              "1       2\n",
              "2       0\n",
              "3       2\n",
              "4       5\n",
              "       ..\n",
              "1879    0\n",
              "1880    0\n",
              "1881    1\n",
              "1882    0\n",
              "1883    0\n",
              "Name: New_Age, Length: 1884, dtype: int8"
            ]
          },
          "execution_count": 7,
          "metadata": {},
          "output_type": "execute_result"
        }
      ],
      "source": [
        "df.New_Age"
      ]
    },
    {
      "cell_type": "markdown",
      "metadata": {
        "id": "1c3kS_QhwJCM"
      },
      "source": [
        "###Droping unwanted columns"
      ]
    },
    {
      "cell_type": "code",
      "execution_count": 8,
      "metadata": {
        "id": "BnYO9iISaQ2I"
      },
      "outputs": [],
      "source": [
        "df.drop(['Age'],inplace=True,axis=1)"
      ]
    },
    {
      "cell_type": "code",
      "execution_count": 9,
      "metadata": {
        "id": "H--Hy3lCaQ8H"
      },
      "outputs": [],
      "source": [
        "df.drop(['Education'],inplace=True,axis=1)"
      ]
    },
    {
      "cell_type": "code",
      "execution_count": 10,
      "metadata": {
        "id": "TSP0It8tdJ85"
      },
      "outputs": [],
      "source": [
        "df.drop(['Ethnicity'],inplace=True,axis=1)"
      ]
    },
    {
      "cell_type": "code",
      "execution_count": 11,
      "metadata": {
        "id": "C_uXrohCcS5Y"
      },
      "outputs": [],
      "source": [
        "df.drop(['VSA'],inplace=True,axis=1)"
      ]
    },
    {
      "cell_type": "code",
      "execution_count": 12,
      "metadata": {
        "id": "C2ItDmBScS-K"
      },
      "outputs": [],
      "source": [
        "df.drop(['Semer'],inplace=True,axis=1)"
      ]
    },
    {
      "cell_type": "code",
      "execution_count": 13,
      "metadata": {
        "id": "lXA2A-0lcTAi"
      },
      "outputs": [],
      "source": [
        "df.drop(['Nicotine'],inplace=True,axis=1)"
      ]
    },
    {
      "cell_type": "code",
      "execution_count": 14,
      "metadata": {
        "id": "euJlGnAbcTDA"
      },
      "outputs": [],
      "source": [
        "df.drop(['Mushrooms'],inplace=True,axis=1)"
      ]
    },
    {
      "cell_type": "code",
      "execution_count": 15,
      "metadata": {
        "id": "b1dPuVtxfwHZ"
      },
      "outputs": [],
      "source": [
        "df.drop(['Meth'],inplace=True,axis=1)"
      ]
    },
    {
      "cell_type": "code",
      "execution_count": 16,
      "metadata": {
        "id": "-NvzWCUpfwKw"
      },
      "outputs": [],
      "source": [
        "df.drop(['Ecstasy'],inplace=True,axis=1)"
      ]
    },
    {
      "cell_type": "markdown",
      "metadata": {
        "id": "-iB-GoShwWbj"
      },
      "source": [
        "### covert objects into int "
      ]
    },
    {
      "cell_type": "code",
      "execution_count": 17,
      "metadata": {
        "colab": {
          "base_uri": "https://localhost:8080/"
        },
        "id": "m7_hHbqscTH1",
        "outputId": "69262bdb-50cf-460f-f141-9e8816f1063e"
      },
      "outputs": [
        {
          "data": {
            "text/plain": [
              "0       1\n",
              "1       1\n",
              "2       0\n",
              "3       0\n",
              "4       0\n",
              "       ..\n",
              "1879    0\n",
              "1880    1\n",
              "1881    0\n",
              "1882    0\n",
              "1883    1\n",
              "Name: New_Gender, Length: 1884, dtype: int8"
            ]
          },
          "execution_count": 17,
          "metadata": {},
          "output_type": "execute_result"
        }
      ],
      "source": [
        "df['Gender']=df['Gender'].astype('category')\n",
        "df['New_Gender']=df['Gender'].cat.codes\n",
        "df.New_Gender"
      ]
    },
    {
      "cell_type": "code",
      "execution_count": 18,
      "metadata": {
        "id": "4dtwZg2FhzVo"
      },
      "outputs": [],
      "source": [
        "df.drop(['Gender'],inplace=True,axis=1)"
      ]
    },
    {
      "cell_type": "code",
      "execution_count": 19,
      "metadata": {
        "colab": {
          "base_uri": "https://localhost:8080/"
        },
        "id": "wT2OffppcTKS",
        "outputId": "e16c5317-ccd2-48ef-fd90-75db7926cf20"
      },
      "outputs": [
        {
          "data": {
            "text/plain": [
              "0       5\n",
              "1       5\n",
              "2       5\n",
              "3       5\n",
              "4       1\n",
              "       ..\n",
              "1879    6\n",
              "1880    6\n",
              "1881    6\n",
              "1882    6\n",
              "1883    4\n",
              "Name: New_Country, Length: 1884, dtype: int8"
            ]
          },
          "execution_count": 19,
          "metadata": {},
          "output_type": "execute_result"
        }
      ],
      "source": [
        "df['Country']=df['Country'].astype('category')\n",
        "df['New_Country']=df['Country'].cat.codes\n",
        "df.New_Country "
      ]
    },
    {
      "cell_type": "code",
      "execution_count": 20,
      "metadata": {
        "id": "OJ3GOQaqh2O4"
      },
      "outputs": [],
      "source": [
        "df.drop(['Country'],inplace=True,axis=1)"
      ]
    },
    {
      "cell_type": "code",
      "execution_count": 21,
      "metadata": {
        "colab": {
          "base_uri": "https://localhost:8080/"
        },
        "id": "736PPjUkcTNx",
        "outputId": "20e53e59-57f6-4522-a2c4-fef7d0564883"
      },
      "outputs": [
        {
          "data": {
            "text/plain": [
              "0       5\n",
              "1       6\n",
              "2       4\n",
              "3       4\n",
              "4       2\n",
              "       ..\n",
              "1879    5\n",
              "1880    5\n",
              "1881    4\n",
              "1882    5\n",
              "1883    4\n",
              "Name: New_Alcohol, Length: 1884, dtype: int8"
            ]
          },
          "execution_count": 21,
          "metadata": {},
          "output_type": "execute_result"
        }
      ],
      "source": [
        "df['Alcohol']=df['Alcohol'].astype('category')\n",
        "df['New_Alcohol']=df['Alcohol'].cat.codes\n",
        "df.New_Alcohol"
      ]
    },
    {
      "cell_type": "code",
      "execution_count": 22,
      "metadata": {
        "id": "Qh6UhLW6h5KK"
      },
      "outputs": [],
      "source": [
        "df.drop(['Alcohol'],inplace=True,axis=1)"
      ]
    },
    {
      "cell_type": "code",
      "execution_count": 23,
      "metadata": {
        "colab": {
          "base_uri": "https://localhost:8080/"
        },
        "id": "OGgquxkRdUi6",
        "outputId": "f7911527-76a1-4ac2-8531-4b47c919a64a"
      },
      "outputs": [
        {
          "data": {
            "text/plain": [
              "0       2\n",
              "1       0\n",
              "2       0\n",
              "3       1\n",
              "4       0\n",
              "       ..\n",
              "1879    0\n",
              "1880    0\n",
              "1881    6\n",
              "1882    0\n",
              "1883    3\n",
              "Name: New_Amphet, Length: 1884, dtype: int8"
            ]
          },
          "execution_count": 23,
          "metadata": {},
          "output_type": "execute_result"
        }
      ],
      "source": [
        "df['Amphet']=df['Amphet'].astype('category')\n",
        "df['New_Amphet']=df['Amphet'].cat.codes\n",
        "df.New_Amphet"
      ]
    },
    {
      "cell_type": "code",
      "execution_count": 24,
      "metadata": {
        "id": "MQtUHilCh-wu"
      },
      "outputs": [],
      "source": [
        "df.drop(['Amphet'],inplace=True,axis=1)"
      ]
    },
    {
      "cell_type": "code",
      "execution_count": 25,
      "metadata": {
        "colab": {
          "base_uri": "https://localhost:8080/"
        },
        "id": "AknMHcMRdUp9",
        "outputId": "922c01d1-e223-4edd-c284-4035c80ba5c8"
      },
      "outputs": [
        {
          "data": {
            "text/plain": [
              "0       2\n",
              "1       0\n",
              "2       0\n",
              "3       1\n",
              "4       0\n",
              "       ..\n",
              "1879    0\n",
              "1880    0\n",
              "1881    5\n",
              "1882    0\n",
              "1883    0\n",
              "Name: New_Amyl, Length: 1884, dtype: int8"
            ]
          },
          "execution_count": 25,
          "metadata": {},
          "output_type": "execute_result"
        }
      ],
      "source": [
        "df['Amyl']=df['Amyl'].astype('category')\n",
        "df['New_Amyl']=df['Amyl'].cat.codes\n",
        "df.New_Amyl"
      ]
    },
    {
      "cell_type": "code",
      "execution_count": 26,
      "metadata": {
        "id": "dx7CHfAKiB6w"
      },
      "outputs": [],
      "source": [
        "df.drop(['Amyl'],inplace=True,axis=1)"
      ]
    },
    {
      "cell_type": "code",
      "execution_count": 27,
      "metadata": {
        "colab": {
          "base_uri": "https://localhost:8080/"
        },
        "id": "J64yPk77dUwI",
        "outputId": "d0dffb2b-9f85-447c-9a1a-be6e6127b6f3"
      },
      "outputs": [
        {
          "data": {
            "text/plain": [
              "0       0\n",
              "1       0\n",
              "2       3\n",
              "3       0\n",
              "4       0\n",
              "       ..\n",
              "1879    0\n",
              "1880    0\n",
              "1881    5\n",
              "1882    0\n",
              "1883    3\n",
              "Name: New_Benzos, Length: 1884, dtype: int8"
            ]
          },
          "execution_count": 27,
          "metadata": {},
          "output_type": "execute_result"
        }
      ],
      "source": [
        "df['Benzos']=df['Benzos'].astype('category')\n",
        "df['New_Benzos']=df['Benzos'].cat.codes\n",
        "df.New_Benzos"
      ]
    },
    {
      "cell_type": "code",
      "execution_count": 28,
      "metadata": {
        "id": "DwuIdJYziETu"
      },
      "outputs": [],
      "source": [
        "df.drop(['Benzos'],inplace=True,axis=1)"
      ]
    },
    {
      "cell_type": "code",
      "execution_count": 29,
      "metadata": {
        "colab": {
          "base_uri": "https://localhost:8080/"
        },
        "id": "iqap7_tBdU1b",
        "outputId": "b20db53c-3f04-4baa-8f05-8ce7feb87b21"
      },
      "outputs": [
        {
          "data": {
            "text/plain": [
              "0       6\n",
              "1       6\n",
              "2       5\n",
              "3       6\n",
              "4       6\n",
              "       ..\n",
              "1879    4\n",
              "1880    5\n",
              "1881    6\n",
              "1882    6\n",
              "1883    6\n",
              "Name: New_Caff, Length: 1884, dtype: int8"
            ]
          },
          "execution_count": 29,
          "metadata": {},
          "output_type": "execute_result"
        }
      ],
      "source": [
        "df['Caff']=df['Caff'].astype('category')\n",
        "df['New_Caff']=df['Caff'].cat.codes\n",
        "df.New_Caff "
      ]
    },
    {
      "cell_type": "code",
      "execution_count": 30,
      "metadata": {
        "id": "k_jUglb1iG2b"
      },
      "outputs": [],
      "source": [
        "df.drop(['Caff'],inplace=True,axis=1)"
      ]
    },
    {
      "cell_type": "code",
      "execution_count": 31,
      "metadata": {
        "colab": {
          "base_uri": "https://localhost:8080/"
        },
        "id": "G5eanlXciuPu",
        "outputId": "ec4eb6df-8ee0-432f-d2c0-82037085ffe5"
      },
      "outputs": [
        {
          "data": {
            "text/plain": [
              "0       4\n",
              "1       3\n",
              "2       2\n",
              "3       3\n",
              "4       0\n",
              "       ..\n",
              "1879    5\n",
              "1880    3\n",
              "1881    6\n",
              "1882    6\n",
              "1883    3\n",
              "Name: New_Cannabis, Length: 1884, dtype: int8"
            ]
          },
          "execution_count": 31,
          "metadata": {},
          "output_type": "execute_result"
        }
      ],
      "source": [
        "df['Cannabis']=df['Cannabis'].astype('category')\n",
        "df['New_Cannabis']=df['Cannabis'].cat.codes\n",
        "df.New_Cannabis"
      ]
    },
    {
      "cell_type": "code",
      "execution_count": 32,
      "metadata": {
        "id": "DG1btyxUi2tp"
      },
      "outputs": [],
      "source": [
        "df.drop(['Cannabis'],inplace=True,axis=1)"
      ]
    },
    {
      "cell_type": "code",
      "execution_count": 33,
      "metadata": {
        "colab": {
          "base_uri": "https://localhost:8080/"
        },
        "id": "rYil77OGdU6V",
        "outputId": "8a3421dc-f7af-4497-c064-c89b308ae9b4"
      },
      "outputs": [
        {
          "data": {
            "text/plain": [
              "0       6\n",
              "1       4\n",
              "2       4\n",
              "3       6\n",
              "4       4\n",
              "       ..\n",
              "1879    4\n",
              "1880    4\n",
              "1881    6\n",
              "1882    5\n",
              "1883    6\n",
              "Name: New_Choc, Length: 1884, dtype: int8"
            ]
          },
          "execution_count": 33,
          "metadata": {},
          "output_type": "execute_result"
        }
      ],
      "source": [
        "df['Choc']=df['Choc'].astype('category')\n",
        "df['New_Choc']=df['Choc'].cat.codes\n",
        "df.New_Choc"
      ]
    },
    {
      "cell_type": "code",
      "execution_count": 34,
      "metadata": {
        "id": "UMwbuXdGiJXZ"
      },
      "outputs": [],
      "source": [
        "df.drop(['Choc'],inplace=True,axis=1)"
      ]
    },
    {
      "cell_type": "code",
      "execution_count": 35,
      "metadata": {
        "colab": {
          "base_uri": "https://localhost:8080/"
        },
        "id": "7CLwr_lLdVA2",
        "outputId": "180868e1-d226-477f-b7d3-787507d0abe5"
      },
      "outputs": [
        {
          "data": {
            "text/plain": [
              "0       3\n",
              "1       0\n",
              "2       2\n",
              "3       0\n",
              "4       0\n",
              "       ..\n",
              "1879    0\n",
              "1880    0\n",
              "1881    4\n",
              "1882    0\n",
              "1883    3\n",
              "Name: New_Coke, Length: 1884, dtype: int8"
            ]
          },
          "execution_count": 35,
          "metadata": {},
          "output_type": "execute_result"
        }
      ],
      "source": [
        "df['Coke']=df['Coke'].astype('category')\n",
        "df['New_Coke']=df['Coke'].cat.codes\n",
        "df.New_Coke"
      ]
    },
    {
      "cell_type": "code",
      "execution_count": 36,
      "metadata": {
        "id": "tVJ4sKUqiN6o"
      },
      "outputs": [],
      "source": [
        "df.drop(['Coke'],inplace=True,axis=1)"
      ]
    },
    {
      "cell_type": "code",
      "execution_count": 37,
      "metadata": {
        "colab": {
          "base_uri": "https://localhost:8080/"
        },
        "id": "Px6jyJQadVFW",
        "outputId": "f5cb1ca0-dcad-463a-b99d-a5d8d28dd547"
      },
      "outputs": [
        {
          "data": {
            "text/plain": [
              "0       0\n",
              "1       0\n",
              "2       0\n",
              "3       0\n",
              "4       0\n",
              "       ..\n",
              "1879    0\n",
              "1880    0\n",
              "1881    0\n",
              "1882    0\n",
              "1883    0\n",
              "Name: New_Crack, Length: 1884, dtype: int8"
            ]
          },
          "execution_count": 37,
          "metadata": {},
          "output_type": "execute_result"
        }
      ],
      "source": [
        "df['Crack']=df['Crack'].astype('category')\n",
        "df['New_Crack']=df['Crack'].cat.codes\n",
        "df.New_Crack"
      ]
    },
    {
      "cell_type": "code",
      "execution_count": 38,
      "metadata": {
        "id": "squczH-TiRqF"
      },
      "outputs": [],
      "source": [
        "df.drop(['Crack'],inplace=True,axis=1)"
      ]
    },
    {
      "cell_type": "code",
      "execution_count": 39,
      "metadata": {
        "colab": {
          "base_uri": "https://localhost:8080/"
        },
        "id": "rWSsiRJKdVJr",
        "outputId": "614ddc29-2626-476d-d6ab-e1b114f2da1c"
      },
      "outputs": [
        {
          "data": {
            "text/plain": [
              "0       0\n",
              "1       0\n",
              "2       0\n",
              "3       0\n",
              "4       0\n",
              "       ..\n",
              "1879    0\n",
              "1880    0\n",
              "1881    0\n",
              "1882    0\n",
              "1883    0\n",
              "Name: New_Heroin, Length: 1884, dtype: int8"
            ]
          },
          "execution_count": 39,
          "metadata": {},
          "output_type": "execute_result"
        }
      ],
      "source": [
        "df['Heroin']=df['Heroin'].astype('category')\n",
        "df['New_Heroin']=df['Heroin'].cat.codes\n",
        "df.New_Heroin"
      ]
    },
    {
      "cell_type": "code",
      "execution_count": 40,
      "metadata": {
        "id": "Eca_zbsqiUA-"
      },
      "outputs": [],
      "source": [
        "df.drop(['Heroin'],inplace=True,axis=1)"
      ]
    },
    {
      "cell_type": "code",
      "execution_count": 41,
      "metadata": {
        "colab": {
          "base_uri": "https://localhost:8080/"
        },
        "id": "onh_DN2udVOR",
        "outputId": "49ca3049-56ee-4bac-e9bf-cd9ffeff13f7"
      },
      "outputs": [
        {
          "data": {
            "text/plain": [
              "0       2\n",
              "1       0\n",
              "2       2\n",
              "3       0\n",
              "4       0\n",
              "       ..\n",
              "1879    0\n",
              "1880    0\n",
              "1881    2\n",
              "1882    0\n",
              "1883    0\n",
              "Name: New_Ketamine, Length: 1884, dtype: int8"
            ]
          },
          "execution_count": 41,
          "metadata": {},
          "output_type": "execute_result"
        }
      ],
      "source": [
        "df['Ketamine']=df['Ketamine'].astype('category')\n",
        "df['New_Ketamine']=df['Ketamine'].cat.codes\n",
        "df.New_Ketamine"
      ]
    },
    {
      "cell_type": "code",
      "execution_count": 42,
      "metadata": {
        "id": "npkvp5-oiWyG"
      },
      "outputs": [],
      "source": [
        "df.drop(['Ketamine'],inplace=True,axis=1)"
      ]
    },
    {
      "cell_type": "code",
      "execution_count": 43,
      "metadata": {
        "colab": {
          "base_uri": "https://localhost:8080/"
        },
        "id": "uDckv5R8dVSn",
        "outputId": "690f6d49-1d27-4722-f4da-d6bf9c710b03"
      },
      "outputs": [
        {
          "data": {
            "text/plain": [
              "0       0\n",
              "1       0\n",
              "2       0\n",
              "3       1\n",
              "4       0\n",
              "       ..\n",
              "1879    3\n",
              "1880    3\n",
              "1881    0\n",
              "1882    3\n",
              "1883    3\n",
              "Name: New_Legalh, Length: 1884, dtype: int8"
            ]
          },
          "execution_count": 43,
          "metadata": {},
          "output_type": "execute_result"
        }
      ],
      "source": [
        "df['Legalh']=df['Legalh'].astype('category')\n",
        "df['New_Legalh']=df['Legalh'].cat.codes\n",
        "df.New_Legalh"
      ]
    },
    {
      "cell_type": "code",
      "execution_count": 44,
      "metadata": {
        "id": "6DoaGrL7iZNA"
      },
      "outputs": [],
      "source": [
        "df.drop(['Legalh'],inplace=True,axis=1)"
      ]
    },
    {
      "cell_type": "code",
      "execution_count": 45,
      "metadata": {
        "colab": {
          "base_uri": "https://localhost:8080/"
        },
        "id": "ULLbBWmrdVXG",
        "outputId": "bc4286d8-56cd-4263-8085-ed469d816f3e"
      },
      "outputs": [
        {
          "data": {
            "text/plain": [
              "0       2\n",
              "1       0\n",
              "2       0\n",
              "3       0\n",
              "4       0\n",
              "       ..\n",
              "1879    3\n",
              "1880    5\n",
              "1881    2\n",
              "1882    3\n",
              "1883    3\n",
              "Name: New_LSD, Length: 1884, dtype: int8"
            ]
          },
          "execution_count": 45,
          "metadata": {},
          "output_type": "execute_result"
        }
      ],
      "source": [
        "df['LSD']=df['LSD'].astype('category')\n",
        "df['New_LSD']=df['LSD'].cat.codes\n",
        "df.New_LSD"
      ]
    },
    {
      "cell_type": "code",
      "execution_count": 46,
      "metadata": {
        "id": "G-1juumJicZb"
      },
      "outputs": [],
      "source": [
        "df.drop(['LSD'],inplace=True,axis=1)"
      ]
    },
    {
      "cell_type": "code",
      "execution_count": 47,
      "metadata": {
        "colab": {
          "base_uri": "https://localhost:8080/"
        },
        "id": "xzDkYDKshnQP",
        "outputId": "47513b92-b38d-4f15-a03b-ab80aa01b5cd"
      },
      "outputs": [
        {
          "name": "stdout",
          "output_type": "stream",
          "text": [
            "<class 'pandas.core.frame.DataFrame'>\n",
            "RangeIndex: 1884 entries, 0 to 1883\n",
            "Data columns (total 24 columns):\n",
            " #   Column        Non-Null Count  Dtype  \n",
            "---  ------        --------------  -----  \n",
            " 0   ID            1884 non-null   int64  \n",
            " 1   Nscore        1884 non-null   float64\n",
            " 2   Escore        1884 non-null   float64\n",
            " 3   Oscore        1884 non-null   float64\n",
            " 4   AScore        1884 non-null   float64\n",
            " 5   Cscore        1884 non-null   float64\n",
            " 6   Impulsive     1884 non-null   float64\n",
            " 7   SS            1884 non-null   float64\n",
            " 8   New_Age       1884 non-null   int8   \n",
            " 9   New_Gender    1884 non-null   int8   \n",
            " 10  New_Country   1884 non-null   int8   \n",
            " 11  New_Alcohol   1884 non-null   int8   \n",
            " 12  New_Amphet    1884 non-null   int8   \n",
            " 13  New_Amyl      1884 non-null   int8   \n",
            " 14  New_Benzos    1884 non-null   int8   \n",
            " 15  New_Caff      1884 non-null   int8   \n",
            " 16  New_Cannabis  1884 non-null   int8   \n",
            " 17  New_Choc      1884 non-null   int8   \n",
            " 18  New_Coke      1884 non-null   int8   \n",
            " 19  New_Crack     1884 non-null   int8   \n",
            " 20  New_Heroin    1884 non-null   int8   \n",
            " 21  New_Ketamine  1884 non-null   int8   \n",
            " 22  New_Legalh    1884 non-null   int8   \n",
            " 23  New_LSD       1884 non-null   int8   \n",
            "dtypes: float64(7), int64(1), int8(16)\n",
            "memory usage: 147.3 KB\n"
          ]
        }
      ],
      "source": [
        "df.info()"
      ]
    },
    {
      "cell_type": "code",
      "execution_count": 48,
      "metadata": {
        "colab": {
          "base_uri": "https://localhost:8080/",
          "height": 299
        },
        "id": "-83lT1nddVv4",
        "outputId": "7bbf8758-ba7e-4878-a771-e7a1deb58795"
      },
      "outputs": [
        {
          "data": {
            "text/html": [
              "<div>\n",
              "<style scoped>\n",
              "    .dataframe tbody tr th:only-of-type {\n",
              "        vertical-align: middle;\n",
              "    }\n",
              "\n",
              "    .dataframe tbody tr th {\n",
              "        vertical-align: top;\n",
              "    }\n",
              "\n",
              "    .dataframe thead th {\n",
              "        text-align: right;\n",
              "    }\n",
              "</style>\n",
              "<table border=\"1\" class=\"dataframe\">\n",
              "  <thead>\n",
              "    <tr style=\"text-align: right;\">\n",
              "      <th></th>\n",
              "      <th>ID</th>\n",
              "      <th>Nscore</th>\n",
              "      <th>Escore</th>\n",
              "      <th>Oscore</th>\n",
              "      <th>AScore</th>\n",
              "      <th>Cscore</th>\n",
              "      <th>Impulsive</th>\n",
              "      <th>SS</th>\n",
              "      <th>New_Age</th>\n",
              "      <th>New_Gender</th>\n",
              "      <th>...</th>\n",
              "      <th>New_Benzos</th>\n",
              "      <th>New_Caff</th>\n",
              "      <th>New_Cannabis</th>\n",
              "      <th>New_Choc</th>\n",
              "      <th>New_Coke</th>\n",
              "      <th>New_Crack</th>\n",
              "      <th>New_Heroin</th>\n",
              "      <th>New_Ketamine</th>\n",
              "      <th>New_Legalh</th>\n",
              "      <th>New_LSD</th>\n",
              "    </tr>\n",
              "  </thead>\n",
              "  <tbody>\n",
              "    <tr>\n",
              "      <th>0</th>\n",
              "      <td>2</td>\n",
              "      <td>-0.67825</td>\n",
              "      <td>1.93886</td>\n",
              "      <td>1.43533</td>\n",
              "      <td>0.76096</td>\n",
              "      <td>-0.14277</td>\n",
              "      <td>-0.71126</td>\n",
              "      <td>-0.21575</td>\n",
              "      <td>1</td>\n",
              "      <td>1</td>\n",
              "      <td>...</td>\n",
              "      <td>0</td>\n",
              "      <td>6</td>\n",
              "      <td>4</td>\n",
              "      <td>6</td>\n",
              "      <td>3</td>\n",
              "      <td>0</td>\n",
              "      <td>0</td>\n",
              "      <td>2</td>\n",
              "      <td>0</td>\n",
              "      <td>2</td>\n",
              "    </tr>\n",
              "    <tr>\n",
              "      <th>1</th>\n",
              "      <td>3</td>\n",
              "      <td>-0.46725</td>\n",
              "      <td>0.80523</td>\n",
              "      <td>-0.84732</td>\n",
              "      <td>-1.62090</td>\n",
              "      <td>-1.01450</td>\n",
              "      <td>-1.37983</td>\n",
              "      <td>0.40148</td>\n",
              "      <td>2</td>\n",
              "      <td>1</td>\n",
              "      <td>...</td>\n",
              "      <td>0</td>\n",
              "      <td>6</td>\n",
              "      <td>3</td>\n",
              "      <td>4</td>\n",
              "      <td>0</td>\n",
              "      <td>0</td>\n",
              "      <td>0</td>\n",
              "      <td>0</td>\n",
              "      <td>0</td>\n",
              "      <td>0</td>\n",
              "    </tr>\n",
              "    <tr>\n",
              "      <th>2</th>\n",
              "      <td>4</td>\n",
              "      <td>-0.14882</td>\n",
              "      <td>-0.80615</td>\n",
              "      <td>-0.01928</td>\n",
              "      <td>0.59042</td>\n",
              "      <td>0.58489</td>\n",
              "      <td>-1.37983</td>\n",
              "      <td>-1.18084</td>\n",
              "      <td>0</td>\n",
              "      <td>0</td>\n",
              "      <td>...</td>\n",
              "      <td>3</td>\n",
              "      <td>5</td>\n",
              "      <td>2</td>\n",
              "      <td>4</td>\n",
              "      <td>2</td>\n",
              "      <td>0</td>\n",
              "      <td>0</td>\n",
              "      <td>2</td>\n",
              "      <td>0</td>\n",
              "      <td>0</td>\n",
              "    </tr>\n",
              "    <tr>\n",
              "      <th>3</th>\n",
              "      <td>5</td>\n",
              "      <td>0.73545</td>\n",
              "      <td>-1.63340</td>\n",
              "      <td>-0.45174</td>\n",
              "      <td>-0.30172</td>\n",
              "      <td>1.30612</td>\n",
              "      <td>-0.21712</td>\n",
              "      <td>-0.21575</td>\n",
              "      <td>2</td>\n",
              "      <td>0</td>\n",
              "      <td>...</td>\n",
              "      <td>0</td>\n",
              "      <td>6</td>\n",
              "      <td>3</td>\n",
              "      <td>6</td>\n",
              "      <td>0</td>\n",
              "      <td>0</td>\n",
              "      <td>0</td>\n",
              "      <td>0</td>\n",
              "      <td>1</td>\n",
              "      <td>0</td>\n",
              "    </tr>\n",
              "    <tr>\n",
              "      <th>4</th>\n",
              "      <td>6</td>\n",
              "      <td>-0.67825</td>\n",
              "      <td>-0.30033</td>\n",
              "      <td>-1.55521</td>\n",
              "      <td>2.03972</td>\n",
              "      <td>1.63088</td>\n",
              "      <td>-1.37983</td>\n",
              "      <td>-1.54858</td>\n",
              "      <td>5</td>\n",
              "      <td>0</td>\n",
              "      <td>...</td>\n",
              "      <td>0</td>\n",
              "      <td>6</td>\n",
              "      <td>0</td>\n",
              "      <td>4</td>\n",
              "      <td>0</td>\n",
              "      <td>0</td>\n",
              "      <td>0</td>\n",
              "      <td>0</td>\n",
              "      <td>0</td>\n",
              "      <td>0</td>\n",
              "    </tr>\n",
              "  </tbody>\n",
              "</table>\n",
              "<p>5 rows × 24 columns</p>\n",
              "</div>"
            ],
            "text/plain": [
              "   ID   Nscore   Escore   Oscore   AScore   Cscore  Impulsive       SS  \\\n",
              "0   2 -0.67825  1.93886  1.43533  0.76096 -0.14277   -0.71126 -0.21575   \n",
              "1   3 -0.46725  0.80523 -0.84732 -1.62090 -1.01450   -1.37983  0.40148   \n",
              "2   4 -0.14882 -0.80615 -0.01928  0.59042  0.58489   -1.37983 -1.18084   \n",
              "3   5  0.73545 -1.63340 -0.45174 -0.30172  1.30612   -0.21712 -0.21575   \n",
              "4   6 -0.67825 -0.30033 -1.55521  2.03972  1.63088   -1.37983 -1.54858   \n",
              "\n",
              "   New_Age  New_Gender  ...  New_Benzos  New_Caff  New_Cannabis  New_Choc  \\\n",
              "0        1           1  ...           0         6             4         6   \n",
              "1        2           1  ...           0         6             3         4   \n",
              "2        0           0  ...           3         5             2         4   \n",
              "3        2           0  ...           0         6             3         6   \n",
              "4        5           0  ...           0         6             0         4   \n",
              "\n",
              "   New_Coke  New_Crack  New_Heroin  New_Ketamine  New_Legalh  New_LSD  \n",
              "0         3          0           0             2           0        2  \n",
              "1         0          0           0             0           0        0  \n",
              "2         2          0           0             2           0        0  \n",
              "3         0          0           0             0           1        0  \n",
              "4         0          0           0             0           0        0  \n",
              "\n",
              "[5 rows x 24 columns]"
            ]
          },
          "execution_count": 48,
          "metadata": {},
          "output_type": "execute_result"
        }
      ],
      "source": [
        "df.head()"
      ]
    },
    {
      "cell_type": "code",
      "execution_count": 49,
      "metadata": {
        "colab": {
          "base_uri": "https://localhost:8080/",
          "height": 487
        },
        "id": "iAEn63RldVy2",
        "outputId": "1558a5c0-acc1-4835-c20e-d047c02ae8bd"
      },
      "outputs": [
        {
          "data": {
            "text/html": [
              "<div>\n",
              "<style scoped>\n",
              "    .dataframe tbody tr th:only-of-type {\n",
              "        vertical-align: middle;\n",
              "    }\n",
              "\n",
              "    .dataframe tbody tr th {\n",
              "        vertical-align: top;\n",
              "    }\n",
              "\n",
              "    .dataframe thead th {\n",
              "        text-align: right;\n",
              "    }\n",
              "</style>\n",
              "<table border=\"1\" class=\"dataframe\">\n",
              "  <thead>\n",
              "    <tr style=\"text-align: right;\">\n",
              "      <th></th>\n",
              "      <th>ID</th>\n",
              "      <th>Nscore</th>\n",
              "      <th>Escore</th>\n",
              "      <th>Oscore</th>\n",
              "      <th>AScore</th>\n",
              "      <th>Cscore</th>\n",
              "      <th>Impulsive</th>\n",
              "      <th>SS</th>\n",
              "      <th>New_Age</th>\n",
              "      <th>New_Gender</th>\n",
              "      <th>...</th>\n",
              "      <th>New_Benzos</th>\n",
              "      <th>New_Caff</th>\n",
              "      <th>New_Cannabis</th>\n",
              "      <th>New_Choc</th>\n",
              "      <th>New_Coke</th>\n",
              "      <th>New_Crack</th>\n",
              "      <th>New_Heroin</th>\n",
              "      <th>New_Ketamine</th>\n",
              "      <th>New_Legalh</th>\n",
              "      <th>New_LSD</th>\n",
              "    </tr>\n",
              "  </thead>\n",
              "  <tbody>\n",
              "    <tr>\n",
              "      <th>0</th>\n",
              "      <td>2</td>\n",
              "      <td>-0.67825</td>\n",
              "      <td>1.93886</td>\n",
              "      <td>1.43533</td>\n",
              "      <td>0.76096</td>\n",
              "      <td>-0.14277</td>\n",
              "      <td>-0.71126</td>\n",
              "      <td>-0.21575</td>\n",
              "      <td>1</td>\n",
              "      <td>1</td>\n",
              "      <td>...</td>\n",
              "      <td>0</td>\n",
              "      <td>6</td>\n",
              "      <td>4</td>\n",
              "      <td>6</td>\n",
              "      <td>3</td>\n",
              "      <td>0</td>\n",
              "      <td>0</td>\n",
              "      <td>2</td>\n",
              "      <td>0</td>\n",
              "      <td>2</td>\n",
              "    </tr>\n",
              "    <tr>\n",
              "      <th>1</th>\n",
              "      <td>3</td>\n",
              "      <td>-0.46725</td>\n",
              "      <td>0.80523</td>\n",
              "      <td>-0.84732</td>\n",
              "      <td>-1.62090</td>\n",
              "      <td>-1.01450</td>\n",
              "      <td>-1.37983</td>\n",
              "      <td>0.40148</td>\n",
              "      <td>2</td>\n",
              "      <td>1</td>\n",
              "      <td>...</td>\n",
              "      <td>0</td>\n",
              "      <td>6</td>\n",
              "      <td>3</td>\n",
              "      <td>4</td>\n",
              "      <td>0</td>\n",
              "      <td>0</td>\n",
              "      <td>0</td>\n",
              "      <td>0</td>\n",
              "      <td>0</td>\n",
              "      <td>0</td>\n",
              "    </tr>\n",
              "    <tr>\n",
              "      <th>2</th>\n",
              "      <td>4</td>\n",
              "      <td>-0.14882</td>\n",
              "      <td>-0.80615</td>\n",
              "      <td>-0.01928</td>\n",
              "      <td>0.59042</td>\n",
              "      <td>0.58489</td>\n",
              "      <td>-1.37983</td>\n",
              "      <td>-1.18084</td>\n",
              "      <td>0</td>\n",
              "      <td>0</td>\n",
              "      <td>...</td>\n",
              "      <td>3</td>\n",
              "      <td>5</td>\n",
              "      <td>2</td>\n",
              "      <td>4</td>\n",
              "      <td>2</td>\n",
              "      <td>0</td>\n",
              "      <td>0</td>\n",
              "      <td>2</td>\n",
              "      <td>0</td>\n",
              "      <td>0</td>\n",
              "    </tr>\n",
              "    <tr>\n",
              "      <th>3</th>\n",
              "      <td>5</td>\n",
              "      <td>0.73545</td>\n",
              "      <td>-1.63340</td>\n",
              "      <td>-0.45174</td>\n",
              "      <td>-0.30172</td>\n",
              "      <td>1.30612</td>\n",
              "      <td>-0.21712</td>\n",
              "      <td>-0.21575</td>\n",
              "      <td>2</td>\n",
              "      <td>0</td>\n",
              "      <td>...</td>\n",
              "      <td>0</td>\n",
              "      <td>6</td>\n",
              "      <td>3</td>\n",
              "      <td>6</td>\n",
              "      <td>0</td>\n",
              "      <td>0</td>\n",
              "      <td>0</td>\n",
              "      <td>0</td>\n",
              "      <td>1</td>\n",
              "      <td>0</td>\n",
              "    </tr>\n",
              "    <tr>\n",
              "      <th>4</th>\n",
              "      <td>6</td>\n",
              "      <td>-0.67825</td>\n",
              "      <td>-0.30033</td>\n",
              "      <td>-1.55521</td>\n",
              "      <td>2.03972</td>\n",
              "      <td>1.63088</td>\n",
              "      <td>-1.37983</td>\n",
              "      <td>-1.54858</td>\n",
              "      <td>5</td>\n",
              "      <td>0</td>\n",
              "      <td>...</td>\n",
              "      <td>0</td>\n",
              "      <td>6</td>\n",
              "      <td>0</td>\n",
              "      <td>4</td>\n",
              "      <td>0</td>\n",
              "      <td>0</td>\n",
              "      <td>0</td>\n",
              "      <td>0</td>\n",
              "      <td>0</td>\n",
              "      <td>0</td>\n",
              "    </tr>\n",
              "    <tr>\n",
              "      <th>...</th>\n",
              "      <td>...</td>\n",
              "      <td>...</td>\n",
              "      <td>...</td>\n",
              "      <td>...</td>\n",
              "      <td>...</td>\n",
              "      <td>...</td>\n",
              "      <td>...</td>\n",
              "      <td>...</td>\n",
              "      <td>...</td>\n",
              "      <td>...</td>\n",
              "      <td>...</td>\n",
              "      <td>...</td>\n",
              "      <td>...</td>\n",
              "      <td>...</td>\n",
              "      <td>...</td>\n",
              "      <td>...</td>\n",
              "      <td>...</td>\n",
              "      <td>...</td>\n",
              "      <td>...</td>\n",
              "      <td>...</td>\n",
              "      <td>...</td>\n",
              "    </tr>\n",
              "    <tr>\n",
              "      <th>1879</th>\n",
              "      <td>1884</td>\n",
              "      <td>-1.19430</td>\n",
              "      <td>1.74091</td>\n",
              "      <td>1.88511</td>\n",
              "      <td>0.76096</td>\n",
              "      <td>-1.13788</td>\n",
              "      <td>0.88113</td>\n",
              "      <td>1.92173</td>\n",
              "      <td>0</td>\n",
              "      <td>0</td>\n",
              "      <td>...</td>\n",
              "      <td>0</td>\n",
              "      <td>4</td>\n",
              "      <td>5</td>\n",
              "      <td>4</td>\n",
              "      <td>0</td>\n",
              "      <td>0</td>\n",
              "      <td>0</td>\n",
              "      <td>0</td>\n",
              "      <td>3</td>\n",
              "      <td>3</td>\n",
              "    </tr>\n",
              "    <tr>\n",
              "      <th>1880</th>\n",
              "      <td>1885</td>\n",
              "      <td>-0.24649</td>\n",
              "      <td>1.74091</td>\n",
              "      <td>0.58331</td>\n",
              "      <td>0.76096</td>\n",
              "      <td>-1.51840</td>\n",
              "      <td>0.88113</td>\n",
              "      <td>0.76540</td>\n",
              "      <td>0</td>\n",
              "      <td>1</td>\n",
              "      <td>...</td>\n",
              "      <td>0</td>\n",
              "      <td>5</td>\n",
              "      <td>3</td>\n",
              "      <td>4</td>\n",
              "      <td>0</td>\n",
              "      <td>0</td>\n",
              "      <td>0</td>\n",
              "      <td>0</td>\n",
              "      <td>3</td>\n",
              "      <td>5</td>\n",
              "    </tr>\n",
              "    <tr>\n",
              "      <th>1881</th>\n",
              "      <td>1886</td>\n",
              "      <td>1.13281</td>\n",
              "      <td>-1.37639</td>\n",
              "      <td>-1.27553</td>\n",
              "      <td>-1.77200</td>\n",
              "      <td>-1.38502</td>\n",
              "      <td>0.52975</td>\n",
              "      <td>-0.52593</td>\n",
              "      <td>1</td>\n",
              "      <td>0</td>\n",
              "      <td>...</td>\n",
              "      <td>5</td>\n",
              "      <td>6</td>\n",
              "      <td>6</td>\n",
              "      <td>6</td>\n",
              "      <td>4</td>\n",
              "      <td>0</td>\n",
              "      <td>0</td>\n",
              "      <td>2</td>\n",
              "      <td>0</td>\n",
              "      <td>2</td>\n",
              "    </tr>\n",
              "    <tr>\n",
              "      <th>1882</th>\n",
              "      <td>1887</td>\n",
              "      <td>0.91093</td>\n",
              "      <td>-1.92173</td>\n",
              "      <td>0.29338</td>\n",
              "      <td>-1.62090</td>\n",
              "      <td>-2.57309</td>\n",
              "      <td>1.29221</td>\n",
              "      <td>1.22470</td>\n",
              "      <td>0</td>\n",
              "      <td>0</td>\n",
              "      <td>...</td>\n",
              "      <td>0</td>\n",
              "      <td>6</td>\n",
              "      <td>6</td>\n",
              "      <td>5</td>\n",
              "      <td>0</td>\n",
              "      <td>0</td>\n",
              "      <td>0</td>\n",
              "      <td>0</td>\n",
              "      <td>3</td>\n",
              "      <td>3</td>\n",
              "    </tr>\n",
              "    <tr>\n",
              "      <th>1883</th>\n",
              "      <td>1888</td>\n",
              "      <td>-0.46725</td>\n",
              "      <td>2.12700</td>\n",
              "      <td>1.65653</td>\n",
              "      <td>1.11406</td>\n",
              "      <td>0.41594</td>\n",
              "      <td>0.88113</td>\n",
              "      <td>1.22470</td>\n",
              "      <td>0</td>\n",
              "      <td>1</td>\n",
              "      <td>...</td>\n",
              "      <td>3</td>\n",
              "      <td>6</td>\n",
              "      <td>3</td>\n",
              "      <td>6</td>\n",
              "      <td>3</td>\n",
              "      <td>0</td>\n",
              "      <td>0</td>\n",
              "      <td>0</td>\n",
              "      <td>3</td>\n",
              "      <td>3</td>\n",
              "    </tr>\n",
              "  </tbody>\n",
              "</table>\n",
              "<p>1884 rows × 24 columns</p>\n",
              "</div>"
            ],
            "text/plain": [
              "        ID   Nscore   Escore   Oscore   AScore   Cscore  Impulsive       SS  \\\n",
              "0        2 -0.67825  1.93886  1.43533  0.76096 -0.14277   -0.71126 -0.21575   \n",
              "1        3 -0.46725  0.80523 -0.84732 -1.62090 -1.01450   -1.37983  0.40148   \n",
              "2        4 -0.14882 -0.80615 -0.01928  0.59042  0.58489   -1.37983 -1.18084   \n",
              "3        5  0.73545 -1.63340 -0.45174 -0.30172  1.30612   -0.21712 -0.21575   \n",
              "4        6 -0.67825 -0.30033 -1.55521  2.03972  1.63088   -1.37983 -1.54858   \n",
              "...    ...      ...      ...      ...      ...      ...        ...      ...   \n",
              "1879  1884 -1.19430  1.74091  1.88511  0.76096 -1.13788    0.88113  1.92173   \n",
              "1880  1885 -0.24649  1.74091  0.58331  0.76096 -1.51840    0.88113  0.76540   \n",
              "1881  1886  1.13281 -1.37639 -1.27553 -1.77200 -1.38502    0.52975 -0.52593   \n",
              "1882  1887  0.91093 -1.92173  0.29338 -1.62090 -2.57309    1.29221  1.22470   \n",
              "1883  1888 -0.46725  2.12700  1.65653  1.11406  0.41594    0.88113  1.22470   \n",
              "\n",
              "      New_Age  New_Gender  ...  New_Benzos  New_Caff  New_Cannabis  New_Choc  \\\n",
              "0           1           1  ...           0         6             4         6   \n",
              "1           2           1  ...           0         6             3         4   \n",
              "2           0           0  ...           3         5             2         4   \n",
              "3           2           0  ...           0         6             3         6   \n",
              "4           5           0  ...           0         6             0         4   \n",
              "...       ...         ...  ...         ...       ...           ...       ...   \n",
              "1879        0           0  ...           0         4             5         4   \n",
              "1880        0           1  ...           0         5             3         4   \n",
              "1881        1           0  ...           5         6             6         6   \n",
              "1882        0           0  ...           0         6             6         5   \n",
              "1883        0           1  ...           3         6             3         6   \n",
              "\n",
              "      New_Coke  New_Crack  New_Heroin  New_Ketamine  New_Legalh  New_LSD  \n",
              "0            3          0           0             2           0        2  \n",
              "1            0          0           0             0           0        0  \n",
              "2            2          0           0             2           0        0  \n",
              "3            0          0           0             0           1        0  \n",
              "4            0          0           0             0           0        0  \n",
              "...        ...        ...         ...           ...         ...      ...  \n",
              "1879         0          0           0             0           3        3  \n",
              "1880         0          0           0             0           3        5  \n",
              "1881         4          0           0             2           0        2  \n",
              "1882         0          0           0             0           3        3  \n",
              "1883         3          0           0             0           3        3  \n",
              "\n",
              "[1884 rows x 24 columns]"
            ]
          },
          "execution_count": 49,
          "metadata": {},
          "output_type": "execute_result"
        }
      ],
      "source": [
        "df"
      ]
    },
    {
      "cell_type": "code",
      "execution_count": 50,
      "metadata": {
        "colab": {
          "base_uri": "https://localhost:8080/",
          "height": 393
        },
        "id": "ifEBWZW3dV1w",
        "outputId": "b3b42b92-49dc-4ad8-da89-9ca5bb0d6596"
      },
      "outputs": [
        {
          "data": {
            "text/html": [
              "<div>\n",
              "<style scoped>\n",
              "    .dataframe tbody tr th:only-of-type {\n",
              "        vertical-align: middle;\n",
              "    }\n",
              "\n",
              "    .dataframe tbody tr th {\n",
              "        vertical-align: top;\n",
              "    }\n",
              "\n",
              "    .dataframe thead th {\n",
              "        text-align: right;\n",
              "    }\n",
              "</style>\n",
              "<table border=\"1\" class=\"dataframe\">\n",
              "  <thead>\n",
              "    <tr style=\"text-align: right;\">\n",
              "      <th></th>\n",
              "      <th>ID</th>\n",
              "      <th>Nscore</th>\n",
              "      <th>Escore</th>\n",
              "      <th>Oscore</th>\n",
              "      <th>AScore</th>\n",
              "      <th>Cscore</th>\n",
              "      <th>Impulsive</th>\n",
              "      <th>SS</th>\n",
              "      <th>New_Age</th>\n",
              "      <th>New_Gender</th>\n",
              "      <th>...</th>\n",
              "      <th>New_Benzos</th>\n",
              "      <th>New_Caff</th>\n",
              "      <th>New_Cannabis</th>\n",
              "      <th>New_Choc</th>\n",
              "      <th>New_Coke</th>\n",
              "      <th>New_Crack</th>\n",
              "      <th>New_Heroin</th>\n",
              "      <th>New_Ketamine</th>\n",
              "      <th>New_Legalh</th>\n",
              "      <th>New_LSD</th>\n",
              "    </tr>\n",
              "  </thead>\n",
              "  <tbody>\n",
              "    <tr>\n",
              "      <th>count</th>\n",
              "      <td>1884.000000</td>\n",
              "      <td>1884.000000</td>\n",
              "      <td>1884.000000</td>\n",
              "      <td>1884.000000</td>\n",
              "      <td>1884.000000</td>\n",
              "      <td>1884.000000</td>\n",
              "      <td>1884.000000</td>\n",
              "      <td>1884.000000</td>\n",
              "      <td>1884.000000</td>\n",
              "      <td>1884.000000</td>\n",
              "      <td>...</td>\n",
              "      <td>1884.000000</td>\n",
              "      <td>1884.000000</td>\n",
              "      <td>1884.000000</td>\n",
              "      <td>1884.000000</td>\n",
              "      <td>1884.000000</td>\n",
              "      <td>1884.000000</td>\n",
              "      <td>1884.000000</td>\n",
              "      <td>1884.000000</td>\n",
              "      <td>1884.000000</td>\n",
              "      <td>1884.000000</td>\n",
              "    </tr>\n",
              "    <tr>\n",
              "      <th>mean</th>\n",
              "      <td>945.796178</td>\n",
              "      <td>-0.000119</td>\n",
              "      <td>0.000143</td>\n",
              "      <td>-0.000225</td>\n",
              "      <td>0.000242</td>\n",
              "      <td>-0.000383</td>\n",
              "      <td>0.007335</td>\n",
              "      <td>-0.002667</td>\n",
              "      <td>1.345541</td>\n",
              "      <td>0.500531</td>\n",
              "      <td>...</td>\n",
              "      <td>1.464968</td>\n",
              "      <td>5.483546</td>\n",
              "      <td>2.990977</td>\n",
              "      <td>5.106688</td>\n",
              "      <td>1.161890</td>\n",
              "      <td>0.297771</td>\n",
              "      <td>0.374204</td>\n",
              "      <td>0.569533</td>\n",
              "      <td>1.356688</td>\n",
              "      <td>1.062102</td>\n",
              "    </tr>\n",
              "    <tr>\n",
              "      <th>std</th>\n",
              "      <td>544.877779</td>\n",
              "      <td>0.998345</td>\n",
              "      <td>0.997625</td>\n",
              "      <td>0.996402</td>\n",
              "      <td>0.997481</td>\n",
              "      <td>0.997787</td>\n",
              "      <td>0.954674</td>\n",
              "      <td>0.963575</td>\n",
              "      <td>1.277705</td>\n",
              "      <td>0.500132</td>\n",
              "      <td>...</td>\n",
              "      <td>1.867730</td>\n",
              "      <td>1.114880</td>\n",
              "      <td>2.287007</td>\n",
              "      <td>1.089601</td>\n",
              "      <td>1.513196</td>\n",
              "      <td>0.837247</td>\n",
              "      <td>1.035018</td>\n",
              "      <td>1.220269</td>\n",
              "      <td>1.789849</td>\n",
              "      <td>1.491298</td>\n",
              "    </tr>\n",
              "    <tr>\n",
              "      <th>min</th>\n",
              "      <td>2.000000</td>\n",
              "      <td>-3.464360</td>\n",
              "      <td>-3.273930</td>\n",
              "      <td>-3.273930</td>\n",
              "      <td>-3.464360</td>\n",
              "      <td>-3.464360</td>\n",
              "      <td>-2.555240</td>\n",
              "      <td>-2.078480</td>\n",
              "      <td>0.000000</td>\n",
              "      <td>0.000000</td>\n",
              "      <td>...</td>\n",
              "      <td>0.000000</td>\n",
              "      <td>0.000000</td>\n",
              "      <td>0.000000</td>\n",
              "      <td>0.000000</td>\n",
              "      <td>0.000000</td>\n",
              "      <td>0.000000</td>\n",
              "      <td>0.000000</td>\n",
              "      <td>0.000000</td>\n",
              "      <td>0.000000</td>\n",
              "      <td>0.000000</td>\n",
              "    </tr>\n",
              "    <tr>\n",
              "      <th>25%</th>\n",
              "      <td>474.750000</td>\n",
              "      <td>-0.678250</td>\n",
              "      <td>-0.695090</td>\n",
              "      <td>-0.717270</td>\n",
              "      <td>-0.606330</td>\n",
              "      <td>-0.652530</td>\n",
              "      <td>-0.711260</td>\n",
              "      <td>-0.525930</td>\n",
              "      <td>0.000000</td>\n",
              "      <td>0.000000</td>\n",
              "      <td>...</td>\n",
              "      <td>0.000000</td>\n",
              "      <td>5.000000</td>\n",
              "      <td>1.000000</td>\n",
              "      <td>5.000000</td>\n",
              "      <td>0.000000</td>\n",
              "      <td>0.000000</td>\n",
              "      <td>0.000000</td>\n",
              "      <td>0.000000</td>\n",
              "      <td>0.000000</td>\n",
              "      <td>0.000000</td>\n",
              "    </tr>\n",
              "    <tr>\n",
              "      <th>50%</th>\n",
              "      <td>946.500000</td>\n",
              "      <td>0.042570</td>\n",
              "      <td>0.003320</td>\n",
              "      <td>-0.019280</td>\n",
              "      <td>-0.017290</td>\n",
              "      <td>-0.006650</td>\n",
              "      <td>-0.217120</td>\n",
              "      <td>0.079870</td>\n",
              "      <td>1.000000</td>\n",
              "      <td>1.000000</td>\n",
              "      <td>...</td>\n",
              "      <td>0.000000</td>\n",
              "      <td>6.000000</td>\n",
              "      <td>3.000000</td>\n",
              "      <td>5.000000</td>\n",
              "      <td>0.000000</td>\n",
              "      <td>0.000000</td>\n",
              "      <td>0.000000</td>\n",
              "      <td>0.000000</td>\n",
              "      <td>0.000000</td>\n",
              "      <td>0.000000</td>\n",
              "    </tr>\n",
              "    <tr>\n",
              "      <th>75%</th>\n",
              "      <td>1417.250000</td>\n",
              "      <td>0.629670</td>\n",
              "      <td>0.637790</td>\n",
              "      <td>0.723300</td>\n",
              "      <td>0.760960</td>\n",
              "      <td>0.584890</td>\n",
              "      <td>0.529750</td>\n",
              "      <td>0.765400</td>\n",
              "      <td>2.000000</td>\n",
              "      <td>1.000000</td>\n",
              "      <td>...</td>\n",
              "      <td>3.000000</td>\n",
              "      <td>6.000000</td>\n",
              "      <td>5.000000</td>\n",
              "      <td>6.000000</td>\n",
              "      <td>2.000000</td>\n",
              "      <td>0.000000</td>\n",
              "      <td>0.000000</td>\n",
              "      <td>0.000000</td>\n",
              "      <td>3.000000</td>\n",
              "      <td>2.000000</td>\n",
              "    </tr>\n",
              "    <tr>\n",
              "      <th>max</th>\n",
              "      <td>1888.000000</td>\n",
              "      <td>3.273930</td>\n",
              "      <td>3.273930</td>\n",
              "      <td>2.901610</td>\n",
              "      <td>3.464360</td>\n",
              "      <td>3.464360</td>\n",
              "      <td>2.901610</td>\n",
              "      <td>1.921730</td>\n",
              "      <td>5.000000</td>\n",
              "      <td>1.000000</td>\n",
              "      <td>...</td>\n",
              "      <td>6.000000</td>\n",
              "      <td>6.000000</td>\n",
              "      <td>6.000000</td>\n",
              "      <td>6.000000</td>\n",
              "      <td>6.000000</td>\n",
              "      <td>6.000000</td>\n",
              "      <td>6.000000</td>\n",
              "      <td>6.000000</td>\n",
              "      <td>6.000000</td>\n",
              "      <td>6.000000</td>\n",
              "    </tr>\n",
              "  </tbody>\n",
              "</table>\n",
              "<p>8 rows × 24 columns</p>\n",
              "</div>"
            ],
            "text/plain": [
              "                ID       Nscore       Escore       Oscore       AScore  \\\n",
              "count  1884.000000  1884.000000  1884.000000  1884.000000  1884.000000   \n",
              "mean    945.796178    -0.000119     0.000143    -0.000225     0.000242   \n",
              "std     544.877779     0.998345     0.997625     0.996402     0.997481   \n",
              "min       2.000000    -3.464360    -3.273930    -3.273930    -3.464360   \n",
              "25%     474.750000    -0.678250    -0.695090    -0.717270    -0.606330   \n",
              "50%     946.500000     0.042570     0.003320    -0.019280    -0.017290   \n",
              "75%    1417.250000     0.629670     0.637790     0.723300     0.760960   \n",
              "max    1888.000000     3.273930     3.273930     2.901610     3.464360   \n",
              "\n",
              "            Cscore    Impulsive           SS      New_Age   New_Gender  ...  \\\n",
              "count  1884.000000  1884.000000  1884.000000  1884.000000  1884.000000  ...   \n",
              "mean     -0.000383     0.007335    -0.002667     1.345541     0.500531  ...   \n",
              "std       0.997787     0.954674     0.963575     1.277705     0.500132  ...   \n",
              "min      -3.464360    -2.555240    -2.078480     0.000000     0.000000  ...   \n",
              "25%      -0.652530    -0.711260    -0.525930     0.000000     0.000000  ...   \n",
              "50%      -0.006650    -0.217120     0.079870     1.000000     1.000000  ...   \n",
              "75%       0.584890     0.529750     0.765400     2.000000     1.000000  ...   \n",
              "max       3.464360     2.901610     1.921730     5.000000     1.000000  ...   \n",
              "\n",
              "        New_Benzos     New_Caff  New_Cannabis     New_Choc     New_Coke  \\\n",
              "count  1884.000000  1884.000000   1884.000000  1884.000000  1884.000000   \n",
              "mean      1.464968     5.483546      2.990977     5.106688     1.161890   \n",
              "std       1.867730     1.114880      2.287007     1.089601     1.513196   \n",
              "min       0.000000     0.000000      0.000000     0.000000     0.000000   \n",
              "25%       0.000000     5.000000      1.000000     5.000000     0.000000   \n",
              "50%       0.000000     6.000000      3.000000     5.000000     0.000000   \n",
              "75%       3.000000     6.000000      5.000000     6.000000     2.000000   \n",
              "max       6.000000     6.000000      6.000000     6.000000     6.000000   \n",
              "\n",
              "         New_Crack   New_Heroin  New_Ketamine   New_Legalh      New_LSD  \n",
              "count  1884.000000  1884.000000   1884.000000  1884.000000  1884.000000  \n",
              "mean      0.297771     0.374204      0.569533     1.356688     1.062102  \n",
              "std       0.837247     1.035018      1.220269     1.789849     1.491298  \n",
              "min       0.000000     0.000000      0.000000     0.000000     0.000000  \n",
              "25%       0.000000     0.000000      0.000000     0.000000     0.000000  \n",
              "50%       0.000000     0.000000      0.000000     0.000000     0.000000  \n",
              "75%       0.000000     0.000000      0.000000     3.000000     2.000000  \n",
              "max       6.000000     6.000000      6.000000     6.000000     6.000000  \n",
              "\n",
              "[8 rows x 24 columns]"
            ]
          },
          "execution_count": 50,
          "metadata": {},
          "output_type": "execute_result"
        }
      ],
      "source": [
        "df.describe()"
      ]
    },
    {
      "cell_type": "code",
      "execution_count": 51,
      "metadata": {
        "colab": {
          "base_uri": "https://localhost:8080/"
        },
        "id": "oA4qYTOgdV4l",
        "outputId": "07dd396d-097d-47f2-bb5c-03f5e346f745"
      },
      "outputs": [
        {
          "data": {
            "text/plain": [
              "Index(['ID', 'Nscore', 'Escore', 'Oscore', 'AScore', 'Cscore', 'Impulsive',\n",
              "       'SS', 'New_Age', 'New_Gender', 'New_Country', 'New_Alcohol',\n",
              "       'New_Amphet', 'New_Amyl', 'New_Benzos', 'New_Caff', 'New_Cannabis',\n",
              "       'New_Choc', 'New_Coke', 'New_Crack', 'New_Heroin', 'New_Ketamine',\n",
              "       'New_Legalh', 'New_LSD'],\n",
              "      dtype='object')"
            ]
          },
          "execution_count": 51,
          "metadata": {},
          "output_type": "execute_result"
        }
      ],
      "source": [
        "df.columns"
      ]
    },
    {
      "cell_type": "markdown",
      "metadata": {
        "id": "aHrCC5sMwnq8"
      },
      "source": [
        "### Train the model"
      ]
    },
    {
      "cell_type": "code",
      "execution_count": 52,
      "metadata": {
        "id": "dgFtiJWydV7n"
      },
      "outputs": [],
      "source": [
        "y = df['New_Heroin']\n",
        "X = df[['New_Alcohol']]"
      ]
    },
    {
      "cell_type": "code",
      "execution_count": 53,
      "metadata": {
        "colab": {
          "base_uri": "https://localhost:8080/"
        },
        "id": "A_Xw294wdV-X",
        "outputId": "1d7de0a1-9e6a-4d76-8466-459fb325d2bc"
      },
      "outputs": [
        {
          "data": {
            "text/plain": [
              "(1884, 24)"
            ]
          },
          "execution_count": 53,
          "metadata": {},
          "output_type": "execute_result"
        }
      ],
      "source": [
        "df.shape"
      ]
    },
    {
      "cell_type": "code",
      "execution_count": 54,
      "metadata": {
        "colab": {
          "base_uri": "https://localhost:8080/"
        },
        "id": "0cTaXG-VdWBP",
        "outputId": "e725bc2e-cd2f-481c-b5e0-39102e8b89cd"
      },
      "outputs": [
        {
          "data": {
            "text/plain": [
              "(1884, 1)"
            ]
          },
          "execution_count": 54,
          "metadata": {},
          "output_type": "execute_result"
        }
      ],
      "source": [
        "X.shape"
      ]
    },
    {
      "cell_type": "code",
      "execution_count": 55,
      "metadata": {
        "colab": {
          "base_uri": "https://localhost:8080/"
        },
        "id": "7eF56-ogdWEB",
        "outputId": "58f3681d-0ead-49c7-daa9-89f6590eb4f3"
      },
      "outputs": [
        {
          "data": {
            "text/plain": [
              "(1884,)"
            ]
          },
          "execution_count": 55,
          "metadata": {},
          "output_type": "execute_result"
        }
      ],
      "source": [
        "y.shape"
      ]
    },
    {
      "cell_type": "code",
      "execution_count": 56,
      "metadata": {
        "id": "THq1VOJudWG7"
      },
      "outputs": [],
      "source": [
        "from sklearn.model_selection import train_test_split"
      ]
    },
    {
      "cell_type": "code",
      "execution_count": 57,
      "metadata": {
        "id": "sHWrrrELdWJw"
      },
      "outputs": [],
      "source": [
        "X_train,y_train,X_test,y_test=train_test_split(X,y,random_state=2529)"
      ]
    },
    {
      "cell_type": "code",
      "execution_count": 58,
      "metadata": {
        "colab": {
          "base_uri": "https://localhost:8080/",
          "height": 423
        },
        "id": "5zYOFSFhdWMm",
        "outputId": "4efc74b7-46af-4d67-ca17-782eb2b16d8c"
      },
      "outputs": [
        {
          "data": {
            "text/html": [
              "<div>\n",
              "<style scoped>\n",
              "    .dataframe tbody tr th:only-of-type {\n",
              "        vertical-align: middle;\n",
              "    }\n",
              "\n",
              "    .dataframe tbody tr th {\n",
              "        vertical-align: top;\n",
              "    }\n",
              "\n",
              "    .dataframe thead th {\n",
              "        text-align: right;\n",
              "    }\n",
              "</style>\n",
              "<table border=\"1\" class=\"dataframe\">\n",
              "  <thead>\n",
              "    <tr style=\"text-align: right;\">\n",
              "      <th></th>\n",
              "      <th>New_Alcohol</th>\n",
              "    </tr>\n",
              "  </thead>\n",
              "  <tbody>\n",
              "    <tr>\n",
              "      <th>1000</th>\n",
              "      <td>5</td>\n",
              "    </tr>\n",
              "    <tr>\n",
              "      <th>61</th>\n",
              "      <td>5</td>\n",
              "    </tr>\n",
              "    <tr>\n",
              "      <th>270</th>\n",
              "      <td>6</td>\n",
              "    </tr>\n",
              "    <tr>\n",
              "      <th>577</th>\n",
              "      <td>5</td>\n",
              "    </tr>\n",
              "    <tr>\n",
              "      <th>80</th>\n",
              "      <td>5</td>\n",
              "    </tr>\n",
              "    <tr>\n",
              "      <th>...</th>\n",
              "      <td>...</td>\n",
              "    </tr>\n",
              "    <tr>\n",
              "      <th>740</th>\n",
              "      <td>1</td>\n",
              "    </tr>\n",
              "    <tr>\n",
              "      <th>399</th>\n",
              "      <td>5</td>\n",
              "    </tr>\n",
              "    <tr>\n",
              "      <th>828</th>\n",
              "      <td>4</td>\n",
              "    </tr>\n",
              "    <tr>\n",
              "      <th>1586</th>\n",
              "      <td>5</td>\n",
              "    </tr>\n",
              "    <tr>\n",
              "      <th>1376</th>\n",
              "      <td>5</td>\n",
              "    </tr>\n",
              "  </tbody>\n",
              "</table>\n",
              "<p>1413 rows × 1 columns</p>\n",
              "</div>"
            ],
            "text/plain": [
              "      New_Alcohol\n",
              "1000            5\n",
              "61              5\n",
              "270             6\n",
              "577             5\n",
              "80              5\n",
              "...           ...\n",
              "740             1\n",
              "399             5\n",
              "828             4\n",
              "1586            5\n",
              "1376            5\n",
              "\n",
              "[1413 rows x 1 columns]"
            ]
          },
          "execution_count": 58,
          "metadata": {},
          "output_type": "execute_result"
        }
      ],
      "source": [
        "X_train"
      ]
    },
    {
      "cell_type": "code",
      "execution_count": 59,
      "metadata": {
        "colab": {
          "base_uri": "https://localhost:8080/"
        },
        "id": "m8RaxB4qdWPN",
        "outputId": "08975750-8d9e-414e-aab6-65cce5310dbd"
      },
      "outputs": [
        {
          "data": {
            "text/plain": [
              "((1413, 1), (471, 1))"
            ]
          },
          "execution_count": 59,
          "metadata": {},
          "output_type": "execute_result"
        }
      ],
      "source": [
        "X_train.shape,y_train.shape"
      ]
    },
    {
      "cell_type": "code",
      "execution_count": 60,
      "metadata": {
        "colab": {
          "base_uri": "https://localhost:8080/"
        },
        "id": "bmP1paC7nof8",
        "outputId": "08718793-4183-4d3e-9330-bb4682f87486"
      },
      "outputs": [
        {
          "data": {
            "text/plain": [
              "((1413,), (471,))"
            ]
          },
          "execution_count": 60,
          "metadata": {},
          "output_type": "execute_result"
        }
      ],
      "source": [
        "X_test.shape,y_test.shape"
      ]
    },
    {
      "cell_type": "markdown",
      "metadata": {
        "id": "X7sYQRGzvPfU"
      },
      "source": [
        "### Select a Model- Regression"
      ]
    },
    {
      "cell_type": "code",
      "execution_count": 61,
      "metadata": {
        "id": "DiYNStQtdWaJ"
      },
      "outputs": [],
      "source": [
        "from sklearn.linear_model import LinearRegression\n",
        "model = LinearRegression()"
      ]
    },
    {
      "cell_type": "markdown",
      "metadata": {
        "id": "qrkcurTjvWwt"
      },
      "source": [
        "### Train the model"
      ]
    },
    {
      "cell_type": "code",
      "execution_count": 62,
      "metadata": {
        "colab": {
          "base_uri": "https://localhost:8080/",
          "height": 74
        },
        "id": "cEzC5ACldWdM",
        "outputId": "fa834e40-d74c-4a3f-8b35-7c4842c4dd72"
      },
      "outputs": [
        {
          "data": {
            "text/plain": [
              "LinearRegression()"
            ]
          },
          "execution_count": 62,
          "metadata": {},
          "output_type": "execute_result"
        }
      ],
      "source": [
        "model.fit(X_train,X_train)"
      ]
    },
    {
      "cell_type": "code",
      "execution_count": 63,
      "metadata": {
        "colab": {
          "base_uri": "https://localhost:8080/"
        },
        "id": "4Q2KilKsdWgE",
        "outputId": "8c9930ec-2251-47bf-c0d8-71d0b31b2d4f"
      },
      "outputs": [
        {
          "data": {
            "text/plain": [
              "array([-5.32907052e-15])"
            ]
          },
          "execution_count": 63,
          "metadata": {},
          "output_type": "execute_result"
        }
      ],
      "source": [
        "model.intercept_"
      ]
    },
    {
      "cell_type": "code",
      "execution_count": 64,
      "metadata": {
        "colab": {
          "base_uri": "https://localhost:8080/"
        },
        "id": "e4pRJjTjdWjB",
        "outputId": "bc2f72b9-3198-422a-871a-b2e414ef29ed"
      },
      "outputs": [
        {
          "data": {
            "text/plain": [
              "array([[1.]])"
            ]
          },
          "execution_count": 64,
          "metadata": {},
          "output_type": "execute_result"
        }
      ],
      "source": [
        "model.coef_"
      ]
    },
    {
      "cell_type": "markdown",
      "metadata": {
        "id": "axk95x8JvfyM"
      },
      "source": [
        "### Predict"
      ]
    },
    {
      "cell_type": "code",
      "execution_count": 65,
      "metadata": {
        "id": "VagBN2pgdWly"
      },
      "outputs": [],
      "source": [
        " y_predict = model.predict(y_train)"
      ]
    },
    {
      "cell_type": "markdown",
      "metadata": {
        "id": "-FsbjrZDvkr8"
      },
      "source": [
        "### Accuracy"
      ]
    },
    {
      "cell_type": "code",
      "execution_count": 66,
      "metadata": {
        "id": "sO1y3XDZdWoq"
      },
      "outputs": [],
      "source": [
        "from sklearn.metrics import mean_absolute_percentage_error"
      ]
    },
    {
      "cell_type": "code",
      "execution_count": 67,
      "metadata": {
        "colab": {
          "base_uri": "https://localhost:8080/"
        },
        "id": "LkaLW-ejdWrp",
        "outputId": "ef39452a-6faf-47ba-d0b0-58a197a9268b"
      },
      "outputs": [
        {
          "data": {
            "text/plain": [
              "0.4076433121019111"
            ]
          },
          "execution_count": 67,
          "metadata": {},
          "output_type": "execute_result"
        }
      ],
      "source": [
        "mean_absolute_percentage_error(y_train,y_predict)"
      ]
    },
    {
      "cell_type": "markdown",
      "metadata": {
        "id": "4cXfsjxjzgmD"
      },
      "source": [
        "###Accuracy is 81%"
      ]
    },
    {
      "cell_type": "markdown",
      "metadata": {
        "id": "XhY0VNoWvvEz"
      },
      "source": [
        "###Select a model- classification"
      ]
    },
    {
      "cell_type": "code",
      "execution_count": 68,
      "metadata": {
        "id": "Dg1bcDOsdWuA"
      },
      "outputs": [],
      "source": [
        "from sklearn.linear_model import LogisticRegression\n",
        "model = LogisticRegression(max_iter=500)"
      ]
    },
    {
      "cell_type": "code",
      "execution_count": 69,
      "metadata": {
        "colab": {
          "base_uri": "https://localhost:8080/",
          "height": 129
        },
        "id": "HNxiI-radWxb",
        "outputId": "26b3d429-44b0-4c58-e095-6a56371cc2cb"
      },
      "outputs": [
        {
          "name": "stderr",
          "output_type": "stream",
          "text": [
            "c:\\Users\\Sukhd\\anaconda3\\lib\\site-packages\\sklearn\\utils\\validation.py:993: DataConversionWarning: A column-vector y was passed when a 1d array was expected. Please change the shape of y to (n_samples, ), for example using ravel().\n",
            "  y = column_or_1d(y, warn=True)\n"
          ]
        },
        {
          "data": {
            "text/plain": [
              "LogisticRegression(max_iter=500)"
            ]
          },
          "execution_count": 69,
          "metadata": {},
          "output_type": "execute_result"
        }
      ],
      "source": [
        "model.fit(X_train,X_train)"
      ]
    },
    {
      "cell_type": "code",
      "execution_count": 70,
      "metadata": {
        "id": "kc6pTvm_dW2T"
      },
      "outputs": [],
      "source": [
        "y_predict=model.predict(X_train)"
      ]
    },
    {
      "cell_type": "code",
      "execution_count": 71,
      "metadata": {
        "colab": {
          "base_uri": "https://localhost:8080/"
        },
        "id": "sDbH8gbvdW5M",
        "outputId": "4c5e1395-3cfa-4d17-c5d8-26bf8b27f02d"
      },
      "outputs": [
        {
          "data": {
            "text/plain": [
              "array([[-7.78872612],\n",
              "       [-6.09688193],\n",
              "       [-4.92496069],\n",
              "       [-2.52012181],\n",
              "       [ 1.17336651],\n",
              "       [ 6.58764407],\n",
              "       [13.56967996]])"
            ]
          },
          "execution_count": 71,
          "metadata": {},
          "output_type": "execute_result"
        }
      ],
      "source": [
        "model.coef_"
      ]
    },
    {
      "cell_type": "code",
      "execution_count": 72,
      "metadata": {
        "id": "OFLcRTqndW7q"
      },
      "outputs": [],
      "source": [
        "y_predict = model.predict(y_train)"
      ]
    },
    {
      "cell_type": "code",
      "execution_count": 73,
      "metadata": {
        "id": "RKyEveUPdW_N"
      },
      "outputs": [],
      "source": [
        "from sklearn.metrics import classification_report"
      ]
    },
    {
      "cell_type": "code",
      "execution_count": 74,
      "metadata": {
        "colab": {
          "base_uri": "https://localhost:8080/",
          "height": 212
        },
        "id": "v_cxCic0qel2",
        "outputId": "2d866d23-cd7b-4cb1-c29a-20f2f829bc9a"
      },
      "outputs": [
        {
          "name": "stderr",
          "output_type": "stream",
          "text": [
            "c:\\Users\\Sukhd\\anaconda3\\lib\\site-packages\\sklearn\\metrics\\_classification.py:1318: UndefinedMetricWarning: Precision and F-score are ill-defined and being set to 0.0 in labels with no predicted samples. Use `zero_division` parameter to control this behavior.\n",
            "  _warn_prf(average, modifier, msg_start, len(result))\n",
            "c:\\Users\\Sukhd\\anaconda3\\lib\\site-packages\\sklearn\\metrics\\_classification.py:1318: UndefinedMetricWarning: Precision and F-score are ill-defined and being set to 0.0 in labels with no predicted samples. Use `zero_division` parameter to control this behavior.\n",
            "  _warn_prf(average, modifier, msg_start, len(result))\n",
            "c:\\Users\\Sukhd\\anaconda3\\lib\\site-packages\\sklearn\\metrics\\_classification.py:1318: UndefinedMetricWarning: Precision and F-score are ill-defined and being set to 0.0 in labels with no predicted samples. Use `zero_division` parameter to control this behavior.\n",
            "  _warn_prf(average, modifier, msg_start, len(result))\n"
          ]
        },
        {
          "data": {
            "text/plain": [
              "'              precision    recall  f1-score   support\\n\\n           0       0.88      0.02      0.03       392\\n           1       0.00      0.00      0.00        25\\n           2       0.04      0.05      0.04        22\\n           3       0.13      0.35      0.19        20\\n           4       0.03      0.40      0.05         5\\n           5       0.00      0.00      0.00         6\\n           6       0.00      0.00      0.00         1\\n\\n    accuracy                           0.04       471\\n   macro avg       0.15      0.12      0.05       471\\nweighted avg       0.74      0.04      0.04       471\\n'"
            ]
          },
          "execution_count": 74,
          "metadata": {},
          "output_type": "execute_result"
        }
      ],
      "source": [
        "classification_report(y_test,y_predict)"
      ]
    },
    {
      "cell_type": "code",
      "execution_count": 75,
      "metadata": {
        "colab": {
          "base_uri": "https://localhost:8080/"
        },
        "id": "tc0TtKQ5qgUC",
        "outputId": "c3eb934e-7f06-4d92-ccfb-d7a35726e0b5"
      },
      "outputs": [
        {
          "name": "stdout",
          "output_type": "stream",
          "text": [
            "              precision    recall  f1-score   support\n",
            "\n",
            "           0       0.88      0.02      0.03       392\n",
            "           1       0.00      0.00      0.00        25\n",
            "           2       0.04      0.05      0.04        22\n",
            "           3       0.13      0.35      0.19        20\n",
            "           4       0.03      0.40      0.05         5\n",
            "           5       0.00      0.00      0.00         6\n",
            "           6       0.00      0.00      0.00         1\n",
            "\n",
            "    accuracy                           0.04       471\n",
            "   macro avg       0.15      0.12      0.05       471\n",
            "weighted avg       0.74      0.04      0.04       471\n",
            "\n"
          ]
        },
        {
          "name": "stderr",
          "output_type": "stream",
          "text": [
            "c:\\Users\\Sukhd\\anaconda3\\lib\\site-packages\\sklearn\\metrics\\_classification.py:1318: UndefinedMetricWarning: Precision and F-score are ill-defined and being set to 0.0 in labels with no predicted samples. Use `zero_division` parameter to control this behavior.\n",
            "  _warn_prf(average, modifier, msg_start, len(result))\n",
            "c:\\Users\\Sukhd\\anaconda3\\lib\\site-packages\\sklearn\\metrics\\_classification.py:1318: UndefinedMetricWarning: Precision and F-score are ill-defined and being set to 0.0 in labels with no predicted samples. Use `zero_division` parameter to control this behavior.\n",
            "  _warn_prf(average, modifier, msg_start, len(result))\n",
            "c:\\Users\\Sukhd\\anaconda3\\lib\\site-packages\\sklearn\\metrics\\_classification.py:1318: UndefinedMetricWarning: Precision and F-score are ill-defined and being set to 0.0 in labels with no predicted samples. Use `zero_division` parameter to control this behavior.\n",
            "  _warn_prf(average, modifier, msg_start, len(result))\n"
          ]
        }
      ],
      "source": [
        "print(classification_report(y_test,y_predict))"
      ]
    },
    {
      "cell_type": "markdown",
      "metadata": {
        "id": "WPcvp5kIzoCj"
      },
      "source": [
        "###Accuracy is 74%"
      ]
    },
    {
      "cell_type": "code",
      "execution_count": 76,
      "metadata": {
        "colab": {
          "base_uri": "https://localhost:8080/"
        },
        "id": "XJh2U8T70Hgg",
        "outputId": "cffdc333-884a-4b83-9709-d17bb4b3e9a6"
      },
      "outputs": [
        {
          "data": {
            "text/plain": [
              "{'ID': array([-7.78872612]),\n",
              " 'Nscore': array([-6.09688193]),\n",
              " 'Escore': array([-4.92496069]),\n",
              " 'Oscore': array([-2.52012181]),\n",
              " 'AScore': array([1.17336651]),\n",
              " 'Cscore': array([6.58764407]),\n",
              " 'Impulsive': array([13.56967996])}"
            ]
          },
          "execution_count": 76,
          "metadata": {},
          "output_type": "execute_result"
        }
      ],
      "source": [
        "feature_dict = dict(zip(df.columns, list(model.coef_)))\n",
        "feature_dict"
      ]
    },
    {
      "cell_type": "code",
      "execution_count": 77,
      "metadata": {
        "colab": {
          "base_uri": "https://localhost:8080/",
          "height": 500
        },
        "id": "4CFtC5uruDeK",
        "outputId": "b7fcd2cb-5e11-47f7-b8b0-d0c3277675da"
      },
      "outputs": [
        {
          "data": {
            "text/plain": [
              "<AxesSubplot:>"
            ]
          },
          "execution_count": 77,
          "metadata": {},
          "output_type": "execute_result"
        },
        {
          "data": {
            "image/png": "[encoded data removed]",
            "text/plain": [
              "<Figure size 640x480 with 1 Axes>"
            ]
          },
          "metadata": {},
          "output_type": "display_data"
        }
      ],
      "source": [
        "features = pd.DataFrame(feature_dict, index=[0])\n",
        "features.T.plot.bar(legend = False)"
      ]
    }
  ],
  "metadata": {
    "colab": {
      "provenance": []
    },
    "kernelspec": {
      "display_name": "Python 3",
      "name": "python3"
    },
    "language_info": {
      "codemirror_mode": {
        "name": "ipython",
        "version": 3
      },
      "file_extension": ".py",
      "mimetype": "text/x-python",
      "name": "python",
      "nbconvert_exporter": "python",
      "pygments_lexer": "ipython3",
      "version": "3.9.13"
    }
  },
  "nbformat": 4,
  "nbformat_minor": 0
}
