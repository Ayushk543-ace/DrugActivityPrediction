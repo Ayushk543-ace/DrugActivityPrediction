{
  "nbformat": 4,
  "nbformat_minor": 0,
  "metadata": {
    "colab": {
      "provenance": []
    },
    "kernelspec": {
      "name": "python3",
      "display_name": "Python 3"
    },
    "language_info": {
      "name": "python"
    }
  },
  "cells": [
    {
      "cell_type": "code",
      "execution_count": null,
      "metadata": {
        "id": "3PN1Va44Z6Dq"
      },
      "outputs": [],
      "source": [
        "import pandas as pd\n",
        "import sklearn\n",
        "import numpy as np\n",
        "from sklearn.preprocessing import OneHotEncoder"
      ]
    },
    {
      "cell_type": "markdown",
      "source": [
        "### Data Read and using functions"
      ],
      "metadata": {
        "id": "dmQ8y4bDu3Fa"
      }
    },
    {
      "cell_type": "code",
      "source": [
        "df = pd.read_csv('https://github.com/Ayushk543-ace/Dataset/raw/main/Drug_Consumption.csv')\n",
        "df.head()"
      ],
      "metadata": {
        "colab": {
          "base_uri": "https://localhost:8080/",
          "height": 349
        },
        "id": "f4ozXFTkaQoh",
        "outputId": "7c518715-9cc3-4e7e-e3f4-4cfedd5462a6"
      },
      "execution_count": null,
      "outputs": [
        {
          "output_type": "execute_result",
          "data": {
            "text/plain": [
              "   ID    Age Gender                          Education Country Ethnicity  \\\n",
              "0   2  25-34      M                   Doctorate degree      UK     White   \n",
              "1   3  35-44      M  Professional certificate/ diploma      UK     White   \n",
              "2   4  18-24      F                     Masters degree      UK     White   \n",
              "3   5  35-44      F                   Doctorate degree      UK     White   \n",
              "4   6    65+      F            Left school at 18 years  Canada     White   \n",
              "\n",
              "    Nscore   Escore   Oscore   AScore  ...  Ecstasy  Heroin  Ketamine Legalh  \\\n",
              "0 -0.67825  1.93886  1.43533  0.76096  ...      CL4     CL0       CL2    CL0   \n",
              "1 -0.46725  0.80523 -0.84732 -1.62090  ...      CL0     CL0       CL0    CL0   \n",
              "2 -0.14882 -0.80615 -0.01928  0.59042  ...      CL0     CL0       CL2    CL0   \n",
              "3  0.73545 -1.63340 -0.45174 -0.30172  ...      CL1     CL0       CL0    CL1   \n",
              "4 -0.67825 -0.30033 -1.55521  2.03972  ...      CL0     CL0       CL0    CL0   \n",
              "\n",
              "   LSD Meth Mushrooms Nicotine Semer  VSA  \n",
              "0  CL2  CL3       CL0      CL4   CL0  CL0  \n",
              "1  CL0  CL0       CL1      CL0   CL0  CL0  \n",
              "2  CL0  CL0       CL0      CL2   CL0  CL0  \n",
              "3  CL0  CL0       CL2      CL2   CL0  CL0  \n",
              "4  CL0  CL0       CL0      CL6   CL0  CL0  \n",
              "\n",
              "[5 rows x 32 columns]"
            ],
            "text/html": [
              "\n",
              "  <div id=\"df-7587fac0-26a5-43bc-a956-21236570648e\">\n",
              "    <div class=\"colab-df-container\">\n",
              "      <div>\n",
              "<style scoped>\n",
              "    .dataframe tbody tr th:only-of-type {\n",
              "        vertical-align: middle;\n",
              "    }\n",
              "\n",
              "    .dataframe tbody tr th {\n",
              "        vertical-align: top;\n",
              "    }\n",
              "\n",
              "    .dataframe thead th {\n",
              "        text-align: right;\n",
              "    }\n",
              "</style>\n",
              "<table border=\"1\" class=\"dataframe\">\n",
              "  <thead>\n",
              "    <tr style=\"text-align: right;\">\n",
              "      <th></th>\n",
              "      <th>ID</th>\n",
              "      <th>Age</th>\n",
              "      <th>Gender</th>\n",
              "      <th>Education</th>\n",
              "      <th>Country</th>\n",
              "      <th>Ethnicity</th>\n",
              "      <th>Nscore</th>\n",
              "      <th>Escore</th>\n",
              "      <th>Oscore</th>\n",
              "      <th>AScore</th>\n",
              "      <th>...</th>\n",
              "      <th>Ecstasy</th>\n",
              "      <th>Heroin</th>\n",
              "      <th>Ketamine</th>\n",
              "      <th>Legalh</th>\n",
              "      <th>LSD</th>\n",
              "      <th>Meth</th>\n",
              "      <th>Mushrooms</th>\n",
              "      <th>Nicotine</th>\n",
              "      <th>Semer</th>\n",
              "      <th>VSA</th>\n",
              "    </tr>\n",
              "  </thead>\n",
              "  <tbody>\n",
              "    <tr>\n",
              "      <th>0</th>\n",
              "      <td>2</td>\n",
              "      <td>25-34</td>\n",
              "      <td>M</td>\n",
              "      <td>Doctorate degree</td>\n",
              "      <td>UK</td>\n",
              "      <td>White</td>\n",
              "      <td>-0.67825</td>\n",
              "      <td>1.93886</td>\n",
              "      <td>1.43533</td>\n",
              "      <td>0.76096</td>\n",
              "      <td>...</td>\n",
              "      <td>CL4</td>\n",
              "      <td>CL0</td>\n",
              "      <td>CL2</td>\n",
              "      <td>CL0</td>\n",
              "      <td>CL2</td>\n",
              "      <td>CL3</td>\n",
              "      <td>CL0</td>\n",
              "      <td>CL4</td>\n",
              "      <td>CL0</td>\n",
              "      <td>CL0</td>\n",
              "    </tr>\n",
              "    <tr>\n",
              "      <th>1</th>\n",
              "      <td>3</td>\n",
              "      <td>35-44</td>\n",
              "      <td>M</td>\n",
              "      <td>Professional certificate/ diploma</td>\n",
              "      <td>UK</td>\n",
              "      <td>White</td>\n",
              "      <td>-0.46725</td>\n",
              "      <td>0.80523</td>\n",
              "      <td>-0.84732</td>\n",
              "      <td>-1.62090</td>\n",
              "      <td>...</td>\n",
              "      <td>CL0</td>\n",
              "      <td>CL0</td>\n",
              "      <td>CL0</td>\n",
              "      <td>CL0</td>\n",
              "      <td>CL0</td>\n",
              "      <td>CL0</td>\n",
              "      <td>CL1</td>\n",
              "      <td>CL0</td>\n",
              "      <td>CL0</td>\n",
              "      <td>CL0</td>\n",
              "    </tr>\n",
              "    <tr>\n",
              "      <th>2</th>\n",
              "      <td>4</td>\n",
              "      <td>18-24</td>\n",
              "      <td>F</td>\n",
              "      <td>Masters degree</td>\n",
              "      <td>UK</td>\n",
              "      <td>White</td>\n",
              "      <td>-0.14882</td>\n",
              "      <td>-0.80615</td>\n",
              "      <td>-0.01928</td>\n",
              "      <td>0.59042</td>\n",
              "      <td>...</td>\n",
              "      <td>CL0</td>\n",
              "      <td>CL0</td>\n",
              "      <td>CL2</td>\n",
              "      <td>CL0</td>\n",
              "      <td>CL0</td>\n",
              "      <td>CL0</td>\n",
              "      <td>CL0</td>\n",
              "      <td>CL2</td>\n",
              "      <td>CL0</td>\n",
              "      <td>CL0</td>\n",
              "    </tr>\n",
              "    <tr>\n",
              "      <th>3</th>\n",
              "      <td>5</td>\n",
              "      <td>35-44</td>\n",
              "      <td>F</td>\n",
              "      <td>Doctorate degree</td>\n",
              "      <td>UK</td>\n",
              "      <td>White</td>\n",
              "      <td>0.73545</td>\n",
              "      <td>-1.63340</td>\n",
              "      <td>-0.45174</td>\n",
              "      <td>-0.30172</td>\n",
              "      <td>...</td>\n",
              "      <td>CL1</td>\n",
              "      <td>CL0</td>\n",
              "      <td>CL0</td>\n",
              "      <td>CL1</td>\n",
              "      <td>CL0</td>\n",
              "      <td>CL0</td>\n",
              "      <td>CL2</td>\n",
              "      <td>CL2</td>\n",
              "      <td>CL0</td>\n",
              "      <td>CL0</td>\n",
              "    </tr>\n",
              "    <tr>\n",
              "      <th>4</th>\n",
              "      <td>6</td>\n",
              "      <td>65+</td>\n",
              "      <td>F</td>\n",
              "      <td>Left school at 18 years</td>\n",
              "      <td>Canada</td>\n",
              "      <td>White</td>\n",
              "      <td>-0.67825</td>\n",
              "      <td>-0.30033</td>\n",
              "      <td>-1.55521</td>\n",
              "      <td>2.03972</td>\n",
              "      <td>...</td>\n",
              "      <td>CL0</td>\n",
              "      <td>CL0</td>\n",
              "      <td>CL0</td>\n",
              "      <td>CL0</td>\n",
              "      <td>CL0</td>\n",
              "      <td>CL0</td>\n",
              "      <td>CL0</td>\n",
              "      <td>CL6</td>\n",
              "      <td>CL0</td>\n",
              "      <td>CL0</td>\n",
              "    </tr>\n",
              "  </tbody>\n",
              "</table>\n",
              "<p>5 rows × 32 columns</p>\n",
              "</div>\n",
              "      <button class=\"colab-df-convert\" onclick=\"convertToInteractive('df-7587fac0-26a5-43bc-a956-21236570648e')\"\n",
              "              title=\"Convert this dataframe to an interactive table.\"\n",
              "              style=\"display:none;\">\n",
              "        \n",
              "  <svg xmlns=\"http://www.w3.org/2000/svg\" height=\"24px\"viewBox=\"0 0 24 24\"\n",
              "       width=\"24px\">\n",
              "    <path d=\"M0 0h24v24H0V0z\" fill=\"none\"/>\n",
              "    <path d=\"M18.56 5.44l.94 2.06.94-2.06 2.06-.94-2.06-.94-.94-2.06-.94 2.06-2.06.94zm-11 1L8.5 8.5l.94-2.06 2.06-.94-2.06-.94L8.5 2.5l-.94 2.06-2.06.94zm10 10l.94 2.06.94-2.06 2.06-.94-2.06-.94-.94-2.06-.94 2.06-2.06.94z\"/><path d=\"M17.41 7.96l-1.37-1.37c-.4-.4-.92-.59-1.43-.59-.52 0-1.04.2-1.43.59L10.3 9.45l-7.72 7.72c-.78.78-.78 2.05 0 2.83L4 21.41c.39.39.9.59 1.41.59.51 0 1.02-.2 1.41-.59l7.78-7.78 2.81-2.81c.8-.78.8-2.07 0-2.86zM5.41 20L4 18.59l7.72-7.72 1.47 1.35L5.41 20z\"/>\n",
              "  </svg>\n",
              "      </button>\n",
              "      \n",
              "  <style>\n",
              "    .colab-df-container {\n",
              "      display:flex;\n",
              "      flex-wrap:wrap;\n",
              "      gap: 12px;\n",
              "    }\n",
              "\n",
              "    .colab-df-convert {\n",
              "      background-color: #E8F0FE;\n",
              "      border: none;\n",
              "      border-radius: 50%;\n",
              "      cursor: pointer;\n",
              "      display: none;\n",
              "      fill: #1967D2;\n",
              "      height: 32px;\n",
              "      padding: 0 0 0 0;\n",
              "      width: 32px;\n",
              "    }\n",
              "\n",
              "    .colab-df-convert:hover {\n",
              "      background-color: #E2EBFA;\n",
              "      box-shadow: 0px 1px 2px rgba(60, 64, 67, 0.3), 0px 1px 3px 1px rgba(60, 64, 67, 0.15);\n",
              "      fill: #174EA6;\n",
              "    }\n",
              "\n",
              "    [theme=dark] .colab-df-convert {\n",
              "      background-color: #3B4455;\n",
              "      fill: #D2E3FC;\n",
              "    }\n",
              "\n",
              "    [theme=dark] .colab-df-convert:hover {\n",
              "      background-color: #434B5C;\n",
              "      box-shadow: 0px 1px 3px 1px rgba(0, 0, 0, 0.15);\n",
              "      filter: drop-shadow(0px 1px 2px rgba(0, 0, 0, 0.3));\n",
              "      fill: #FFFFFF;\n",
              "    }\n",
              "  </style>\n",
              "\n",
              "      <script>\n",
              "        const buttonEl =\n",
              "          document.querySelector('#df-7587fac0-26a5-43bc-a956-21236570648e button.colab-df-convert');\n",
              "        buttonEl.style.display =\n",
              "          google.colab.kernel.accessAllowed ? 'block' : 'none';\n",
              "\n",
              "        async function convertToInteractive(key) {\n",
              "          const element = document.querySelector('#df-7587fac0-26a5-43bc-a956-21236570648e');\n",
              "          const dataTable =\n",
              "            await google.colab.kernel.invokeFunction('convertToInteractive',\n",
              "                                                     [key], {});\n",
              "          if (!dataTable) return;\n",
              "\n",
              "          const docLinkHtml = 'Like what you see? Visit the ' +\n",
              "            '<a target=\"_blank\" href=https://colab.research.google.com/notebooks/data_table.ipynb>data table notebook</a>'\n",
              "            + ' to learn more about interactive tables.';\n",
              "          element.innerHTML = '';\n",
              "          dataTable['output_type'] = 'display_data';\n",
              "          await google.colab.output.renderOutput(dataTable, element);\n",
              "          const docLink = document.createElement('div');\n",
              "          docLink.innerHTML = docLinkHtml;\n",
              "          element.appendChild(docLink);\n",
              "        }\n",
              "      </script>\n",
              "    </div>\n",
              "  </div>\n",
              "  "
            ]
          },
          "metadata": {},
          "execution_count": 2
        }
      ]
    },
    {
      "cell_type": "code",
      "source": [
        "df.info()"
      ],
      "metadata": {
        "colab": {
          "base_uri": "https://localhost:8080/"
        },
        "id": "umiLnqTAaguI",
        "outputId": "89cba709-6b2e-4021-df88-a8fa939dfdf0"
      },
      "execution_count": null,
      "outputs": [
        {
          "output_type": "stream",
          "name": "stdout",
          "text": [
            "<class 'pandas.core.frame.DataFrame'>\n",
            "RangeIndex: 1884 entries, 0 to 1883\n",
            "Data columns (total 32 columns):\n",
            " #   Column     Non-Null Count  Dtype  \n",
            "---  ------     --------------  -----  \n",
            " 0   ID         1884 non-null   int64  \n",
            " 1   Age        1884 non-null   object \n",
            " 2   Gender     1884 non-null   object \n",
            " 3   Education  1884 non-null   object \n",
            " 4   Country    1884 non-null   object \n",
            " 5   Ethnicity  1884 non-null   object \n",
            " 6   Nscore     1884 non-null   float64\n",
            " 7   Escore     1884 non-null   float64\n",
            " 8   Oscore     1884 non-null   float64\n",
            " 9   AScore     1884 non-null   float64\n",
            " 10  Cscore     1884 non-null   float64\n",
            " 11  Impulsive  1884 non-null   float64\n",
            " 12  SS         1884 non-null   float64\n",
            " 13  Alcohol    1884 non-null   object \n",
            " 14  Amphet     1884 non-null   object \n",
            " 15  Amyl       1884 non-null   object \n",
            " 16  Benzos     1884 non-null   object \n",
            " 17  Caff       1884 non-null   object \n",
            " 18  Cannabis   1884 non-null   object \n",
            " 19  Choc       1884 non-null   object \n",
            " 20  Coke       1884 non-null   object \n",
            " 21  Crack      1884 non-null   object \n",
            " 22  Ecstasy    1884 non-null   object \n",
            " 23  Heroin     1884 non-null   object \n",
            " 24  Ketamine   1884 non-null   object \n",
            " 25  Legalh     1884 non-null   object \n",
            " 26  LSD        1884 non-null   object \n",
            " 27  Meth       1884 non-null   object \n",
            " 28  Mushrooms  1884 non-null   object \n",
            " 29  Nicotine   1884 non-null   object \n",
            " 30  Semer      1884 non-null   object \n",
            " 31  VSA        1884 non-null   object \n",
            "dtypes: float64(7), int64(1), object(24)\n",
            "memory usage: 471.1+ KB\n"
          ]
        }
      ]
    },
    {
      "cell_type": "code",
      "source": [
        "df.Age.unique()"
      ],
      "metadata": {
        "colab": {
          "base_uri": "https://localhost:8080/"
        },
        "id": "LhXaqRjqaQrb",
        "outputId": "1e4fac82-8c75-4bac-9e82-4166eda14867"
      },
      "execution_count": null,
      "outputs": [
        {
          "output_type": "execute_result",
          "data": {
            "text/plain": [
              "array(['25-34', '35-44', '18-24', '65+', '45-54', '55-64'], dtype=object)"
            ]
          },
          "metadata": {},
          "execution_count": 4
        }
      ]
    },
    {
      "cell_type": "code",
      "source": [
        "df['Age']=df['Age'].astype('category')"
      ],
      "metadata": {
        "id": "f4KO9qyiaQuC"
      },
      "execution_count": null,
      "outputs": []
    },
    {
      "cell_type": "code",
      "source": [
        "df['New_Age']=df['Age'].cat.codes"
      ],
      "metadata": {
        "id": "vqktZfS7aQwp"
      },
      "execution_count": null,
      "outputs": []
    },
    {
      "cell_type": "code",
      "source": [
        "df.New_Age"
      ],
      "metadata": {
        "colab": {
          "base_uri": "https://localhost:8080/"
        },
        "id": "9y-rsBAyaQzg",
        "outputId": "9f1f5c04-8a0d-4cdf-817d-61d374f61c50"
      },
      "execution_count": null,
      "outputs": [
        {
          "output_type": "execute_result",
          "data": {
            "text/plain": [
              "0       1\n",
              "1       2\n",
              "2       0\n",
              "3       2\n",
              "4       5\n",
              "       ..\n",
              "1879    0\n",
              "1880    0\n",
              "1881    1\n",
              "1882    0\n",
              "1883    0\n",
              "Name: New_Age, Length: 1884, dtype: int8"
            ]
          },
          "metadata": {},
          "execution_count": 7
        }
      ]
    },
    {
      "cell_type": "markdown",
      "source": [
        "###Droping unwanted columns"
      ],
      "metadata": {
        "id": "1c3kS_QhwJCM"
      }
    },
    {
      "cell_type": "code",
      "source": [
        "df.drop(['Age'],inplace=True,axis=1)"
      ],
      "metadata": {
        "id": "BnYO9iISaQ2I"
      },
      "execution_count": null,
      "outputs": []
    },
    {
      "cell_type": "code",
      "source": [
        "df.drop(['Education'],inplace=True,axis=1)"
      ],
      "metadata": {
        "id": "H--Hy3lCaQ8H"
      },
      "execution_count": null,
      "outputs": []
    },
    {
      "cell_type": "code",
      "source": [
        "df.drop(['Ethnicity'],inplace=True,axis=1)"
      ],
      "metadata": {
        "id": "TSP0It8tdJ85"
      },
      "execution_count": null,
      "outputs": []
    },
    {
      "cell_type": "code",
      "source": [
        "df.drop(['VSA'],inplace=True,axis=1)"
      ],
      "metadata": {
        "id": "C_uXrohCcS5Y"
      },
      "execution_count": null,
      "outputs": []
    },
    {
      "cell_type": "code",
      "source": [
        "df.drop(['Semer'],inplace=True,axis=1)"
      ],
      "metadata": {
        "id": "C2ItDmBScS-K"
      },
      "execution_count": null,
      "outputs": []
    },
    {
      "cell_type": "code",
      "source": [
        "df.drop(['Nicotine'],inplace=True,axis=1)"
      ],
      "metadata": {
        "id": "lXA2A-0lcTAi"
      },
      "execution_count": null,
      "outputs": []
    },
    {
      "cell_type": "code",
      "source": [
        "df.drop(['Mushrooms'],inplace=True,axis=1)"
      ],
      "metadata": {
        "id": "euJlGnAbcTDA"
      },
      "execution_count": null,
      "outputs": []
    },
    {
      "cell_type": "code",
      "source": [
        "df.drop(['Meth'],inplace=True,axis=1)"
      ],
      "metadata": {
        "id": "b1dPuVtxfwHZ"
      },
      "execution_count": null,
      "outputs": []
    },
    {
      "cell_type": "code",
      "source": [
        "df.drop(['Ecstasy'],inplace=True,axis=1)"
      ],
      "metadata": {
        "id": "-NvzWCUpfwKw"
      },
      "execution_count": null,
      "outputs": []
    },
    {
      "cell_type": "markdown",
      "source": [
        "### covert objects into int "
      ],
      "metadata": {
        "id": "-iB-GoShwWbj"
      }
    },
    {
      "cell_type": "code",
      "source": [
        "df['Gender']=df['Gender'].astype('category')\n",
        "df['New_Gender']=df['Gender'].cat.codes\n",
        "df.New_Gender"
      ],
      "metadata": {
        "colab": {
          "base_uri": "https://localhost:8080/"
        },
        "id": "m7_hHbqscTH1",
        "outputId": "7a9c281d-f679-442a-83db-59c320b3d0e2"
      },
      "execution_count": null,
      "outputs": [
        {
          "output_type": "execute_result",
          "data": {
            "text/plain": [
              "0       1\n",
              "1       1\n",
              "2       0\n",
              "3       0\n",
              "4       0\n",
              "       ..\n",
              "1879    0\n",
              "1880    1\n",
              "1881    0\n",
              "1882    0\n",
              "1883    1\n",
              "Name: New_Gender, Length: 1884, dtype: int8"
            ]
          },
          "metadata": {},
          "execution_count": 17
        }
      ]
    },
    {
      "cell_type": "code",
      "source": [
        "df.drop(['Gender'],inplace=True,axis=1)"
      ],
      "metadata": {
        "id": "4dtwZg2FhzVo"
      },
      "execution_count": null,
      "outputs": []
    },
    {
      "cell_type": "code",
      "source": [
        "df['Country']=df['Country'].astype('category')\n",
        "df['New_Country']=df['Country'].cat.codes\n",
        "df.New_Country "
      ],
      "metadata": {
        "colab": {
          "base_uri": "https://localhost:8080/"
        },
        "id": "wT2OffppcTKS",
        "outputId": "6d1b99e4-e17c-4d3e-b845-3e53a2d43674"
      },
      "execution_count": null,
      "outputs": [
        {
          "output_type": "execute_result",
          "data": {
            "text/plain": [
              "0       5\n",
              "1       5\n",
              "2       5\n",
              "3       5\n",
              "4       1\n",
              "       ..\n",
              "1879    6\n",
              "1880    6\n",
              "1881    6\n",
              "1882    6\n",
              "1883    4\n",
              "Name: New_Country, Length: 1884, dtype: int8"
            ]
          },
          "metadata": {},
          "execution_count": 19
        }
      ]
    },
    {
      "cell_type": "code",
      "source": [
        "df.drop(['Country'],inplace=True,axis=1)"
      ],
      "metadata": {
        "id": "OJ3GOQaqh2O4"
      },
      "execution_count": null,
      "outputs": []
    },
    {
      "cell_type": "code",
      "source": [
        "df['Alcohol']=df['Alcohol'].astype('category')\n",
        "df['New_Alcohol']=df['Alcohol'].cat.codes\n",
        "df.New_Alcohol"
      ],
      "metadata": {
        "colab": {
          "base_uri": "https://localhost:8080/"
        },
        "id": "736PPjUkcTNx",
        "outputId": "a0d648f5-1390-4ba0-b5b6-c043f68863ee"
      },
      "execution_count": null,
      "outputs": [
        {
          "output_type": "execute_result",
          "data": {
            "text/plain": [
              "0       5\n",
              "1       6\n",
              "2       4\n",
              "3       4\n",
              "4       2\n",
              "       ..\n",
              "1879    5\n",
              "1880    5\n",
              "1881    4\n",
              "1882    5\n",
              "1883    4\n",
              "Name: New_Alcohol, Length: 1884, dtype: int8"
            ]
          },
          "metadata": {},
          "execution_count": 21
        }
      ]
    },
    {
      "cell_type": "code",
      "source": [
        "df.drop(['Alcohol'],inplace=True,axis=1)"
      ],
      "metadata": {
        "id": "Qh6UhLW6h5KK"
      },
      "execution_count": null,
      "outputs": []
    },
    {
      "cell_type": "code",
      "source": [
        "df['Amphet']=df['Amphet'].astype('category')\n",
        "df['New_Amphet']=df['Amphet'].cat.codes\n",
        "df.New_Amphet"
      ],
      "metadata": {
        "colab": {
          "base_uri": "https://localhost:8080/"
        },
        "id": "OGgquxkRdUi6",
        "outputId": "ef95481b-e229-4eab-8f1e-4c9815e0b7dc"
      },
      "execution_count": null,
      "outputs": [
        {
          "output_type": "execute_result",
          "data": {
            "text/plain": [
              "0       2\n",
              "1       0\n",
              "2       0\n",
              "3       1\n",
              "4       0\n",
              "       ..\n",
              "1879    0\n",
              "1880    0\n",
              "1881    6\n",
              "1882    0\n",
              "1883    3\n",
              "Name: New_Amphet, Length: 1884, dtype: int8"
            ]
          },
          "metadata": {},
          "execution_count": 23
        }
      ]
    },
    {
      "cell_type": "code",
      "source": [
        "df.drop(['Amphet'],inplace=True,axis=1)"
      ],
      "metadata": {
        "id": "MQtUHilCh-wu"
      },
      "execution_count": null,
      "outputs": []
    },
    {
      "cell_type": "code",
      "source": [
        "df['Amyl']=df['Amyl'].astype('category')\n",
        "df['New_Amyl']=df['Amyl'].cat.codes\n",
        "df.New_Amyl"
      ],
      "metadata": {
        "colab": {
          "base_uri": "https://localhost:8080/"
        },
        "id": "AknMHcMRdUp9",
        "outputId": "521d2d0f-6a7e-4d16-b076-4f13b8636a5d"
      },
      "execution_count": null,
      "outputs": [
        {
          "output_type": "execute_result",
          "data": {
            "text/plain": [
              "0       2\n",
              "1       0\n",
              "2       0\n",
              "3       1\n",
              "4       0\n",
              "       ..\n",
              "1879    0\n",
              "1880    0\n",
              "1881    5\n",
              "1882    0\n",
              "1883    0\n",
              "Name: New_Amyl, Length: 1884, dtype: int8"
            ]
          },
          "metadata": {},
          "execution_count": 25
        }
      ]
    },
    {
      "cell_type": "code",
      "source": [
        "df.drop(['Amyl'],inplace=True,axis=1)"
      ],
      "metadata": {
        "id": "dx7CHfAKiB6w"
      },
      "execution_count": null,
      "outputs": []
    },
    {
      "cell_type": "code",
      "source": [
        "df['Benzos']=df['Benzos'].astype('category')\n",
        "df['New_Benzos']=df['Benzos'].cat.codes\n",
        "df.New_Benzos"
      ],
      "metadata": {
        "colab": {
          "base_uri": "https://localhost:8080/"
        },
        "id": "J64yPk77dUwI",
        "outputId": "0ca2ba0d-8070-4db3-e962-e74dc367db3c"
      },
      "execution_count": null,
      "outputs": [
        {
          "output_type": "execute_result",
          "data": {
            "text/plain": [
              "0       0\n",
              "1       0\n",
              "2       3\n",
              "3       0\n",
              "4       0\n",
              "       ..\n",
              "1879    0\n",
              "1880    0\n",
              "1881    5\n",
              "1882    0\n",
              "1883    3\n",
              "Name: New_Benzos, Length: 1884, dtype: int8"
            ]
          },
          "metadata": {},
          "execution_count": 27
        }
      ]
    },
    {
      "cell_type": "code",
      "source": [
        "df.drop(['Benzos'],inplace=True,axis=1)"
      ],
      "metadata": {
        "id": "DwuIdJYziETu"
      },
      "execution_count": null,
      "outputs": []
    },
    {
      "cell_type": "code",
      "source": [
        "df['Caff']=df['Caff'].astype('category')\n",
        "df['New_Caff']=df['Caff'].cat.codes\n",
        "df.New_Caff "
      ],
      "metadata": {
        "colab": {
          "base_uri": "https://localhost:8080/"
        },
        "id": "iqap7_tBdU1b",
        "outputId": "d0c5d58b-ac0d-48a9-bc99-e8d4b220802d"
      },
      "execution_count": null,
      "outputs": [
        {
          "output_type": "execute_result",
          "data": {
            "text/plain": [
              "0       6\n",
              "1       6\n",
              "2       5\n",
              "3       6\n",
              "4       6\n",
              "       ..\n",
              "1879    4\n",
              "1880    5\n",
              "1881    6\n",
              "1882    6\n",
              "1883    6\n",
              "Name: New_Caff, Length: 1884, dtype: int8"
            ]
          },
          "metadata": {},
          "execution_count": 29
        }
      ]
    },
    {
      "cell_type": "code",
      "source": [
        "df.drop(['Caff'],inplace=True,axis=1)"
      ],
      "metadata": {
        "id": "k_jUglb1iG2b"
      },
      "execution_count": null,
      "outputs": []
    },
    {
      "cell_type": "code",
      "source": [
        "df['Cannabis']=df['Cannabis'].astype('category')\n",
        "df['New_Cannabis']=df['Cannabis'].cat.codes\n",
        "df.New_Cannabis"
      ],
      "metadata": {
        "colab": {
          "base_uri": "https://localhost:8080/"
        },
        "id": "G5eanlXciuPu",
        "outputId": "ef216025-6a22-4c42-db82-a6b13c6d17d2"
      },
      "execution_count": null,
      "outputs": [
        {
          "output_type": "execute_result",
          "data": {
            "text/plain": [
              "0       4\n",
              "1       3\n",
              "2       2\n",
              "3       3\n",
              "4       0\n",
              "       ..\n",
              "1879    5\n",
              "1880    3\n",
              "1881    6\n",
              "1882    6\n",
              "1883    3\n",
              "Name: New_Cannabis, Length: 1884, dtype: int8"
            ]
          },
          "metadata": {},
          "execution_count": 31
        }
      ]
    },
    {
      "cell_type": "code",
      "source": [
        "df.drop(['Cannabis'],inplace=True,axis=1)"
      ],
      "metadata": {
        "id": "DG1btyxUi2tp"
      },
      "execution_count": null,
      "outputs": []
    },
    {
      "cell_type": "code",
      "source": [
        "df['Choc']=df['Choc'].astype('category')\n",
        "df['New_Choc']=df['Choc'].cat.codes\n",
        "df.New_Choc"
      ],
      "metadata": {
        "colab": {
          "base_uri": "https://localhost:8080/"
        },
        "id": "rYil77OGdU6V",
        "outputId": "feccffdb-8795-49ac-9bb5-073391322b8b"
      },
      "execution_count": null,
      "outputs": [
        {
          "output_type": "execute_result",
          "data": {
            "text/plain": [
              "0       6\n",
              "1       4\n",
              "2       4\n",
              "3       6\n",
              "4       4\n",
              "       ..\n",
              "1879    4\n",
              "1880    4\n",
              "1881    6\n",
              "1882    5\n",
              "1883    6\n",
              "Name: New_Choc, Length: 1884, dtype: int8"
            ]
          },
          "metadata": {},
          "execution_count": 33
        }
      ]
    },
    {
      "cell_type": "code",
      "source": [
        "df.drop(['Choc'],inplace=True,axis=1)"
      ],
      "metadata": {
        "id": "UMwbuXdGiJXZ"
      },
      "execution_count": null,
      "outputs": []
    },
    {
      "cell_type": "code",
      "source": [
        "df['Coke']=df['Coke'].astype('category')\n",
        "df['New_Coke']=df['Coke'].cat.codes\n",
        "df.New_Coke"
      ],
      "metadata": {
        "colab": {
          "base_uri": "https://localhost:8080/"
        },
        "id": "7CLwr_lLdVA2",
        "outputId": "4c363ad1-7291-42af-c42e-a8e20d9c3ae0"
      },
      "execution_count": null,
      "outputs": [
        {
          "output_type": "execute_result",
          "data": {
            "text/plain": [
              "0       3\n",
              "1       0\n",
              "2       2\n",
              "3       0\n",
              "4       0\n",
              "       ..\n",
              "1879    0\n",
              "1880    0\n",
              "1881    4\n",
              "1882    0\n",
              "1883    3\n",
              "Name: New_Coke, Length: 1884, dtype: int8"
            ]
          },
          "metadata": {},
          "execution_count": 35
        }
      ]
    },
    {
      "cell_type": "code",
      "source": [
        "df.drop(['Coke'],inplace=True,axis=1)"
      ],
      "metadata": {
        "id": "tVJ4sKUqiN6o"
      },
      "execution_count": null,
      "outputs": []
    },
    {
      "cell_type": "code",
      "source": [
        "df['Crack']=df['Crack'].astype('category')\n",
        "df['New_Crack']=df['Crack'].cat.codes\n",
        "df.New_Crack"
      ],
      "metadata": {
        "colab": {
          "base_uri": "https://localhost:8080/"
        },
        "id": "Px6jyJQadVFW",
        "outputId": "ee508d4f-2809-42cb-a87e-ef6cc58adc54"
      },
      "execution_count": null,
      "outputs": [
        {
          "output_type": "execute_result",
          "data": {
            "text/plain": [
              "0       0\n",
              "1       0\n",
              "2       0\n",
              "3       0\n",
              "4       0\n",
              "       ..\n",
              "1879    0\n",
              "1880    0\n",
              "1881    0\n",
              "1882    0\n",
              "1883    0\n",
              "Name: New_Crack, Length: 1884, dtype: int8"
            ]
          },
          "metadata": {},
          "execution_count": 37
        }
      ]
    },
    {
      "cell_type": "code",
      "source": [
        "df.drop(['Crack'],inplace=True,axis=1)"
      ],
      "metadata": {
        "id": "squczH-TiRqF"
      },
      "execution_count": null,
      "outputs": []
    },
    {
      "cell_type": "code",
      "source": [
        "df['Heroin']=df['Heroin'].astype('category')\n",
        "df['New_Heroin']=df['Heroin'].cat.codes\n",
        "df.New_Heroin"
      ],
      "metadata": {
        "colab": {
          "base_uri": "https://localhost:8080/"
        },
        "id": "rWSsiRJKdVJr",
        "outputId": "d73f0780-cb15-4eb4-d2c2-d2529133a429"
      },
      "execution_count": null,
      "outputs": [
        {
          "output_type": "execute_result",
          "data": {
            "text/plain": [
              "0       0\n",
              "1       0\n",
              "2       0\n",
              "3       0\n",
              "4       0\n",
              "       ..\n",
              "1879    0\n",
              "1880    0\n",
              "1881    0\n",
              "1882    0\n",
              "1883    0\n",
              "Name: New_Heroin, Length: 1884, dtype: int8"
            ]
          },
          "metadata": {},
          "execution_count": 39
        }
      ]
    },
    {
      "cell_type": "code",
      "source": [
        "df.drop(['Heroin'],inplace=True,axis=1)"
      ],
      "metadata": {
        "id": "Eca_zbsqiUA-"
      },
      "execution_count": null,
      "outputs": []
    },
    {
      "cell_type": "code",
      "source": [
        "df['Ketamine']=df['Ketamine'].astype('category')\n",
        "df['New_Ketamine']=df['Ketamine'].cat.codes\n",
        "df.New_Ketamine"
      ],
      "metadata": {
        "colab": {
          "base_uri": "https://localhost:8080/"
        },
        "id": "onh_DN2udVOR",
        "outputId": "4f6c8cb5-73e8-4a07-93ad-bd48c9906430"
      },
      "execution_count": null,
      "outputs": [
        {
          "output_type": "execute_result",
          "data": {
            "text/plain": [
              "0       2\n",
              "1       0\n",
              "2       2\n",
              "3       0\n",
              "4       0\n",
              "       ..\n",
              "1879    0\n",
              "1880    0\n",
              "1881    2\n",
              "1882    0\n",
              "1883    0\n",
              "Name: New_Ketamine, Length: 1884, dtype: int8"
            ]
          },
          "metadata": {},
          "execution_count": 41
        }
      ]
    },
    {
      "cell_type": "code",
      "source": [
        "df.drop(['Ketamine'],inplace=True,axis=1)"
      ],
      "metadata": {
        "id": "npkvp5-oiWyG"
      },
      "execution_count": null,
      "outputs": []
    },
    {
      "cell_type": "code",
      "source": [
        "df['Legalh']=df['Legalh'].astype('category')\n",
        "df['New_Legalh']=df['Legalh'].cat.codes\n",
        "df.New_Legalh"
      ],
      "metadata": {
        "colab": {
          "base_uri": "https://localhost:8080/"
        },
        "id": "uDckv5R8dVSn",
        "outputId": "f34cc902-21c3-41eb-a07c-ad6fc2e14cbf"
      },
      "execution_count": null,
      "outputs": [
        {
          "output_type": "execute_result",
          "data": {
            "text/plain": [
              "0       0\n",
              "1       0\n",
              "2       0\n",
              "3       1\n",
              "4       0\n",
              "       ..\n",
              "1879    3\n",
              "1880    3\n",
              "1881    0\n",
              "1882    3\n",
              "1883    3\n",
              "Name: New_Legalh, Length: 1884, dtype: int8"
            ]
          },
          "metadata": {},
          "execution_count": 43
        }
      ]
    },
    {
      "cell_type": "code",
      "source": [
        "df.drop(['Legalh'],inplace=True,axis=1)"
      ],
      "metadata": {
        "id": "6DoaGrL7iZNA"
      },
      "execution_count": null,
      "outputs": []
    },
    {
      "cell_type": "code",
      "source": [
        "df['LSD']=df['LSD'].astype('category')\n",
        "df['New_LSD']=df['LSD'].cat.codes\n",
        "df.New_LSD"
      ],
      "metadata": {
        "colab": {
          "base_uri": "https://localhost:8080/"
        },
        "id": "ULLbBWmrdVXG",
        "outputId": "8c2435cd-3201-49b5-b4db-e117c199f67f"
      },
      "execution_count": null,
      "outputs": [
        {
          "output_type": "execute_result",
          "data": {
            "text/plain": [
              "0       2\n",
              "1       0\n",
              "2       0\n",
              "3       0\n",
              "4       0\n",
              "       ..\n",
              "1879    3\n",
              "1880    5\n",
              "1881    2\n",
              "1882    3\n",
              "1883    3\n",
              "Name: New_LSD, Length: 1884, dtype: int8"
            ]
          },
          "metadata": {},
          "execution_count": 45
        }
      ]
    },
    {
      "cell_type": "code",
      "source": [
        "df.drop(['LSD'],inplace=True,axis=1)"
      ],
      "metadata": {
        "id": "G-1juumJicZb"
      },
      "execution_count": null,
      "outputs": []
    },
    {
      "cell_type": "code",
      "source": [
        "df.info()"
      ],
      "metadata": {
        "colab": {
          "base_uri": "https://localhost:8080/"
        },
        "id": "xzDkYDKshnQP",
        "outputId": "8f2ecf8e-f092-4089-fa86-378a55f6cf90"
      },
      "execution_count": null,
      "outputs": [
        {
          "output_type": "stream",
          "name": "stdout",
          "text": [
            "<class 'pandas.core.frame.DataFrame'>\n",
            "RangeIndex: 1884 entries, 0 to 1883\n",
            "Data columns (total 24 columns):\n",
            " #   Column        Non-Null Count  Dtype  \n",
            "---  ------        --------------  -----  \n",
            " 0   ID            1884 non-null   int64  \n",
            " 1   Nscore        1884 non-null   float64\n",
            " 2   Escore        1884 non-null   float64\n",
            " 3   Oscore        1884 non-null   float64\n",
            " 4   AScore        1884 non-null   float64\n",
            " 5   Cscore        1884 non-null   float64\n",
            " 6   Impulsive     1884 non-null   float64\n",
            " 7   SS            1884 non-null   float64\n",
            " 8   New_Age       1884 non-null   int8   \n",
            " 9   New_Gender    1884 non-null   int8   \n",
            " 10  New_Country   1884 non-null   int8   \n",
            " 11  New_Alcohol   1884 non-null   int8   \n",
            " 12  New_Amphet    1884 non-null   int8   \n",
            " 13  New_Amyl      1884 non-null   int8   \n",
            " 14  New_Benzos    1884 non-null   int8   \n",
            " 15  New_Caff      1884 non-null   int8   \n",
            " 16  New_Cannabis  1884 non-null   int8   \n",
            " 17  New_Choc      1884 non-null   int8   \n",
            " 18  New_Coke      1884 non-null   int8   \n",
            " 19  New_Crack     1884 non-null   int8   \n",
            " 20  New_Heroin    1884 non-null   int8   \n",
            " 21  New_Ketamine  1884 non-null   int8   \n",
            " 22  New_Legalh    1884 non-null   int8   \n",
            " 23  New_LSD       1884 non-null   int8   \n",
            "dtypes: float64(7), int64(1), int8(16)\n",
            "memory usage: 147.3 KB\n"
          ]
        }
      ]
    },
    {
      "cell_type": "code",
      "source": [
        "df.head()"
      ],
      "metadata": {
        "colab": {
          "base_uri": "https://localhost:8080/",
          "height": 299
        },
        "id": "-83lT1nddVv4",
        "outputId": "a1a441b4-1d8a-4f2a-cbae-56e3d3e540d0"
      },
      "execution_count": null,
      "outputs": [
        {
          "output_type": "execute_result",
          "data": {
            "text/plain": [
              "   ID   Nscore   Escore   Oscore   AScore   Cscore  Impulsive       SS  \\\n",
              "0   2 -0.67825  1.93886  1.43533  0.76096 -0.14277   -0.71126 -0.21575   \n",
              "1   3 -0.46725  0.80523 -0.84732 -1.62090 -1.01450   -1.37983  0.40148   \n",
              "2   4 -0.14882 -0.80615 -0.01928  0.59042  0.58489   -1.37983 -1.18084   \n",
              "3   5  0.73545 -1.63340 -0.45174 -0.30172  1.30612   -0.21712 -0.21575   \n",
              "4   6 -0.67825 -0.30033 -1.55521  2.03972  1.63088   -1.37983 -1.54858   \n",
              "\n",
              "   New_Age  New_Gender  ...  New_Benzos  New_Caff  New_Cannabis  New_Choc  \\\n",
              "0        1           1  ...           0         6             4         6   \n",
              "1        2           1  ...           0         6             3         4   \n",
              "2        0           0  ...           3         5             2         4   \n",
              "3        2           0  ...           0         6             3         6   \n",
              "4        5           0  ...           0         6             0         4   \n",
              "\n",
              "   New_Coke  New_Crack  New_Heroin  New_Ketamine  New_Legalh  New_LSD  \n",
              "0         3          0           0             2           0        2  \n",
              "1         0          0           0             0           0        0  \n",
              "2         2          0           0             2           0        0  \n",
              "3         0          0           0             0           1        0  \n",
              "4         0          0           0             0           0        0  \n",
              "\n",
              "[5 rows x 24 columns]"
            ],
            "text/html": [
              "\n",
              "  <div id=\"df-1a0c3c81-6953-442f-a139-6e9c0fd78713\">\n",
              "    <div class=\"colab-df-container\">\n",
              "      <div>\n",
              "<style scoped>\n",
              "    .dataframe tbody tr th:only-of-type {\n",
              "        vertical-align: middle;\n",
              "    }\n",
              "\n",
              "    .dataframe tbody tr th {\n",
              "        vertical-align: top;\n",
              "    }\n",
              "\n",
              "    .dataframe thead th {\n",
              "        text-align: right;\n",
              "    }\n",
              "</style>\n",
              "<table border=\"1\" class=\"dataframe\">\n",
              "  <thead>\n",
              "    <tr style=\"text-align: right;\">\n",
              "      <th></th>\n",
              "      <th>ID</th>\n",
              "      <th>Nscore</th>\n",
              "      <th>Escore</th>\n",
              "      <th>Oscore</th>\n",
              "      <th>AScore</th>\n",
              "      <th>Cscore</th>\n",
              "      <th>Impulsive</th>\n",
              "      <th>SS</th>\n",
              "      <th>New_Age</th>\n",
              "      <th>New_Gender</th>\n",
              "      <th>...</th>\n",
              "      <th>New_Benzos</th>\n",
              "      <th>New_Caff</th>\n",
              "      <th>New_Cannabis</th>\n",
              "      <th>New_Choc</th>\n",
              "      <th>New_Coke</th>\n",
              "      <th>New_Crack</th>\n",
              "      <th>New_Heroin</th>\n",
              "      <th>New_Ketamine</th>\n",
              "      <th>New_Legalh</th>\n",
              "      <th>New_LSD</th>\n",
              "    </tr>\n",
              "  </thead>\n",
              "  <tbody>\n",
              "    <tr>\n",
              "      <th>0</th>\n",
              "      <td>2</td>\n",
              "      <td>-0.67825</td>\n",
              "      <td>1.93886</td>\n",
              "      <td>1.43533</td>\n",
              "      <td>0.76096</td>\n",
              "      <td>-0.14277</td>\n",
              "      <td>-0.71126</td>\n",
              "      <td>-0.21575</td>\n",
              "      <td>1</td>\n",
              "      <td>1</td>\n",
              "      <td>...</td>\n",
              "      <td>0</td>\n",
              "      <td>6</td>\n",
              "      <td>4</td>\n",
              "      <td>6</td>\n",
              "      <td>3</td>\n",
              "      <td>0</td>\n",
              "      <td>0</td>\n",
              "      <td>2</td>\n",
              "      <td>0</td>\n",
              "      <td>2</td>\n",
              "    </tr>\n",
              "    <tr>\n",
              "      <th>1</th>\n",
              "      <td>3</td>\n",
              "      <td>-0.46725</td>\n",
              "      <td>0.80523</td>\n",
              "      <td>-0.84732</td>\n",
              "      <td>-1.62090</td>\n",
              "      <td>-1.01450</td>\n",
              "      <td>-1.37983</td>\n",
              "      <td>0.40148</td>\n",
              "      <td>2</td>\n",
              "      <td>1</td>\n",
              "      <td>...</td>\n",
              "      <td>0</td>\n",
              "      <td>6</td>\n",
              "      <td>3</td>\n",
              "      <td>4</td>\n",
              "      <td>0</td>\n",
              "      <td>0</td>\n",
              "      <td>0</td>\n",
              "      <td>0</td>\n",
              "      <td>0</td>\n",
              "      <td>0</td>\n",
              "    </tr>\n",
              "    <tr>\n",
              "      <th>2</th>\n",
              "      <td>4</td>\n",
              "      <td>-0.14882</td>\n",
              "      <td>-0.80615</td>\n",
              "      <td>-0.01928</td>\n",
              "      <td>0.59042</td>\n",
              "      <td>0.58489</td>\n",
              "      <td>-1.37983</td>\n",
              "      <td>-1.18084</td>\n",
              "      <td>0</td>\n",
              "      <td>0</td>\n",
              "      <td>...</td>\n",
              "      <td>3</td>\n",
              "      <td>5</td>\n",
              "      <td>2</td>\n",
              "      <td>4</td>\n",
              "      <td>2</td>\n",
              "      <td>0</td>\n",
              "      <td>0</td>\n",
              "      <td>2</td>\n",
              "      <td>0</td>\n",
              "      <td>0</td>\n",
              "    </tr>\n",
              "    <tr>\n",
              "      <th>3</th>\n",
              "      <td>5</td>\n",
              "      <td>0.73545</td>\n",
              "      <td>-1.63340</td>\n",
              "      <td>-0.45174</td>\n",
              "      <td>-0.30172</td>\n",
              "      <td>1.30612</td>\n",
              "      <td>-0.21712</td>\n",
              "      <td>-0.21575</td>\n",
              "      <td>2</td>\n",
              "      <td>0</td>\n",
              "      <td>...</td>\n",
              "      <td>0</td>\n",
              "      <td>6</td>\n",
              "      <td>3</td>\n",
              "      <td>6</td>\n",
              "      <td>0</td>\n",
              "      <td>0</td>\n",
              "      <td>0</td>\n",
              "      <td>0</td>\n",
              "      <td>1</td>\n",
              "      <td>0</td>\n",
              "    </tr>\n",
              "    <tr>\n",
              "      <th>4</th>\n",
              "      <td>6</td>\n",
              "      <td>-0.67825</td>\n",
              "      <td>-0.30033</td>\n",
              "      <td>-1.55521</td>\n",
              "      <td>2.03972</td>\n",
              "      <td>1.63088</td>\n",
              "      <td>-1.37983</td>\n",
              "      <td>-1.54858</td>\n",
              "      <td>5</td>\n",
              "      <td>0</td>\n",
              "      <td>...</td>\n",
              "      <td>0</td>\n",
              "      <td>6</td>\n",
              "      <td>0</td>\n",
              "      <td>4</td>\n",
              "      <td>0</td>\n",
              "      <td>0</td>\n",
              "      <td>0</td>\n",
              "      <td>0</td>\n",
              "      <td>0</td>\n",
              "      <td>0</td>\n",
              "    </tr>\n",
              "  </tbody>\n",
              "</table>\n",
              "<p>5 rows × 24 columns</p>\n",
              "</div>\n",
              "      <button class=\"colab-df-convert\" onclick=\"convertToInteractive('df-1a0c3c81-6953-442f-a139-6e9c0fd78713')\"\n",
              "              title=\"Convert this dataframe to an interactive table.\"\n",
              "              style=\"display:none;\">\n",
              "        \n",
              "  <svg xmlns=\"http://www.w3.org/2000/svg\" height=\"24px\"viewBox=\"0 0 24 24\"\n",
              "       width=\"24px\">\n",
              "    <path d=\"M0 0h24v24H0V0z\" fill=\"none\"/>\n",
              "    <path d=\"M18.56 5.44l.94 2.06.94-2.06 2.06-.94-2.06-.94-.94-2.06-.94 2.06-2.06.94zm-11 1L8.5 8.5l.94-2.06 2.06-.94-2.06-.94L8.5 2.5l-.94 2.06-2.06.94zm10 10l.94 2.06.94-2.06 2.06-.94-2.06-.94-.94-2.06-.94 2.06-2.06.94z\"/><path d=\"M17.41 7.96l-1.37-1.37c-.4-.4-.92-.59-1.43-.59-.52 0-1.04.2-1.43.59L10.3 9.45l-7.72 7.72c-.78.78-.78 2.05 0 2.83L4 21.41c.39.39.9.59 1.41.59.51 0 1.02-.2 1.41-.59l7.78-7.78 2.81-2.81c.8-.78.8-2.07 0-2.86zM5.41 20L4 18.59l7.72-7.72 1.47 1.35L5.41 20z\"/>\n",
              "  </svg>\n",
              "      </button>\n",
              "      \n",
              "  <style>\n",
              "    .colab-df-container {\n",
              "      display:flex;\n",
              "      flex-wrap:wrap;\n",
              "      gap: 12px;\n",
              "    }\n",
              "\n",
              "    .colab-df-convert {\n",
              "      background-color: #E8F0FE;\n",
              "      border: none;\n",
              "      border-radius: 50%;\n",
              "      cursor: pointer;\n",
              "      display: none;\n",
              "      fill: #1967D2;\n",
              "      height: 32px;\n",
              "      padding: 0 0 0 0;\n",
              "      width: 32px;\n",
              "    }\n",
              "\n",
              "    .colab-df-convert:hover {\n",
              "      background-color: #E2EBFA;\n",
              "      box-shadow: 0px 1px 2px rgba(60, 64, 67, 0.3), 0px 1px 3px 1px rgba(60, 64, 67, 0.15);\n",
              "      fill: #174EA6;\n",
              "    }\n",
              "\n",
              "    [theme=dark] .colab-df-convert {\n",
              "      background-color: #3B4455;\n",
              "      fill: #D2E3FC;\n",
              "    }\n",
              "\n",
              "    [theme=dark] .colab-df-convert:hover {\n",
              "      background-color: #434B5C;\n",
              "      box-shadow: 0px 1px 3px 1px rgba(0, 0, 0, 0.15);\n",
              "      filter: drop-shadow(0px 1px 2px rgba(0, 0, 0, 0.3));\n",
              "      fill: #FFFFFF;\n",
              "    }\n",
              "  </style>\n",
              "\n",
              "      <script>\n",
              "        const buttonEl =\n",
              "          document.querySelector('#df-1a0c3c81-6953-442f-a139-6e9c0fd78713 button.colab-df-convert');\n",
              "        buttonEl.style.display =\n",
              "          google.colab.kernel.accessAllowed ? 'block' : 'none';\n",
              "\n",
              "        async function convertToInteractive(key) {\n",
              "          const element = document.querySelector('#df-1a0c3c81-6953-442f-a139-6e9c0fd78713');\n",
              "          const dataTable =\n",
              "            await google.colab.kernel.invokeFunction('convertToInteractive',\n",
              "                                                     [key], {});\n",
              "          if (!dataTable) return;\n",
              "\n",
              "          const docLinkHtml = 'Like what you see? Visit the ' +\n",
              "            '<a target=\"_blank\" href=https://colab.research.google.com/notebooks/data_table.ipynb>data table notebook</a>'\n",
              "            + ' to learn more about interactive tables.';\n",
              "          element.innerHTML = '';\n",
              "          dataTable['output_type'] = 'display_data';\n",
              "          await google.colab.output.renderOutput(dataTable, element);\n",
              "          const docLink = document.createElement('div');\n",
              "          docLink.innerHTML = docLinkHtml;\n",
              "          element.appendChild(docLink);\n",
              "        }\n",
              "      </script>\n",
              "    </div>\n",
              "  </div>\n",
              "  "
            ]
          },
          "metadata": {},
          "execution_count": 48
        }
      ]
    },
    {
      "cell_type": "code",
      "source": [
        "df"
      ],
      "metadata": {
        "colab": {
          "base_uri": "https://localhost:8080/",
          "height": 487
        },
        "id": "iAEn63RldVy2",
        "outputId": "2e3e0945-a9bd-4392-d2b7-117d2b6ddf56"
      },
      "execution_count": null,
      "outputs": [
        {
          "output_type": "execute_result",
          "data": {
            "text/plain": [
              "        ID   Nscore   Escore   Oscore   AScore   Cscore  Impulsive       SS  \\\n",
              "0        2 -0.67825  1.93886  1.43533  0.76096 -0.14277   -0.71126 -0.21575   \n",
              "1        3 -0.46725  0.80523 -0.84732 -1.62090 -1.01450   -1.37983  0.40148   \n",
              "2        4 -0.14882 -0.80615 -0.01928  0.59042  0.58489   -1.37983 -1.18084   \n",
              "3        5  0.73545 -1.63340 -0.45174 -0.30172  1.30612   -0.21712 -0.21575   \n",
              "4        6 -0.67825 -0.30033 -1.55521  2.03972  1.63088   -1.37983 -1.54858   \n",
              "...    ...      ...      ...      ...      ...      ...        ...      ...   \n",
              "1879  1884 -1.19430  1.74091  1.88511  0.76096 -1.13788    0.88113  1.92173   \n",
              "1880  1885 -0.24649  1.74091  0.58331  0.76096 -1.51840    0.88113  0.76540   \n",
              "1881  1886  1.13281 -1.37639 -1.27553 -1.77200 -1.38502    0.52975 -0.52593   \n",
              "1882  1887  0.91093 -1.92173  0.29338 -1.62090 -2.57309    1.29221  1.22470   \n",
              "1883  1888 -0.46725  2.12700  1.65653  1.11406  0.41594    0.88113  1.22470   \n",
              "\n",
              "      New_Age  New_Gender  ...  New_Benzos  New_Caff  New_Cannabis  New_Choc  \\\n",
              "0           1           1  ...           0         6             4         6   \n",
              "1           2           1  ...           0         6             3         4   \n",
              "2           0           0  ...           3         5             2         4   \n",
              "3           2           0  ...           0         6             3         6   \n",
              "4           5           0  ...           0         6             0         4   \n",
              "...       ...         ...  ...         ...       ...           ...       ...   \n",
              "1879        0           0  ...           0         4             5         4   \n",
              "1880        0           1  ...           0         5             3         4   \n",
              "1881        1           0  ...           5         6             6         6   \n",
              "1882        0           0  ...           0         6             6         5   \n",
              "1883        0           1  ...           3         6             3         6   \n",
              "\n",
              "      New_Coke  New_Crack  New_Heroin  New_Ketamine  New_Legalh  New_LSD  \n",
              "0            3          0           0             2           0        2  \n",
              "1            0          0           0             0           0        0  \n",
              "2            2          0           0             2           0        0  \n",
              "3            0          0           0             0           1        0  \n",
              "4            0          0           0             0           0        0  \n",
              "...        ...        ...         ...           ...         ...      ...  \n",
              "1879         0          0           0             0           3        3  \n",
              "1880         0          0           0             0           3        5  \n",
              "1881         4          0           0             2           0        2  \n",
              "1882         0          0           0             0           3        3  \n",
              "1883         3          0           0             0           3        3  \n",
              "\n",
              "[1884 rows x 24 columns]"
            ],
            "text/html": [
              "\n",
              "  <div id=\"df-213406a2-78a3-434b-9413-74ba7e16e7d0\">\n",
              "    <div class=\"colab-df-container\">\n",
              "      <div>\n",
              "<style scoped>\n",
              "    .dataframe tbody tr th:only-of-type {\n",
              "        vertical-align: middle;\n",
              "    }\n",
              "\n",
              "    .dataframe tbody tr th {\n",
              "        vertical-align: top;\n",
              "    }\n",
              "\n",
              "    .dataframe thead th {\n",
              "        text-align: right;\n",
              "    }\n",
              "</style>\n",
              "<table border=\"1\" class=\"dataframe\">\n",
              "  <thead>\n",
              "    <tr style=\"text-align: right;\">\n",
              "      <th></th>\n",
              "      <th>ID</th>\n",
              "      <th>Nscore</th>\n",
              "      <th>Escore</th>\n",
              "      <th>Oscore</th>\n",
              "      <th>AScore</th>\n",
              "      <th>Cscore</th>\n",
              "      <th>Impulsive</th>\n",
              "      <th>SS</th>\n",
              "      <th>New_Age</th>\n",
              "      <th>New_Gender</th>\n",
              "      <th>...</th>\n",
              "      <th>New_Benzos</th>\n",
              "      <th>New_Caff</th>\n",
              "      <th>New_Cannabis</th>\n",
              "      <th>New_Choc</th>\n",
              "      <th>New_Coke</th>\n",
              "      <th>New_Crack</th>\n",
              "      <th>New_Heroin</th>\n",
              "      <th>New_Ketamine</th>\n",
              "      <th>New_Legalh</th>\n",
              "      <th>New_LSD</th>\n",
              "    </tr>\n",
              "  </thead>\n",
              "  <tbody>\n",
              "    <tr>\n",
              "      <th>0</th>\n",
              "      <td>2</td>\n",
              "      <td>-0.67825</td>\n",
              "      <td>1.93886</td>\n",
              "      <td>1.43533</td>\n",
              "      <td>0.76096</td>\n",
              "      <td>-0.14277</td>\n",
              "      <td>-0.71126</td>\n",
              "      <td>-0.21575</td>\n",
              "      <td>1</td>\n",
              "      <td>1</td>\n",
              "      <td>...</td>\n",
              "      <td>0</td>\n",
              "      <td>6</td>\n",
              "      <td>4</td>\n",
              "      <td>6</td>\n",
              "      <td>3</td>\n",
              "      <td>0</td>\n",
              "      <td>0</td>\n",
              "      <td>2</td>\n",
              "      <td>0</td>\n",
              "      <td>2</td>\n",
              "    </tr>\n",
              "    <tr>\n",
              "      <th>1</th>\n",
              "      <td>3</td>\n",
              "      <td>-0.46725</td>\n",
              "      <td>0.80523</td>\n",
              "      <td>-0.84732</td>\n",
              "      <td>-1.62090</td>\n",
              "      <td>-1.01450</td>\n",
              "      <td>-1.37983</td>\n",
              "      <td>0.40148</td>\n",
              "      <td>2</td>\n",
              "      <td>1</td>\n",
              "      <td>...</td>\n",
              "      <td>0</td>\n",
              "      <td>6</td>\n",
              "      <td>3</td>\n",
              "      <td>4</td>\n",
              "      <td>0</td>\n",
              "      <td>0</td>\n",
              "      <td>0</td>\n",
              "      <td>0</td>\n",
              "      <td>0</td>\n",
              "      <td>0</td>\n",
              "    </tr>\n",
              "    <tr>\n",
              "      <th>2</th>\n",
              "      <td>4</td>\n",
              "      <td>-0.14882</td>\n",
              "      <td>-0.80615</td>\n",
              "      <td>-0.01928</td>\n",
              "      <td>0.59042</td>\n",
              "      <td>0.58489</td>\n",
              "      <td>-1.37983</td>\n",
              "      <td>-1.18084</td>\n",
              "      <td>0</td>\n",
              "      <td>0</td>\n",
              "      <td>...</td>\n",
              "      <td>3</td>\n",
              "      <td>5</td>\n",
              "      <td>2</td>\n",
              "      <td>4</td>\n",
              "      <td>2</td>\n",
              "      <td>0</td>\n",
              "      <td>0</td>\n",
              "      <td>2</td>\n",
              "      <td>0</td>\n",
              "      <td>0</td>\n",
              "    </tr>\n",
              "    <tr>\n",
              "      <th>3</th>\n",
              "      <td>5</td>\n",
              "      <td>0.73545</td>\n",
              "      <td>-1.63340</td>\n",
              "      <td>-0.45174</td>\n",
              "      <td>-0.30172</td>\n",
              "      <td>1.30612</td>\n",
              "      <td>-0.21712</td>\n",
              "      <td>-0.21575</td>\n",
              "      <td>2</td>\n",
              "      <td>0</td>\n",
              "      <td>...</td>\n",
              "      <td>0</td>\n",
              "      <td>6</td>\n",
              "      <td>3</td>\n",
              "      <td>6</td>\n",
              "      <td>0</td>\n",
              "      <td>0</td>\n",
              "      <td>0</td>\n",
              "      <td>0</td>\n",
              "      <td>1</td>\n",
              "      <td>0</td>\n",
              "    </tr>\n",
              "    <tr>\n",
              "      <th>4</th>\n",
              "      <td>6</td>\n",
              "      <td>-0.67825</td>\n",
              "      <td>-0.30033</td>\n",
              "      <td>-1.55521</td>\n",
              "      <td>2.03972</td>\n",
              "      <td>1.63088</td>\n",
              "      <td>-1.37983</td>\n",
              "      <td>-1.54858</td>\n",
              "      <td>5</td>\n",
              "      <td>0</td>\n",
              "      <td>...</td>\n",
              "      <td>0</td>\n",
              "      <td>6</td>\n",
              "      <td>0</td>\n",
              "      <td>4</td>\n",
              "      <td>0</td>\n",
              "      <td>0</td>\n",
              "      <td>0</td>\n",
              "      <td>0</td>\n",
              "      <td>0</td>\n",
              "      <td>0</td>\n",
              "    </tr>\n",
              "    <tr>\n",
              "      <th>...</th>\n",
              "      <td>...</td>\n",
              "      <td>...</td>\n",
              "      <td>...</td>\n",
              "      <td>...</td>\n",
              "      <td>...</td>\n",
              "      <td>...</td>\n",
              "      <td>...</td>\n",
              "      <td>...</td>\n",
              "      <td>...</td>\n",
              "      <td>...</td>\n",
              "      <td>...</td>\n",
              "      <td>...</td>\n",
              "      <td>...</td>\n",
              "      <td>...</td>\n",
              "      <td>...</td>\n",
              "      <td>...</td>\n",
              "      <td>...</td>\n",
              "      <td>...</td>\n",
              "      <td>...</td>\n",
              "      <td>...</td>\n",
              "      <td>...</td>\n",
              "    </tr>\n",
              "    <tr>\n",
              "      <th>1879</th>\n",
              "      <td>1884</td>\n",
              "      <td>-1.19430</td>\n",
              "      <td>1.74091</td>\n",
              "      <td>1.88511</td>\n",
              "      <td>0.76096</td>\n",
              "      <td>-1.13788</td>\n",
              "      <td>0.88113</td>\n",
              "      <td>1.92173</td>\n",
              "      <td>0</td>\n",
              "      <td>0</td>\n",
              "      <td>...</td>\n",
              "      <td>0</td>\n",
              "      <td>4</td>\n",
              "      <td>5</td>\n",
              "      <td>4</td>\n",
              "      <td>0</td>\n",
              "      <td>0</td>\n",
              "      <td>0</td>\n",
              "      <td>0</td>\n",
              "      <td>3</td>\n",
              "      <td>3</td>\n",
              "    </tr>\n",
              "    <tr>\n",
              "      <th>1880</th>\n",
              "      <td>1885</td>\n",
              "      <td>-0.24649</td>\n",
              "      <td>1.74091</td>\n",
              "      <td>0.58331</td>\n",
              "      <td>0.76096</td>\n",
              "      <td>-1.51840</td>\n",
              "      <td>0.88113</td>\n",
              "      <td>0.76540</td>\n",
              "      <td>0</td>\n",
              "      <td>1</td>\n",
              "      <td>...</td>\n",
              "      <td>0</td>\n",
              "      <td>5</td>\n",
              "      <td>3</td>\n",
              "      <td>4</td>\n",
              "      <td>0</td>\n",
              "      <td>0</td>\n",
              "      <td>0</td>\n",
              "      <td>0</td>\n",
              "      <td>3</td>\n",
              "      <td>5</td>\n",
              "    </tr>\n",
              "    <tr>\n",
              "      <th>1881</th>\n",
              "      <td>1886</td>\n",
              "      <td>1.13281</td>\n",
              "      <td>-1.37639</td>\n",
              "      <td>-1.27553</td>\n",
              "      <td>-1.77200</td>\n",
              "      <td>-1.38502</td>\n",
              "      <td>0.52975</td>\n",
              "      <td>-0.52593</td>\n",
              "      <td>1</td>\n",
              "      <td>0</td>\n",
              "      <td>...</td>\n",
              "      <td>5</td>\n",
              "      <td>6</td>\n",
              "      <td>6</td>\n",
              "      <td>6</td>\n",
              "      <td>4</td>\n",
              "      <td>0</td>\n",
              "      <td>0</td>\n",
              "      <td>2</td>\n",
              "      <td>0</td>\n",
              "      <td>2</td>\n",
              "    </tr>\n",
              "    <tr>\n",
              "      <th>1882</th>\n",
              "      <td>1887</td>\n",
              "      <td>0.91093</td>\n",
              "      <td>-1.92173</td>\n",
              "      <td>0.29338</td>\n",
              "      <td>-1.62090</td>\n",
              "      <td>-2.57309</td>\n",
              "      <td>1.29221</td>\n",
              "      <td>1.22470</td>\n",
              "      <td>0</td>\n",
              "      <td>0</td>\n",
              "      <td>...</td>\n",
              "      <td>0</td>\n",
              "      <td>6</td>\n",
              "      <td>6</td>\n",
              "      <td>5</td>\n",
              "      <td>0</td>\n",
              "      <td>0</td>\n",
              "      <td>0</td>\n",
              "      <td>0</td>\n",
              "      <td>3</td>\n",
              "      <td>3</td>\n",
              "    </tr>\n",
              "    <tr>\n",
              "      <th>1883</th>\n",
              "      <td>1888</td>\n",
              "      <td>-0.46725</td>\n",
              "      <td>2.12700</td>\n",
              "      <td>1.65653</td>\n",
              "      <td>1.11406</td>\n",
              "      <td>0.41594</td>\n",
              "      <td>0.88113</td>\n",
              "      <td>1.22470</td>\n",
              "      <td>0</td>\n",
              "      <td>1</td>\n",
              "      <td>...</td>\n",
              "      <td>3</td>\n",
              "      <td>6</td>\n",
              "      <td>3</td>\n",
              "      <td>6</td>\n",
              "      <td>3</td>\n",
              "      <td>0</td>\n",
              "      <td>0</td>\n",
              "      <td>0</td>\n",
              "      <td>3</td>\n",
              "      <td>3</td>\n",
              "    </tr>\n",
              "  </tbody>\n",
              "</table>\n",
              "<p>1884 rows × 24 columns</p>\n",
              "</div>\n",
              "      <button class=\"colab-df-convert\" onclick=\"convertToInteractive('df-213406a2-78a3-434b-9413-74ba7e16e7d0')\"\n",
              "              title=\"Convert this dataframe to an interactive table.\"\n",
              "              style=\"display:none;\">\n",
              "        \n",
              "  <svg xmlns=\"http://www.w3.org/2000/svg\" height=\"24px\"viewBox=\"0 0 24 24\"\n",
              "       width=\"24px\">\n",
              "    <path d=\"M0 0h24v24H0V0z\" fill=\"none\"/>\n",
              "    <path d=\"M18.56 5.44l.94 2.06.94-2.06 2.06-.94-2.06-.94-.94-2.06-.94 2.06-2.06.94zm-11 1L8.5 8.5l.94-2.06 2.06-.94-2.06-.94L8.5 2.5l-.94 2.06-2.06.94zm10 10l.94 2.06.94-2.06 2.06-.94-2.06-.94-.94-2.06-.94 2.06-2.06.94z\"/><path d=\"M17.41 7.96l-1.37-1.37c-.4-.4-.92-.59-1.43-.59-.52 0-1.04.2-1.43.59L10.3 9.45l-7.72 7.72c-.78.78-.78 2.05 0 2.83L4 21.41c.39.39.9.59 1.41.59.51 0 1.02-.2 1.41-.59l7.78-7.78 2.81-2.81c.8-.78.8-2.07 0-2.86zM5.41 20L4 18.59l7.72-7.72 1.47 1.35L5.41 20z\"/>\n",
              "  </svg>\n",
              "      </button>\n",
              "      \n",
              "  <style>\n",
              "    .colab-df-container {\n",
              "      display:flex;\n",
              "      flex-wrap:wrap;\n",
              "      gap: 12px;\n",
              "    }\n",
              "\n",
              "    .colab-df-convert {\n",
              "      background-color: #E8F0FE;\n",
              "      border: none;\n",
              "      border-radius: 50%;\n",
              "      cursor: pointer;\n",
              "      display: none;\n",
              "      fill: #1967D2;\n",
              "      height: 32px;\n",
              "      padding: 0 0 0 0;\n",
              "      width: 32px;\n",
              "    }\n",
              "\n",
              "    .colab-df-convert:hover {\n",
              "      background-color: #E2EBFA;\n",
              "      box-shadow: 0px 1px 2px rgba(60, 64, 67, 0.3), 0px 1px 3px 1px rgba(60, 64, 67, 0.15);\n",
              "      fill: #174EA6;\n",
              "    }\n",
              "\n",
              "    [theme=dark] .colab-df-convert {\n",
              "      background-color: #3B4455;\n",
              "      fill: #D2E3FC;\n",
              "    }\n",
              "\n",
              "    [theme=dark] .colab-df-convert:hover {\n",
              "      background-color: #434B5C;\n",
              "      box-shadow: 0px 1px 3px 1px rgba(0, 0, 0, 0.15);\n",
              "      filter: drop-shadow(0px 1px 2px rgba(0, 0, 0, 0.3));\n",
              "      fill: #FFFFFF;\n",
              "    }\n",
              "  </style>\n",
              "\n",
              "      <script>\n",
              "        const buttonEl =\n",
              "          document.querySelector('#df-213406a2-78a3-434b-9413-74ba7e16e7d0 button.colab-df-convert');\n",
              "        buttonEl.style.display =\n",
              "          google.colab.kernel.accessAllowed ? 'block' : 'none';\n",
              "\n",
              "        async function convertToInteractive(key) {\n",
              "          const element = document.querySelector('#df-213406a2-78a3-434b-9413-74ba7e16e7d0');\n",
              "          const dataTable =\n",
              "            await google.colab.kernel.invokeFunction('convertToInteractive',\n",
              "                                                     [key], {});\n",
              "          if (!dataTable) return;\n",
              "\n",
              "          const docLinkHtml = 'Like what you see? Visit the ' +\n",
              "            '<a target=\"_blank\" href=https://colab.research.google.com/notebooks/data_table.ipynb>data table notebook</a>'\n",
              "            + ' to learn more about interactive tables.';\n",
              "          element.innerHTML = '';\n",
              "          dataTable['output_type'] = 'display_data';\n",
              "          await google.colab.output.renderOutput(dataTable, element);\n",
              "          const docLink = document.createElement('div');\n",
              "          docLink.innerHTML = docLinkHtml;\n",
              "          element.appendChild(docLink);\n",
              "        }\n",
              "      </script>\n",
              "    </div>\n",
              "  </div>\n",
              "  "
            ]
          },
          "metadata": {},
          "execution_count": 49
        }
      ]
    },
    {
      "cell_type": "code",
      "source": [
        "df.describe()"
      ],
      "metadata": {
        "colab": {
          "base_uri": "https://localhost:8080/",
          "height": 393
        },
        "id": "ifEBWZW3dV1w",
        "outputId": "f87acf2b-2d67-443d-8d9c-9dcddedfb20e"
      },
      "execution_count": null,
      "outputs": [
        {
          "output_type": "execute_result",
          "data": {
            "text/plain": [
              "                ID       Nscore       Escore       Oscore       AScore  \\\n",
              "count  1884.000000  1884.000000  1884.000000  1884.000000  1884.000000   \n",
              "mean    945.796178    -0.000119     0.000143    -0.000225     0.000242   \n",
              "std     544.877779     0.998345     0.997625     0.996402     0.997481   \n",
              "min       2.000000    -3.464360    -3.273930    -3.273930    -3.464360   \n",
              "25%     474.750000    -0.678250    -0.695090    -0.717270    -0.606330   \n",
              "50%     946.500000     0.042570     0.003320    -0.019280    -0.017290   \n",
              "75%    1417.250000     0.629670     0.637790     0.723300     0.760960   \n",
              "max    1888.000000     3.273930     3.273930     2.901610     3.464360   \n",
              "\n",
              "            Cscore    Impulsive           SS      New_Age   New_Gender  ...  \\\n",
              "count  1884.000000  1884.000000  1884.000000  1884.000000  1884.000000  ...   \n",
              "mean     -0.000383     0.007335    -0.002667     1.345541     0.500531  ...   \n",
              "std       0.997787     0.954674     0.963575     1.277705     0.500132  ...   \n",
              "min      -3.464360    -2.555240    -2.078480     0.000000     0.000000  ...   \n",
              "25%      -0.652530    -0.711260    -0.525930     0.000000     0.000000  ...   \n",
              "50%      -0.006650    -0.217120     0.079870     1.000000     1.000000  ...   \n",
              "75%       0.584890     0.529750     0.765400     2.000000     1.000000  ...   \n",
              "max       3.464360     2.901610     1.921730     5.000000     1.000000  ...   \n",
              "\n",
              "        New_Benzos     New_Caff  New_Cannabis     New_Choc     New_Coke  \\\n",
              "count  1884.000000  1884.000000   1884.000000  1884.000000  1884.000000   \n",
              "mean      1.464968     5.483546      2.990977     5.106688     1.161890   \n",
              "std       1.867730     1.114880      2.287007     1.089601     1.513196   \n",
              "min       0.000000     0.000000      0.000000     0.000000     0.000000   \n",
              "25%       0.000000     5.000000      1.000000     5.000000     0.000000   \n",
              "50%       0.000000     6.000000      3.000000     5.000000     0.000000   \n",
              "75%       3.000000     6.000000      5.000000     6.000000     2.000000   \n",
              "max       6.000000     6.000000      6.000000     6.000000     6.000000   \n",
              "\n",
              "         New_Crack   New_Heroin  New_Ketamine   New_Legalh      New_LSD  \n",
              "count  1884.000000  1884.000000   1884.000000  1884.000000  1884.000000  \n",
              "mean      0.297771     0.374204      0.569533     1.356688     1.062102  \n",
              "std       0.837247     1.035018      1.220269     1.789849     1.491298  \n",
              "min       0.000000     0.000000      0.000000     0.000000     0.000000  \n",
              "25%       0.000000     0.000000      0.000000     0.000000     0.000000  \n",
              "50%       0.000000     0.000000      0.000000     0.000000     0.000000  \n",
              "75%       0.000000     0.000000      0.000000     3.000000     2.000000  \n",
              "max       6.000000     6.000000      6.000000     6.000000     6.000000  \n",
              "\n",
              "[8 rows x 24 columns]"
            ],
            "text/html": [
              "\n",
              "  <div id=\"df-590d3c9b-769f-4022-a3c4-a71f0de23074\">\n",
              "    <div class=\"colab-df-container\">\n",
              "      <div>\n",
              "<style scoped>\n",
              "    .dataframe tbody tr th:only-of-type {\n",
              "        vertical-align: middle;\n",
              "    }\n",
              "\n",
              "    .dataframe tbody tr th {\n",
              "        vertical-align: top;\n",
              "    }\n",
              "\n",
              "    .dataframe thead th {\n",
              "        text-align: right;\n",
              "    }\n",
              "</style>\n",
              "<table border=\"1\" class=\"dataframe\">\n",
              "  <thead>\n",
              "    <tr style=\"text-align: right;\">\n",
              "      <th></th>\n",
              "      <th>ID</th>\n",
              "      <th>Nscore</th>\n",
              "      <th>Escore</th>\n",
              "      <th>Oscore</th>\n",
              "      <th>AScore</th>\n",
              "      <th>Cscore</th>\n",
              "      <th>Impulsive</th>\n",
              "      <th>SS</th>\n",
              "      <th>New_Age</th>\n",
              "      <th>New_Gender</th>\n",
              "      <th>...</th>\n",
              "      <th>New_Benzos</th>\n",
              "      <th>New_Caff</th>\n",
              "      <th>New_Cannabis</th>\n",
              "      <th>New_Choc</th>\n",
              "      <th>New_Coke</th>\n",
              "      <th>New_Crack</th>\n",
              "      <th>New_Heroin</th>\n",
              "      <th>New_Ketamine</th>\n",
              "      <th>New_Legalh</th>\n",
              "      <th>New_LSD</th>\n",
              "    </tr>\n",
              "  </thead>\n",
              "  <tbody>\n",
              "    <tr>\n",
              "      <th>count</th>\n",
              "      <td>1884.000000</td>\n",
              "      <td>1884.000000</td>\n",
              "      <td>1884.000000</td>\n",
              "      <td>1884.000000</td>\n",
              "      <td>1884.000000</td>\n",
              "      <td>1884.000000</td>\n",
              "      <td>1884.000000</td>\n",
              "      <td>1884.000000</td>\n",
              "      <td>1884.000000</td>\n",
              "      <td>1884.000000</td>\n",
              "      <td>...</td>\n",
              "      <td>1884.000000</td>\n",
              "      <td>1884.000000</td>\n",
              "      <td>1884.000000</td>\n",
              "      <td>1884.000000</td>\n",
              "      <td>1884.000000</td>\n",
              "      <td>1884.000000</td>\n",
              "      <td>1884.000000</td>\n",
              "      <td>1884.000000</td>\n",
              "      <td>1884.000000</td>\n",
              "      <td>1884.000000</td>\n",
              "    </tr>\n",
              "    <tr>\n",
              "      <th>mean</th>\n",
              "      <td>945.796178</td>\n",
              "      <td>-0.000119</td>\n",
              "      <td>0.000143</td>\n",
              "      <td>-0.000225</td>\n",
              "      <td>0.000242</td>\n",
              "      <td>-0.000383</td>\n",
              "      <td>0.007335</td>\n",
              "      <td>-0.002667</td>\n",
              "      <td>1.345541</td>\n",
              "      <td>0.500531</td>\n",
              "      <td>...</td>\n",
              "      <td>1.464968</td>\n",
              "      <td>5.483546</td>\n",
              "      <td>2.990977</td>\n",
              "      <td>5.106688</td>\n",
              "      <td>1.161890</td>\n",
              "      <td>0.297771</td>\n",
              "      <td>0.374204</td>\n",
              "      <td>0.569533</td>\n",
              "      <td>1.356688</td>\n",
              "      <td>1.062102</td>\n",
              "    </tr>\n",
              "    <tr>\n",
              "      <th>std</th>\n",
              "      <td>544.877779</td>\n",
              "      <td>0.998345</td>\n",
              "      <td>0.997625</td>\n",
              "      <td>0.996402</td>\n",
              "      <td>0.997481</td>\n",
              "      <td>0.997787</td>\n",
              "      <td>0.954674</td>\n",
              "      <td>0.963575</td>\n",
              "      <td>1.277705</td>\n",
              "      <td>0.500132</td>\n",
              "      <td>...</td>\n",
              "      <td>1.867730</td>\n",
              "      <td>1.114880</td>\n",
              "      <td>2.287007</td>\n",
              "      <td>1.089601</td>\n",
              "      <td>1.513196</td>\n",
              "      <td>0.837247</td>\n",
              "      <td>1.035018</td>\n",
              "      <td>1.220269</td>\n",
              "      <td>1.789849</td>\n",
              "      <td>1.491298</td>\n",
              "    </tr>\n",
              "    <tr>\n",
              "      <th>min</th>\n",
              "      <td>2.000000</td>\n",
              "      <td>-3.464360</td>\n",
              "      <td>-3.273930</td>\n",
              "      <td>-3.273930</td>\n",
              "      <td>-3.464360</td>\n",
              "      <td>-3.464360</td>\n",
              "      <td>-2.555240</td>\n",
              "      <td>-2.078480</td>\n",
              "      <td>0.000000</td>\n",
              "      <td>0.000000</td>\n",
              "      <td>...</td>\n",
              "      <td>0.000000</td>\n",
              "      <td>0.000000</td>\n",
              "      <td>0.000000</td>\n",
              "      <td>0.000000</td>\n",
              "      <td>0.000000</td>\n",
              "      <td>0.000000</td>\n",
              "      <td>0.000000</td>\n",
              "      <td>0.000000</td>\n",
              "      <td>0.000000</td>\n",
              "      <td>0.000000</td>\n",
              "    </tr>\n",
              "    <tr>\n",
              "      <th>25%</th>\n",
              "      <td>474.750000</td>\n",
              "      <td>-0.678250</td>\n",
              "      <td>-0.695090</td>\n",
              "      <td>-0.717270</td>\n",
              "      <td>-0.606330</td>\n",
              "      <td>-0.652530</td>\n",
              "      <td>-0.711260</td>\n",
              "      <td>-0.525930</td>\n",
              "      <td>0.000000</td>\n",
              "      <td>0.000000</td>\n",
              "      <td>...</td>\n",
              "      <td>0.000000</td>\n",
              "      <td>5.000000</td>\n",
              "      <td>1.000000</td>\n",
              "      <td>5.000000</td>\n",
              "      <td>0.000000</td>\n",
              "      <td>0.000000</td>\n",
              "      <td>0.000000</td>\n",
              "      <td>0.000000</td>\n",
              "      <td>0.000000</td>\n",
              "      <td>0.000000</td>\n",
              "    </tr>\n",
              "    <tr>\n",
              "      <th>50%</th>\n",
              "      <td>946.500000</td>\n",
              "      <td>0.042570</td>\n",
              "      <td>0.003320</td>\n",
              "      <td>-0.019280</td>\n",
              "      <td>-0.017290</td>\n",
              "      <td>-0.006650</td>\n",
              "      <td>-0.217120</td>\n",
              "      <td>0.079870</td>\n",
              "      <td>1.000000</td>\n",
              "      <td>1.000000</td>\n",
              "      <td>...</td>\n",
              "      <td>0.000000</td>\n",
              "      <td>6.000000</td>\n",
              "      <td>3.000000</td>\n",
              "      <td>5.000000</td>\n",
              "      <td>0.000000</td>\n",
              "      <td>0.000000</td>\n",
              "      <td>0.000000</td>\n",
              "      <td>0.000000</td>\n",
              "      <td>0.000000</td>\n",
              "      <td>0.000000</td>\n",
              "    </tr>\n",
              "    <tr>\n",
              "      <th>75%</th>\n",
              "      <td>1417.250000</td>\n",
              "      <td>0.629670</td>\n",
              "      <td>0.637790</td>\n",
              "      <td>0.723300</td>\n",
              "      <td>0.760960</td>\n",
              "      <td>0.584890</td>\n",
              "      <td>0.529750</td>\n",
              "      <td>0.765400</td>\n",
              "      <td>2.000000</td>\n",
              "      <td>1.000000</td>\n",
              "      <td>...</td>\n",
              "      <td>3.000000</td>\n",
              "      <td>6.000000</td>\n",
              "      <td>5.000000</td>\n",
              "      <td>6.000000</td>\n",
              "      <td>2.000000</td>\n",
              "      <td>0.000000</td>\n",
              "      <td>0.000000</td>\n",
              "      <td>0.000000</td>\n",
              "      <td>3.000000</td>\n",
              "      <td>2.000000</td>\n",
              "    </tr>\n",
              "    <tr>\n",
              "      <th>max</th>\n",
              "      <td>1888.000000</td>\n",
              "      <td>3.273930</td>\n",
              "      <td>3.273930</td>\n",
              "      <td>2.901610</td>\n",
              "      <td>3.464360</td>\n",
              "      <td>3.464360</td>\n",
              "      <td>2.901610</td>\n",
              "      <td>1.921730</td>\n",
              "      <td>5.000000</td>\n",
              "      <td>1.000000</td>\n",
              "      <td>...</td>\n",
              "      <td>6.000000</td>\n",
              "      <td>6.000000</td>\n",
              "      <td>6.000000</td>\n",
              "      <td>6.000000</td>\n",
              "      <td>6.000000</td>\n",
              "      <td>6.000000</td>\n",
              "      <td>6.000000</td>\n",
              "      <td>6.000000</td>\n",
              "      <td>6.000000</td>\n",
              "      <td>6.000000</td>\n",
              "    </tr>\n",
              "  </tbody>\n",
              "</table>\n",
              "<p>8 rows × 24 columns</p>\n",
              "</div>\n",
              "      <button class=\"colab-df-convert\" onclick=\"convertToInteractive('df-590d3c9b-769f-4022-a3c4-a71f0de23074')\"\n",
              "              title=\"Convert this dataframe to an interactive table.\"\n",
              "              style=\"display:none;\">\n",
              "        \n",
              "  <svg xmlns=\"http://www.w3.org/2000/svg\" height=\"24px\"viewBox=\"0 0 24 24\"\n",
              "       width=\"24px\">\n",
              "    <path d=\"M0 0h24v24H0V0z\" fill=\"none\"/>\n",
              "    <path d=\"M18.56 5.44l.94 2.06.94-2.06 2.06-.94-2.06-.94-.94-2.06-.94 2.06-2.06.94zm-11 1L8.5 8.5l.94-2.06 2.06-.94-2.06-.94L8.5 2.5l-.94 2.06-2.06.94zm10 10l.94 2.06.94-2.06 2.06-.94-2.06-.94-.94-2.06-.94 2.06-2.06.94z\"/><path d=\"M17.41 7.96l-1.37-1.37c-.4-.4-.92-.59-1.43-.59-.52 0-1.04.2-1.43.59L10.3 9.45l-7.72 7.72c-.78.78-.78 2.05 0 2.83L4 21.41c.39.39.9.59 1.41.59.51 0 1.02-.2 1.41-.59l7.78-7.78 2.81-2.81c.8-.78.8-2.07 0-2.86zM5.41 20L4 18.59l7.72-7.72 1.47 1.35L5.41 20z\"/>\n",
              "  </svg>\n",
              "      </button>\n",
              "      \n",
              "  <style>\n",
              "    .colab-df-container {\n",
              "      display:flex;\n",
              "      flex-wrap:wrap;\n",
              "      gap: 12px;\n",
              "    }\n",
              "\n",
              "    .colab-df-convert {\n",
              "      background-color: #E8F0FE;\n",
              "      border: none;\n",
              "      border-radius: 50%;\n",
              "      cursor: pointer;\n",
              "      display: none;\n",
              "      fill: #1967D2;\n",
              "      height: 32px;\n",
              "      padding: 0 0 0 0;\n",
              "      width: 32px;\n",
              "    }\n",
              "\n",
              "    .colab-df-convert:hover {\n",
              "      background-color: #E2EBFA;\n",
              "      box-shadow: 0px 1px 2px rgba(60, 64, 67, 0.3), 0px 1px 3px 1px rgba(60, 64, 67, 0.15);\n",
              "      fill: #174EA6;\n",
              "    }\n",
              "\n",
              "    [theme=dark] .colab-df-convert {\n",
              "      background-color: #3B4455;\n",
              "      fill: #D2E3FC;\n",
              "    }\n",
              "\n",
              "    [theme=dark] .colab-df-convert:hover {\n",
              "      background-color: #434B5C;\n",
              "      box-shadow: 0px 1px 3px 1px rgba(0, 0, 0, 0.15);\n",
              "      filter: drop-shadow(0px 1px 2px rgba(0, 0, 0, 0.3));\n",
              "      fill: #FFFFFF;\n",
              "    }\n",
              "  </style>\n",
              "\n",
              "      <script>\n",
              "        const buttonEl =\n",
              "          document.querySelector('#df-590d3c9b-769f-4022-a3c4-a71f0de23074 button.colab-df-convert');\n",
              "        buttonEl.style.display =\n",
              "          google.colab.kernel.accessAllowed ? 'block' : 'none';\n",
              "\n",
              "        async function convertToInteractive(key) {\n",
              "          const element = document.querySelector('#df-590d3c9b-769f-4022-a3c4-a71f0de23074');\n",
              "          const dataTable =\n",
              "            await google.colab.kernel.invokeFunction('convertToInteractive',\n",
              "                                                     [key], {});\n",
              "          if (!dataTable) return;\n",
              "\n",
              "          const docLinkHtml = 'Like what you see? Visit the ' +\n",
              "            '<a target=\"_blank\" href=https://colab.research.google.com/notebooks/data_table.ipynb>data table notebook</a>'\n",
              "            + ' to learn more about interactive tables.';\n",
              "          element.innerHTML = '';\n",
              "          dataTable['output_type'] = 'display_data';\n",
              "          await google.colab.output.renderOutput(dataTable, element);\n",
              "          const docLink = document.createElement('div');\n",
              "          docLink.innerHTML = docLinkHtml;\n",
              "          element.appendChild(docLink);\n",
              "        }\n",
              "      </script>\n",
              "    </div>\n",
              "  </div>\n",
              "  "
            ]
          },
          "metadata": {},
          "execution_count": 50
        }
      ]
    },
    {
      "cell_type": "code",
      "source": [
        "df.columns"
      ],
      "metadata": {
        "colab": {
          "base_uri": "https://localhost:8080/"
        },
        "id": "oA4qYTOgdV4l",
        "outputId": "f3a7d8e7-759c-4ba4-d4a5-75488241f325"
      },
      "execution_count": null,
      "outputs": [
        {
          "output_type": "execute_result",
          "data": {
            "text/plain": [
              "Index(['ID', 'Nscore', 'Escore', 'Oscore', 'AScore', 'Cscore', 'Impulsive',\n",
              "       'SS', 'New_Age', 'New_Gender', 'New_Country', 'New_Alcohol',\n",
              "       'New_Amphet', 'New_Amyl', 'New_Benzos', 'New_Caff', 'New_Cannabis',\n",
              "       'New_Choc', 'New_Coke', 'New_Crack', 'New_Heroin', 'New_Ketamine',\n",
              "       'New_Legalh', 'New_LSD'],\n",
              "      dtype='object')"
            ]
          },
          "metadata": {},
          "execution_count": 51
        }
      ]
    },
    {
      "cell_type": "markdown",
      "source": [
        "### Train the model"
      ],
      "metadata": {
        "id": "aHrCC5sMwnq8"
      }
    },
    {
      "cell_type": "code",
      "source": [
        "y = df['New_Heroin']\n",
        "X = df[['New_Alcohol']]"
      ],
      "metadata": {
        "id": "dgFtiJWydV7n"
      },
      "execution_count": null,
      "outputs": []
    },
    {
      "cell_type": "code",
      "source": [
        "df.shape"
      ],
      "metadata": {
        "colab": {
          "base_uri": "https://localhost:8080/"
        },
        "id": "A_Xw294wdV-X",
        "outputId": "ad472b25-8173-4b5b-8145-9ec9068a60f7"
      },
      "execution_count": null,
      "outputs": [
        {
          "output_type": "execute_result",
          "data": {
            "text/plain": [
              "(1884, 24)"
            ]
          },
          "metadata": {},
          "execution_count": 53
        }
      ]
    },
    {
      "cell_type": "code",
      "source": [
        "X.shape"
      ],
      "metadata": {
        "colab": {
          "base_uri": "https://localhost:8080/"
        },
        "id": "0cTaXG-VdWBP",
        "outputId": "2fdef961-8699-474e-e0e5-734672ea6d04"
      },
      "execution_count": null,
      "outputs": [
        {
          "output_type": "execute_result",
          "data": {
            "text/plain": [
              "(1884, 1)"
            ]
          },
          "metadata": {},
          "execution_count": 54
        }
      ]
    },
    {
      "cell_type": "code",
      "source": [
        "y.shape"
      ],
      "metadata": {
        "colab": {
          "base_uri": "https://localhost:8080/"
        },
        "id": "7eF56-ogdWEB",
        "outputId": "534c65de-ad6d-4845-94b0-44b203f56605"
      },
      "execution_count": null,
      "outputs": [
        {
          "output_type": "execute_result",
          "data": {
            "text/plain": [
              "(1884,)"
            ]
          },
          "metadata": {},
          "execution_count": 55
        }
      ]
    },
    {
      "cell_type": "code",
      "source": [
        "from sklearn.model_selection import train_test_split"
      ],
      "metadata": {
        "id": "THq1VOJudWG7"
      },
      "execution_count": null,
      "outputs": []
    },
    {
      "cell_type": "code",
      "source": [
        "X_train,y_train,X_test,y_test=train_test_split(X,y,random_state=2529)"
      ],
      "metadata": {
        "id": "sHWrrrELdWJw"
      },
      "execution_count": null,
      "outputs": []
    },
    {
      "cell_type": "code",
      "source": [
        "X_train"
      ],
      "metadata": {
        "colab": {
          "base_uri": "https://localhost:8080/",
          "height": 423
        },
        "id": "5zYOFSFhdWMm",
        "outputId": "519ee052-aadc-48a4-b6f3-7873e552b36f"
      },
      "execution_count": null,
      "outputs": [
        {
          "output_type": "execute_result",
          "data": {
            "text/plain": [
              "      New_Alcohol\n",
              "1000            5\n",
              "61              5\n",
              "270             6\n",
              "577             5\n",
              "80              5\n",
              "...           ...\n",
              "740             1\n",
              "399             5\n",
              "828             4\n",
              "1586            5\n",
              "1376            5\n",
              "\n",
              "[1413 rows x 1 columns]"
            ],
            "text/html": [
              "\n",
              "  <div id=\"df-d8b30766-0dbe-48d3-91ae-a989a3238d77\">\n",
              "    <div class=\"colab-df-container\">\n",
              "      <div>\n",
              "<style scoped>\n",
              "    .dataframe tbody tr th:only-of-type {\n",
              "        vertical-align: middle;\n",
              "    }\n",
              "\n",
              "    .dataframe tbody tr th {\n",
              "        vertical-align: top;\n",
              "    }\n",
              "\n",
              "    .dataframe thead th {\n",
              "        text-align: right;\n",
              "    }\n",
              "</style>\n",
              "<table border=\"1\" class=\"dataframe\">\n",
              "  <thead>\n",
              "    <tr style=\"text-align: right;\">\n",
              "      <th></th>\n",
              "      <th>New_Alcohol</th>\n",
              "    </tr>\n",
              "  </thead>\n",
              "  <tbody>\n",
              "    <tr>\n",
              "      <th>1000</th>\n",
              "      <td>5</td>\n",
              "    </tr>\n",
              "    <tr>\n",
              "      <th>61</th>\n",
              "      <td>5</td>\n",
              "    </tr>\n",
              "    <tr>\n",
              "      <th>270</th>\n",
              "      <td>6</td>\n",
              "    </tr>\n",
              "    <tr>\n",
              "      <th>577</th>\n",
              "      <td>5</td>\n",
              "    </tr>\n",
              "    <tr>\n",
              "      <th>80</th>\n",
              "      <td>5</td>\n",
              "    </tr>\n",
              "    <tr>\n",
              "      <th>...</th>\n",
              "      <td>...</td>\n",
              "    </tr>\n",
              "    <tr>\n",
              "      <th>740</th>\n",
              "      <td>1</td>\n",
              "    </tr>\n",
              "    <tr>\n",
              "      <th>399</th>\n",
              "      <td>5</td>\n",
              "    </tr>\n",
              "    <tr>\n",
              "      <th>828</th>\n",
              "      <td>4</td>\n",
              "    </tr>\n",
              "    <tr>\n",
              "      <th>1586</th>\n",
              "      <td>5</td>\n",
              "    </tr>\n",
              "    <tr>\n",
              "      <th>1376</th>\n",
              "      <td>5</td>\n",
              "    </tr>\n",
              "  </tbody>\n",
              "</table>\n",
              "<p>1413 rows × 1 columns</p>\n",
              "</div>\n",
              "      <button class=\"colab-df-convert\" onclick=\"convertToInteractive('df-d8b30766-0dbe-48d3-91ae-a989a3238d77')\"\n",
              "              title=\"Convert this dataframe to an interactive table.\"\n",
              "              style=\"display:none;\">\n",
              "        \n",
              "  <svg xmlns=\"http://www.w3.org/2000/svg\" height=\"24px\"viewBox=\"0 0 24 24\"\n",
              "       width=\"24px\">\n",
              "    <path d=\"M0 0h24v24H0V0z\" fill=\"none\"/>\n",
              "    <path d=\"M18.56 5.44l.94 2.06.94-2.06 2.06-.94-2.06-.94-.94-2.06-.94 2.06-2.06.94zm-11 1L8.5 8.5l.94-2.06 2.06-.94-2.06-.94L8.5 2.5l-.94 2.06-2.06.94zm10 10l.94 2.06.94-2.06 2.06-.94-2.06-.94-.94-2.06-.94 2.06-2.06.94z\"/><path d=\"M17.41 7.96l-1.37-1.37c-.4-.4-.92-.59-1.43-.59-.52 0-1.04.2-1.43.59L10.3 9.45l-7.72 7.72c-.78.78-.78 2.05 0 2.83L4 21.41c.39.39.9.59 1.41.59.51 0 1.02-.2 1.41-.59l7.78-7.78 2.81-2.81c.8-.78.8-2.07 0-2.86zM5.41 20L4 18.59l7.72-7.72 1.47 1.35L5.41 20z\"/>\n",
              "  </svg>\n",
              "      </button>\n",
              "      \n",
              "  <style>\n",
              "    .colab-df-container {\n",
              "      display:flex;\n",
              "      flex-wrap:wrap;\n",
              "      gap: 12px;\n",
              "    }\n",
              "\n",
              "    .colab-df-convert {\n",
              "      background-color: #E8F0FE;\n",
              "      border: none;\n",
              "      border-radius: 50%;\n",
              "      cursor: pointer;\n",
              "      display: none;\n",
              "      fill: #1967D2;\n",
              "      height: 32px;\n",
              "      padding: 0 0 0 0;\n",
              "      width: 32px;\n",
              "    }\n",
              "\n",
              "    .colab-df-convert:hover {\n",
              "      background-color: #E2EBFA;\n",
              "      box-shadow: 0px 1px 2px rgba(60, 64, 67, 0.3), 0px 1px 3px 1px rgba(60, 64, 67, 0.15);\n",
              "      fill: #174EA6;\n",
              "    }\n",
              "\n",
              "    [theme=dark] .colab-df-convert {\n",
              "      background-color: #3B4455;\n",
              "      fill: #D2E3FC;\n",
              "    }\n",
              "\n",
              "    [theme=dark] .colab-df-convert:hover {\n",
              "      background-color: #434B5C;\n",
              "      box-shadow: 0px 1px 3px 1px rgba(0, 0, 0, 0.15);\n",
              "      filter: drop-shadow(0px 1px 2px rgba(0, 0, 0, 0.3));\n",
              "      fill: #FFFFFF;\n",
              "    }\n",
              "  </style>\n",
              "\n",
              "      <script>\n",
              "        const buttonEl =\n",
              "          document.querySelector('#df-d8b30766-0dbe-48d3-91ae-a989a3238d77 button.colab-df-convert');\n",
              "        buttonEl.style.display =\n",
              "          google.colab.kernel.accessAllowed ? 'block' : 'none';\n",
              "\n",
              "        async function convertToInteractive(key) {\n",
              "          const element = document.querySelector('#df-d8b30766-0dbe-48d3-91ae-a989a3238d77');\n",
              "          const dataTable =\n",
              "            await google.colab.kernel.invokeFunction('convertToInteractive',\n",
              "                                                     [key], {});\n",
              "          if (!dataTable) return;\n",
              "\n",
              "          const docLinkHtml = 'Like what you see? Visit the ' +\n",
              "            '<a target=\"_blank\" href=https://colab.research.google.com/notebooks/data_table.ipynb>data table notebook</a>'\n",
              "            + ' to learn more about interactive tables.';\n",
              "          element.innerHTML = '';\n",
              "          dataTable['output_type'] = 'display_data';\n",
              "          await google.colab.output.renderOutput(dataTable, element);\n",
              "          const docLink = document.createElement('div');\n",
              "          docLink.innerHTML = docLinkHtml;\n",
              "          element.appendChild(docLink);\n",
              "        }\n",
              "      </script>\n",
              "    </div>\n",
              "  </div>\n",
              "  "
            ]
          },
          "metadata": {},
          "execution_count": 58
        }
      ]
    },
    {
      "cell_type": "code",
      "source": [
        "X_train.shape,y_train.shape"
      ],
      "metadata": {
        "colab": {
          "base_uri": "https://localhost:8080/"
        },
        "id": "m8RaxB4qdWPN",
        "outputId": "ca7822e3-9acc-48ab-c960-84a4b673c40d"
      },
      "execution_count": null,
      "outputs": [
        {
          "output_type": "execute_result",
          "data": {
            "text/plain": [
              "((1413, 1), (471, 1))"
            ]
          },
          "metadata": {},
          "execution_count": 59
        }
      ]
    },
    {
      "cell_type": "code",
      "source": [
        "X_test.shape,y_test.shape"
      ],
      "metadata": {
        "colab": {
          "base_uri": "https://localhost:8080/"
        },
        "id": "bmP1paC7nof8",
        "outputId": "b132dae6-3f9c-49ba-a61c-4d149111eac5"
      },
      "execution_count": null,
      "outputs": [
        {
          "output_type": "execute_result",
          "data": {
            "text/plain": [
              "((1413,), (471,))"
            ]
          },
          "metadata": {},
          "execution_count": 60
        }
      ]
    },
    {
      "cell_type": "markdown",
      "source": [
        "### Select a Model- Regression"
      ],
      "metadata": {
        "id": "X7sYQRGzvPfU"
      }
    },
    {
      "cell_type": "code",
      "source": [
        "from sklearn.linear_model import LinearRegression\n",
        "model = LinearRegression()"
      ],
      "metadata": {
        "id": "DiYNStQtdWaJ"
      },
      "execution_count": null,
      "outputs": []
    },
    {
      "cell_type": "markdown",
      "source": [
        "### Train the model"
      ],
      "metadata": {
        "id": "qrkcurTjvWwt"
      }
    },
    {
      "cell_type": "code",
      "source": [
        "model.fit(X_train,X_train)"
      ],
      "metadata": {
        "colab": {
          "base_uri": "https://localhost:8080/",
          "height": 74
        },
        "id": "cEzC5ACldWdM",
        "outputId": "4f9044a0-33e5-4e4c-fc54-c3a9cbd4a8e6"
      },
      "execution_count": null,
      "outputs": [
        {
          "output_type": "execute_result",
          "data": {
            "text/plain": [
              "LinearRegression()"
            ],
            "text/html": [
              "<style>#sk-container-id-1 {color: black;background-color: white;}#sk-container-id-1 pre{padding: 0;}#sk-container-id-1 div.sk-toggleable {background-color: white;}#sk-container-id-1 label.sk-toggleable__label {cursor: pointer;display: block;width: 100%;margin-bottom: 0;padding: 0.3em;box-sizing: border-box;text-align: center;}#sk-container-id-1 label.sk-toggleable__label-arrow:before {content: \"▸\";float: left;margin-right: 0.25em;color: #696969;}#sk-container-id-1 label.sk-toggleable__label-arrow:hover:before {color: black;}#sk-container-id-1 div.sk-estimator:hover label.sk-toggleable__label-arrow:before {color: black;}#sk-container-id-1 div.sk-toggleable__content {max-height: 0;max-width: 0;overflow: hidden;text-align: left;background-color: #f0f8ff;}#sk-container-id-1 div.sk-toggleable__content pre {margin: 0.2em;color: black;border-radius: 0.25em;background-color: #f0f8ff;}#sk-container-id-1 input.sk-toggleable__control:checked~div.sk-toggleable__content {max-height: 200px;max-width: 100%;overflow: auto;}#sk-container-id-1 input.sk-toggleable__control:checked~label.sk-toggleable__label-arrow:before {content: \"▾\";}#sk-container-id-1 div.sk-estimator input.sk-toggleable__control:checked~label.sk-toggleable__label {background-color: #d4ebff;}#sk-container-id-1 div.sk-label input.sk-toggleable__control:checked~label.sk-toggleable__label {background-color: #d4ebff;}#sk-container-id-1 input.sk-hidden--visually {border: 0;clip: rect(1px 1px 1px 1px);clip: rect(1px, 1px, 1px, 1px);height: 1px;margin: -1px;overflow: hidden;padding: 0;position: absolute;width: 1px;}#sk-container-id-1 div.sk-estimator {font-family: monospace;background-color: #f0f8ff;border: 1px dotted black;border-radius: 0.25em;box-sizing: border-box;margin-bottom: 0.5em;}#sk-container-id-1 div.sk-estimator:hover {background-color: #d4ebff;}#sk-container-id-1 div.sk-parallel-item::after {content: \"\";width: 100%;border-bottom: 1px solid gray;flex-grow: 1;}#sk-container-id-1 div.sk-label:hover label.sk-toggleable__label {background-color: #d4ebff;}#sk-container-id-1 div.sk-serial::before {content: \"\";position: absolute;border-left: 1px solid gray;box-sizing: border-box;top: 0;bottom: 0;left: 50%;z-index: 0;}#sk-container-id-1 div.sk-serial {display: flex;flex-direction: column;align-items: center;background-color: white;padding-right: 0.2em;padding-left: 0.2em;position: relative;}#sk-container-id-1 div.sk-item {position: relative;z-index: 1;}#sk-container-id-1 div.sk-parallel {display: flex;align-items: stretch;justify-content: center;background-color: white;position: relative;}#sk-container-id-1 div.sk-item::before, #sk-container-id-1 div.sk-parallel-item::before {content: \"\";position: absolute;border-left: 1px solid gray;box-sizing: border-box;top: 0;bottom: 0;left: 50%;z-index: -1;}#sk-container-id-1 div.sk-parallel-item {display: flex;flex-direction: column;z-index: 1;position: relative;background-color: white;}#sk-container-id-1 div.sk-parallel-item:first-child::after {align-self: flex-end;width: 50%;}#sk-container-id-1 div.sk-parallel-item:last-child::after {align-self: flex-start;width: 50%;}#sk-container-id-1 div.sk-parallel-item:only-child::after {width: 0;}#sk-container-id-1 div.sk-dashed-wrapped {border: 1px dashed gray;margin: 0 0.4em 0.5em 0.4em;box-sizing: border-box;padding-bottom: 0.4em;background-color: white;}#sk-container-id-1 div.sk-label label {font-family: monospace;font-weight: bold;display: inline-block;line-height: 1.2em;}#sk-container-id-1 div.sk-label-container {text-align: center;}#sk-container-id-1 div.sk-container {/* jupyter's `normalize.less` sets `[hidden] { display: none; }` but bootstrap.min.css set `[hidden] { display: none !important; }` so we also need the `!important` here to be able to override the default hidden behavior on the sphinx rendered scikit-learn.org. See: https://github.com/scikit-learn/scikit-learn/issues/21755 */display: inline-block !important;position: relative;}#sk-container-id-1 div.sk-text-repr-fallback {display: none;}</style><div id=\"sk-container-id-1\" class=\"sk-top-container\"><div class=\"sk-text-repr-fallback\"><pre>LinearRegression()</pre><b>In a Jupyter environment, please rerun this cell to show the HTML representation or trust the notebook. <br />On GitHub, the HTML representation is unable to render, please try loading this page with nbviewer.org.</b></div><div class=\"sk-container\" hidden><div class=\"sk-item\"><div class=\"sk-estimator sk-toggleable\"><input class=\"sk-toggleable__control sk-hidden--visually\" id=\"sk-estimator-id-1\" type=\"checkbox\" checked><label for=\"sk-estimator-id-1\" class=\"sk-toggleable__label sk-toggleable__label-arrow\">LinearRegression</label><div class=\"sk-toggleable__content\"><pre>LinearRegression()</pre></div></div></div></div></div>"
            ]
          },
          "metadata": {},
          "execution_count": 62
        }
      ]
    },
    {
      "cell_type": "code",
      "source": [
        "model.intercept_"
      ],
      "metadata": {
        "colab": {
          "base_uri": "https://localhost:8080/"
        },
        "id": "4Q2KilKsdWgE",
        "outputId": "0f8c1fce-ce49-441d-9c7b-73c2c9baf5ea"
      },
      "execution_count": null,
      "outputs": [
        {
          "output_type": "execute_result",
          "data": {
            "text/plain": [
              "array([1.0658141e-14])"
            ]
          },
          "metadata": {},
          "execution_count": 63
        }
      ]
    },
    {
      "cell_type": "code",
      "source": [
        "model.coef_"
      ],
      "metadata": {
        "colab": {
          "base_uri": "https://localhost:8080/"
        },
        "id": "e4pRJjTjdWjB",
        "outputId": "3b32b2b4-31a1-4000-9656-96833397db17"
      },
      "execution_count": null,
      "outputs": [
        {
          "output_type": "execute_result",
          "data": {
            "text/plain": [
              "array([[1.]])"
            ]
          },
          "metadata": {},
          "execution_count": 64
        }
      ]
    },
    {
      "cell_type": "markdown",
      "source": [
        "### Predict"
      ],
      "metadata": {
        "id": "axk95x8JvfyM"
      }
    },
    {
      "cell_type": "code",
      "source": [
        " y_predict = model.predict(y_train)"
      ],
      "metadata": {
        "id": "VagBN2pgdWly"
      },
      "execution_count": null,
      "outputs": []
    },
    {
      "cell_type": "markdown",
      "source": [
        "### Accuracy"
      ],
      "metadata": {
        "id": "-FsbjrZDvkr8"
      }
    },
    {
      "cell_type": "code",
      "source": [
        "from sklearn.metrics import mean_absolute_percentage_error"
      ],
      "metadata": {
        "id": "sO1y3XDZdWoq"
      },
      "execution_count": null,
      "outputs": []
    },
    {
      "cell_type": "code",
      "source": [
        "mean_absolute_percentage_error(y_train,y_predict)"
      ],
      "metadata": {
        "colab": {
          "base_uri": "https://localhost:8080/"
        },
        "id": "LkaLW-ejdWrp",
        "outputId": "c5e9f7e8-427d-4c2f-86c5-ddba5c94e6bd"
      },
      "execution_count": null,
      "outputs": [
        {
          "output_type": "execute_result",
          "data": {
            "text/plain": [
              "0.8152866242038224"
            ]
          },
          "metadata": {},
          "execution_count": 67
        }
      ]
    },
    {
      "cell_type": "markdown",
      "source": [
        "###Accuracy is 81%"
      ],
      "metadata": {
        "id": "4cXfsjxjzgmD"
      }
    },
    {
      "cell_type": "markdown",
      "source": [
        "###Select a model- classification"
      ],
      "metadata": {
        "id": "XhY0VNoWvvEz"
      }
    },
    {
      "cell_type": "code",
      "source": [
        "from sklearn.linear_model import LogisticRegression\n",
        "model = LogisticRegression(max_iter=500)"
      ],
      "metadata": {
        "id": "Dg1bcDOsdWuA"
      },
      "execution_count": null,
      "outputs": []
    },
    {
      "cell_type": "code",
      "source": [
        "model.fit(X_train,X_train)"
      ],
      "metadata": {
        "colab": {
          "base_uri": "https://localhost:8080/",
          "height": 129
        },
        "id": "HNxiI-radWxb",
        "outputId": "219f31a8-d5f1-4a64-ede8-51687d562dba"
      },
      "execution_count": null,
      "outputs": [
        {
          "output_type": "stream",
          "name": "stderr",
          "text": [
            "/usr/local/lib/python3.9/dist-packages/sklearn/utils/validation.py:1143: DataConversionWarning: A column-vector y was passed when a 1d array was expected. Please change the shape of y to (n_samples, ), for example using ravel().\n",
            "  y = column_or_1d(y, warn=True)\n"
          ]
        },
        {
          "output_type": "execute_result",
          "data": {
            "text/plain": [
              "LogisticRegression(max_iter=500)"
            ],
            "text/html": [
              "<style>#sk-container-id-2 {color: black;background-color: white;}#sk-container-id-2 pre{padding: 0;}#sk-container-id-2 div.sk-toggleable {background-color: white;}#sk-container-id-2 label.sk-toggleable__label {cursor: pointer;display: block;width: 100%;margin-bottom: 0;padding: 0.3em;box-sizing: border-box;text-align: center;}#sk-container-id-2 label.sk-toggleable__label-arrow:before {content: \"▸\";float: left;margin-right: 0.25em;color: #696969;}#sk-container-id-2 label.sk-toggleable__label-arrow:hover:before {color: black;}#sk-container-id-2 div.sk-estimator:hover label.sk-toggleable__label-arrow:before {color: black;}#sk-container-id-2 div.sk-toggleable__content {max-height: 0;max-width: 0;overflow: hidden;text-align: left;background-color: #f0f8ff;}#sk-container-id-2 div.sk-toggleable__content pre {margin: 0.2em;color: black;border-radius: 0.25em;background-color: #f0f8ff;}#sk-container-id-2 input.sk-toggleable__control:checked~div.sk-toggleable__content {max-height: 200px;max-width: 100%;overflow: auto;}#sk-container-id-2 input.sk-toggleable__control:checked~label.sk-toggleable__label-arrow:before {content: \"▾\";}#sk-container-id-2 div.sk-estimator input.sk-toggleable__control:checked~label.sk-toggleable__label {background-color: #d4ebff;}#sk-container-id-2 div.sk-label input.sk-toggleable__control:checked~label.sk-toggleable__label {background-color: #d4ebff;}#sk-container-id-2 input.sk-hidden--visually {border: 0;clip: rect(1px 1px 1px 1px);clip: rect(1px, 1px, 1px, 1px);height: 1px;margin: -1px;overflow: hidden;padding: 0;position: absolute;width: 1px;}#sk-container-id-2 div.sk-estimator {font-family: monospace;background-color: #f0f8ff;border: 1px dotted black;border-radius: 0.25em;box-sizing: border-box;margin-bottom: 0.5em;}#sk-container-id-2 div.sk-estimator:hover {background-color: #d4ebff;}#sk-container-id-2 div.sk-parallel-item::after {content: \"\";width: 100%;border-bottom: 1px solid gray;flex-grow: 1;}#sk-container-id-2 div.sk-label:hover label.sk-toggleable__label {background-color: #d4ebff;}#sk-container-id-2 div.sk-serial::before {content: \"\";position: absolute;border-left: 1px solid gray;box-sizing: border-box;top: 0;bottom: 0;left: 50%;z-index: 0;}#sk-container-id-2 div.sk-serial {display: flex;flex-direction: column;align-items: center;background-color: white;padding-right: 0.2em;padding-left: 0.2em;position: relative;}#sk-container-id-2 div.sk-item {position: relative;z-index: 1;}#sk-container-id-2 div.sk-parallel {display: flex;align-items: stretch;justify-content: center;background-color: white;position: relative;}#sk-container-id-2 div.sk-item::before, #sk-container-id-2 div.sk-parallel-item::before {content: \"\";position: absolute;border-left: 1px solid gray;box-sizing: border-box;top: 0;bottom: 0;left: 50%;z-index: -1;}#sk-container-id-2 div.sk-parallel-item {display: flex;flex-direction: column;z-index: 1;position: relative;background-color: white;}#sk-container-id-2 div.sk-parallel-item:first-child::after {align-self: flex-end;width: 50%;}#sk-container-id-2 div.sk-parallel-item:last-child::after {align-self: flex-start;width: 50%;}#sk-container-id-2 div.sk-parallel-item:only-child::after {width: 0;}#sk-container-id-2 div.sk-dashed-wrapped {border: 1px dashed gray;margin: 0 0.4em 0.5em 0.4em;box-sizing: border-box;padding-bottom: 0.4em;background-color: white;}#sk-container-id-2 div.sk-label label {font-family: monospace;font-weight: bold;display: inline-block;line-height: 1.2em;}#sk-container-id-2 div.sk-label-container {text-align: center;}#sk-container-id-2 div.sk-container {/* jupyter's `normalize.less` sets `[hidden] { display: none; }` but bootstrap.min.css set `[hidden] { display: none !important; }` so we also need the `!important` here to be able to override the default hidden behavior on the sphinx rendered scikit-learn.org. See: https://github.com/scikit-learn/scikit-learn/issues/21755 */display: inline-block !important;position: relative;}#sk-container-id-2 div.sk-text-repr-fallback {display: none;}</style><div id=\"sk-container-id-2\" class=\"sk-top-container\"><div class=\"sk-text-repr-fallback\"><pre>LogisticRegression(max_iter=500)</pre><b>In a Jupyter environment, please rerun this cell to show the HTML representation or trust the notebook. <br />On GitHub, the HTML representation is unable to render, please try loading this page with nbviewer.org.</b></div><div class=\"sk-container\" hidden><div class=\"sk-item\"><div class=\"sk-estimator sk-toggleable\"><input class=\"sk-toggleable__control sk-hidden--visually\" id=\"sk-estimator-id-2\" type=\"checkbox\" checked><label for=\"sk-estimator-id-2\" class=\"sk-toggleable__label sk-toggleable__label-arrow\">LogisticRegression</label><div class=\"sk-toggleable__content\"><pre>LogisticRegression(max_iter=500)</pre></div></div></div></div></div>"
            ]
          },
          "metadata": {},
          "execution_count": 69
        }
      ]
    },
    {
      "cell_type": "code",
      "source": [
        "y_predict=model.predict(X_train)"
      ],
      "metadata": {
        "id": "kc6pTvm_dW2T"
      },
      "execution_count": null,
      "outputs": []
    },
    {
      "cell_type": "code",
      "source": [
        "model.coef_"
      ],
      "metadata": {
        "colab": {
          "base_uri": "https://localhost:8080/"
        },
        "id": "sDbH8gbvdW5M",
        "outputId": "b610052d-3f9e-45fb-e780-bd7f5ef9f6b0"
      },
      "execution_count": null,
      "outputs": [
        {
          "output_type": "execute_result",
          "data": {
            "text/plain": [
              "array([[-7.7896063 ],\n",
              "       [-6.09663695],\n",
              "       [-4.92512865],\n",
              "       [-2.52043754],\n",
              "       [ 1.17310774],\n",
              "       [ 6.58807366],\n",
              "       [13.57062804]])"
            ]
          },
          "metadata": {},
          "execution_count": 71
        }
      ]
    },
    {
      "cell_type": "code",
      "source": [
        "y_predict = model.predict(y_train)"
      ],
      "metadata": {
        "id": "OFLcRTqndW7q"
      },
      "execution_count": null,
      "outputs": []
    },
    {
      "cell_type": "code",
      "source": [
        "from sklearn.metrics import classification_report"
      ],
      "metadata": {
        "id": "RKyEveUPdW_N"
      },
      "execution_count": null,
      "outputs": []
    },
    {
      "cell_type": "code",
      "source": [
        "classification_report(y_test,y_predict)"
      ],
      "metadata": {
        "colab": {
          "base_uri": "https://localhost:8080/",
          "height": 212
        },
        "id": "v_cxCic0qel2",
        "outputId": "5f3b20e7-3c20-4cd3-ac17-bfe030e0cc24"
      },
      "execution_count": null,
      "outputs": [
        {
          "output_type": "stream",
          "name": "stderr",
          "text": [
            "/usr/local/lib/python3.9/dist-packages/sklearn/metrics/_classification.py:1344: UndefinedMetricWarning: Precision and F-score are ill-defined and being set to 0.0 in labels with no predicted samples. Use `zero_division` parameter to control this behavior.\n",
            "  _warn_prf(average, modifier, msg_start, len(result))\n",
            "/usr/local/lib/python3.9/dist-packages/sklearn/metrics/_classification.py:1344: UndefinedMetricWarning: Precision and F-score are ill-defined and being set to 0.0 in labels with no predicted samples. Use `zero_division` parameter to control this behavior.\n",
            "  _warn_prf(average, modifier, msg_start, len(result))\n",
            "/usr/local/lib/python3.9/dist-packages/sklearn/metrics/_classification.py:1344: UndefinedMetricWarning: Precision and F-score are ill-defined and being set to 0.0 in labels with no predicted samples. Use `zero_division` parameter to control this behavior.\n",
            "  _warn_prf(average, modifier, msg_start, len(result))\n"
          ]
        },
        {
          "output_type": "execute_result",
          "data": {
            "text/plain": [
              "'              precision    recall  f1-score   support\\n\\n           0       0.88      0.02      0.03       392\\n           1       0.00      0.00      0.00        25\\n           2       0.04      0.05      0.04        22\\n           3       0.13      0.35      0.19        20\\n           4       0.03      0.40      0.05         5\\n           5       0.00      0.00      0.00         6\\n           6       0.00      0.00      0.00         1\\n\\n    accuracy                           0.04       471\\n   macro avg       0.15      0.12      0.05       471\\nweighted avg       0.74      0.04      0.04       471\\n'"
            ],
            "application/vnd.google.colaboratory.intrinsic+json": {
              "type": "string"
            }
          },
          "metadata": {},
          "execution_count": 74
        }
      ]
    },
    {
      "cell_type": "code",
      "source": [
        "print(classification_report(y_test,y_predict))"
      ],
      "metadata": {
        "colab": {
          "base_uri": "https://localhost:8080/"
        },
        "id": "tc0TtKQ5qgUC",
        "outputId": "d365f7c9-de87-427e-ca65-336969e10ccf"
      },
      "execution_count": null,
      "outputs": [
        {
          "output_type": "stream",
          "name": "stdout",
          "text": [
            "              precision    recall  f1-score   support\n",
            "\n",
            "           0       0.88      0.02      0.03       392\n",
            "           1       0.00      0.00      0.00        25\n",
            "           2       0.04      0.05      0.04        22\n",
            "           3       0.13      0.35      0.19        20\n",
            "           4       0.03      0.40      0.05         5\n",
            "           5       0.00      0.00      0.00         6\n",
            "           6       0.00      0.00      0.00         1\n",
            "\n",
            "    accuracy                           0.04       471\n",
            "   macro avg       0.15      0.12      0.05       471\n",
            "weighted avg       0.74      0.04      0.04       471\n",
            "\n"
          ]
        },
        {
          "output_type": "stream",
          "name": "stderr",
          "text": [
            "/usr/local/lib/python3.9/dist-packages/sklearn/metrics/_classification.py:1344: UndefinedMetricWarning: Precision and F-score are ill-defined and being set to 0.0 in labels with no predicted samples. Use `zero_division` parameter to control this behavior.\n",
            "  _warn_prf(average, modifier, msg_start, len(result))\n",
            "/usr/local/lib/python3.9/dist-packages/sklearn/metrics/_classification.py:1344: UndefinedMetricWarning: Precision and F-score are ill-defined and being set to 0.0 in labels with no predicted samples. Use `zero_division` parameter to control this behavior.\n",
            "  _warn_prf(average, modifier, msg_start, len(result))\n",
            "/usr/local/lib/python3.9/dist-packages/sklearn/metrics/_classification.py:1344: UndefinedMetricWarning: Precision and F-score are ill-defined and being set to 0.0 in labels with no predicted samples. Use `zero_division` parameter to control this behavior.\n",
            "  _warn_prf(average, modifier, msg_start, len(result))\n"
          ]
        }
      ]
    },
    {
      "cell_type": "markdown",
      "source": [
        "###Accuracy is 74%"
      ],
      "metadata": {
        "id": "WPcvp5kIzoCj"
      }
    },
    {
      "cell_type": "code",
      "source": [
        "feature_dict = dict(zip(df.columns, list(model.coef_)))\n",
        "feature_dict"
      ],
      "metadata": {
        "id": "XJh2U8T70Hgg",
        "colab": {
          "base_uri": "https://localhost:8080/"
        },
        "outputId": "42bb4665-b2c8-4444-91ab-43ab7d156f8b"
      },
      "execution_count": null,
      "outputs": [
        {
          "output_type": "execute_result",
          "data": {
            "text/plain": [
              "{'ID': array([-7.7896063]),\n",
              " 'Nscore': array([-6.09663695]),\n",
              " 'Escore': array([-4.92512865]),\n",
              " 'Oscore': array([-2.52043754]),\n",
              " 'AScore': array([1.17310774]),\n",
              " 'Cscore': array([6.58807366]),\n",
              " 'Impulsive': array([13.57062804])}"
            ]
          },
          "metadata": {},
          "execution_count": 79
        }
      ]
    },
    {
      "cell_type": "code",
      "source": [
        "features = pd.DataFrame(feature_dict, index=[0])\n",
        "features.T.plot.bar(legend = False)"
      ],
      "metadata": {
        "colab": {
          "base_uri": "https://localhost:8080/",
          "height": 320
        },
        "id": "4CFtC5uruDeK",
        "outputId": "0c8c22aa-6817-4af8-ba99-682b7ab759ec"
      },
      "execution_count": null,
      "outputs": [
        {
          "output_type": "execute_result",
          "data": {
            "text/plain": [
              "<AxesSubplot:>"
            ]
          },
          "metadata": {},
          "execution_count": 80
        },
        {
          "output_type": "display_data",
          "data": {
            "text/plain": [
              "<Figure size 432x288 with 1 Axes>"
            ],
            "image/png": "[encoded data removed]"
          },
          "metadata": {
            "needs_background": "light"
          }
        }
      ]
    },
    {
      "cell_type": "code",
      "source": [],
      "metadata": {
        "id": "R2tryIOqumsi"
      },
      "execution_count": null,
      "outputs": []
    }
  ]
}